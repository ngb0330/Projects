{
 "cells": [
  {
   "cell_type": "code",
   "execution_count": 1,
   "metadata": {},
   "outputs": [],
   "source": [
    "import pandas as pd\n",
    "import numpy as np\n",
    "import json"
   ]
  },
  {
   "cell_type": "code",
   "execution_count": 3,
   "metadata": {},
   "outputs": [
    {
     "data": {
      "text/html": [
       "<div>\n",
       "<style scoped>\n",
       "    .dataframe tbody tr th:only-of-type {\n",
       "        vertical-align: middle;\n",
       "    }\n",
       "\n",
       "    .dataframe tbody tr th {\n",
       "        vertical-align: top;\n",
       "    }\n",
       "\n",
       "    .dataframe thead th {\n",
       "        text-align: right;\n",
       "    }\n",
       "</style>\n",
       "<table border=\"1\" class=\"dataframe\">\n",
       "  <thead>\n",
       "    <tr style=\"text-align: right;\">\n",
       "      <th></th>\n",
       "      <th>comments</th>\n",
       "      <th>description</th>\n",
       "      <th>duration</th>\n",
       "      <th>event</th>\n",
       "      <th>film_date</th>\n",
       "      <th>languages</th>\n",
       "      <th>main_speaker</th>\n",
       "      <th>name</th>\n",
       "      <th>num_speaker</th>\n",
       "      <th>published_date</th>\n",
       "      <th>ratings</th>\n",
       "      <th>related_talks</th>\n",
       "      <th>speaker_occupation</th>\n",
       "      <th>tags</th>\n",
       "      <th>title</th>\n",
       "      <th>url</th>\n",
       "      <th>views</th>\n",
       "    </tr>\n",
       "  </thead>\n",
       "  <tbody>\n",
       "    <tr>\n",
       "      <th>0</th>\n",
       "      <td>4553</td>\n",
       "      <td>Sir Ken Robinson makes an entertaining and pro...</td>\n",
       "      <td>1164</td>\n",
       "      <td>TED2006</td>\n",
       "      <td>1140825600</td>\n",
       "      <td>60</td>\n",
       "      <td>Ken Robinson</td>\n",
       "      <td>Ken Robinson: Do schools kill creativity?</td>\n",
       "      <td>1</td>\n",
       "      <td>1151367060</td>\n",
       "      <td>[{'id': 7, 'name': 'Funny', 'count': 19645}, {...</td>\n",
       "      <td>[{'id': 865, 'hero': 'https://pe.tedcdn.com/im...</td>\n",
       "      <td>Author/educator</td>\n",
       "      <td>['children', 'creativity', 'culture', 'dance',...</td>\n",
       "      <td>Do schools kill creativity?</td>\n",
       "      <td>https://www.ted.com/talks/ken_robinson_says_sc...</td>\n",
       "      <td>47227110</td>\n",
       "    </tr>\n",
       "    <tr>\n",
       "      <th>1</th>\n",
       "      <td>265</td>\n",
       "      <td>With the same humor and humanity he exuded in ...</td>\n",
       "      <td>977</td>\n",
       "      <td>TED2006</td>\n",
       "      <td>1140825600</td>\n",
       "      <td>43</td>\n",
       "      <td>Al Gore</td>\n",
       "      <td>Al Gore: Averting the climate crisis</td>\n",
       "      <td>1</td>\n",
       "      <td>1151367060</td>\n",
       "      <td>[{'id': 7, 'name': 'Funny', 'count': 544}, {'i...</td>\n",
       "      <td>[{'id': 243, 'hero': 'https://pe.tedcdn.com/im...</td>\n",
       "      <td>Climate advocate</td>\n",
       "      <td>['alternative energy', 'cars', 'climate change...</td>\n",
       "      <td>Averting the climate crisis</td>\n",
       "      <td>https://www.ted.com/talks/al_gore_on_averting_...</td>\n",
       "      <td>3200520</td>\n",
       "    </tr>\n",
       "    <tr>\n",
       "      <th>2</th>\n",
       "      <td>124</td>\n",
       "      <td>New York Times columnist David Pogue takes aim...</td>\n",
       "      <td>1286</td>\n",
       "      <td>TED2006</td>\n",
       "      <td>1140739200</td>\n",
       "      <td>26</td>\n",
       "      <td>David Pogue</td>\n",
       "      <td>David Pogue: Simplicity sells</td>\n",
       "      <td>1</td>\n",
       "      <td>1151367060</td>\n",
       "      <td>[{'id': 7, 'name': 'Funny', 'count': 964}, {'i...</td>\n",
       "      <td>[{'id': 1725, 'hero': 'https://pe.tedcdn.com/i...</td>\n",
       "      <td>Technology columnist</td>\n",
       "      <td>['computers', 'entertainment', 'interface desi...</td>\n",
       "      <td>Simplicity sells</td>\n",
       "      <td>https://www.ted.com/talks/david_pogue_says_sim...</td>\n",
       "      <td>1636292</td>\n",
       "    </tr>\n",
       "    <tr>\n",
       "      <th>3</th>\n",
       "      <td>200</td>\n",
       "      <td>In an emotionally charged talk, MacArthur-winn...</td>\n",
       "      <td>1116</td>\n",
       "      <td>TED2006</td>\n",
       "      <td>1140912000</td>\n",
       "      <td>35</td>\n",
       "      <td>Majora Carter</td>\n",
       "      <td>Majora Carter: Greening the ghetto</td>\n",
       "      <td>1</td>\n",
       "      <td>1151367060</td>\n",
       "      <td>[{'id': 3, 'name': 'Courageous', 'count': 760}...</td>\n",
       "      <td>[{'id': 1041, 'hero': 'https://pe.tedcdn.com/i...</td>\n",
       "      <td>Activist for environmental justice</td>\n",
       "      <td>['MacArthur grant', 'activism', 'business', 'c...</td>\n",
       "      <td>Greening the ghetto</td>\n",
       "      <td>https://www.ted.com/talks/majora_carter_s_tale...</td>\n",
       "      <td>1697550</td>\n",
       "    </tr>\n",
       "    <tr>\n",
       "      <th>4</th>\n",
       "      <td>593</td>\n",
       "      <td>You've never seen data presented like this. Wi...</td>\n",
       "      <td>1190</td>\n",
       "      <td>TED2006</td>\n",
       "      <td>1140566400</td>\n",
       "      <td>48</td>\n",
       "      <td>Hans Rosling</td>\n",
       "      <td>Hans Rosling: The best stats you've ever seen</td>\n",
       "      <td>1</td>\n",
       "      <td>1151440680</td>\n",
       "      <td>[{'id': 9, 'name': 'Ingenious', 'count': 3202}...</td>\n",
       "      <td>[{'id': 2056, 'hero': 'https://pe.tedcdn.com/i...</td>\n",
       "      <td>Global health expert; data visionary</td>\n",
       "      <td>['Africa', 'Asia', 'Google', 'demo', 'economic...</td>\n",
       "      <td>The best stats you've ever seen</td>\n",
       "      <td>https://www.ted.com/talks/hans_rosling_shows_t...</td>\n",
       "      <td>12005869</td>\n",
       "    </tr>\n",
       "  </tbody>\n",
       "</table>\n",
       "</div>"
      ],
      "text/plain": [
       "   comments                                        description  duration  \\\n",
       "0      4553  Sir Ken Robinson makes an entertaining and pro...      1164   \n",
       "1       265  With the same humor and humanity he exuded in ...       977   \n",
       "2       124  New York Times columnist David Pogue takes aim...      1286   \n",
       "3       200  In an emotionally charged talk, MacArthur-winn...      1116   \n",
       "4       593  You've never seen data presented like this. Wi...      1190   \n",
       "\n",
       "     event   film_date  languages   main_speaker  \\\n",
       "0  TED2006  1140825600         60   Ken Robinson   \n",
       "1  TED2006  1140825600         43        Al Gore   \n",
       "2  TED2006  1140739200         26    David Pogue   \n",
       "3  TED2006  1140912000         35  Majora Carter   \n",
       "4  TED2006  1140566400         48   Hans Rosling   \n",
       "\n",
       "                                            name  num_speaker  published_date  \\\n",
       "0      Ken Robinson: Do schools kill creativity?            1      1151367060   \n",
       "1           Al Gore: Averting the climate crisis            1      1151367060   \n",
       "2                  David Pogue: Simplicity sells            1      1151367060   \n",
       "3             Majora Carter: Greening the ghetto            1      1151367060   \n",
       "4  Hans Rosling: The best stats you've ever seen            1      1151440680   \n",
       "\n",
       "                                             ratings  \\\n",
       "0  [{'id': 7, 'name': 'Funny', 'count': 19645}, {...   \n",
       "1  [{'id': 7, 'name': 'Funny', 'count': 544}, {'i...   \n",
       "2  [{'id': 7, 'name': 'Funny', 'count': 964}, {'i...   \n",
       "3  [{'id': 3, 'name': 'Courageous', 'count': 760}...   \n",
       "4  [{'id': 9, 'name': 'Ingenious', 'count': 3202}...   \n",
       "\n",
       "                                       related_talks  \\\n",
       "0  [{'id': 865, 'hero': 'https://pe.tedcdn.com/im...   \n",
       "1  [{'id': 243, 'hero': 'https://pe.tedcdn.com/im...   \n",
       "2  [{'id': 1725, 'hero': 'https://pe.tedcdn.com/i...   \n",
       "3  [{'id': 1041, 'hero': 'https://pe.tedcdn.com/i...   \n",
       "4  [{'id': 2056, 'hero': 'https://pe.tedcdn.com/i...   \n",
       "\n",
       "                     speaker_occupation  \\\n",
       "0                       Author/educator   \n",
       "1                      Climate advocate   \n",
       "2                  Technology columnist   \n",
       "3    Activist for environmental justice   \n",
       "4  Global health expert; data visionary   \n",
       "\n",
       "                                                tags  \\\n",
       "0  ['children', 'creativity', 'culture', 'dance',...   \n",
       "1  ['alternative energy', 'cars', 'climate change...   \n",
       "2  ['computers', 'entertainment', 'interface desi...   \n",
       "3  ['MacArthur grant', 'activism', 'business', 'c...   \n",
       "4  ['Africa', 'Asia', 'Google', 'demo', 'economic...   \n",
       "\n",
       "                             title  \\\n",
       "0      Do schools kill creativity?   \n",
       "1      Averting the climate crisis   \n",
       "2                 Simplicity sells   \n",
       "3              Greening the ghetto   \n",
       "4  The best stats you've ever seen   \n",
       "\n",
       "                                                 url     views  \n",
       "0  https://www.ted.com/talks/ken_robinson_says_sc...  47227110  \n",
       "1  https://www.ted.com/talks/al_gore_on_averting_...   3200520  \n",
       "2  https://www.ted.com/talks/david_pogue_says_sim...   1636292  \n",
       "3  https://www.ted.com/talks/majora_carter_s_tale...   1697550  \n",
       "4  https://www.ted.com/talks/hans_rosling_shows_t...  12005869  "
      ]
     },
     "execution_count": 3,
     "metadata": {},
     "output_type": "execute_result"
    }
   ],
   "source": [
    "ted_data = pd.read_csv('https://raw.githubusercontent.com/ngb0330/Projects/master/Datasets/ted_talks.csv')\n",
    "ted_data.head()"
   ]
  },
  {
   "cell_type": "code",
   "execution_count": 205,
   "metadata": {},
   "outputs": [
    {
     "data": {
      "text/plain": [
       "(2550, 17)"
      ]
     },
     "execution_count": 205,
     "metadata": {},
     "output_type": "execute_result"
    }
   ],
   "source": [
    "ted_data.shape"
   ]
  },
  {
   "cell_type": "code",
   "execution_count": 72,
   "metadata": {},
   "outputs": [
    {
     "data": {
      "text/plain": [
       "[{'id': 7, 'name': 'Funny', 'count': 19645},\n",
       " {'id': 1, 'name': 'Beautiful', 'count': 4573},\n",
       " {'id': 9, 'name': 'Ingenious', 'count': 6073},\n",
       " {'id': 3, 'name': 'Courageous', 'count': 3253},\n",
       " {'id': 11, 'name': 'Longwinded', 'count': 387},\n",
       " {'id': 2, 'name': 'Confusing', 'count': 242},\n",
       " {'id': 8, 'name': 'Informative', 'count': 7346},\n",
       " {'id': 22, 'name': 'Fascinating', 'count': 10581},\n",
       " {'id': 21, 'name': 'Unconvincing', 'count': 300},\n",
       " {'id': 24, 'name': 'Persuasive', 'count': 10704},\n",
       " {'id': 23, 'name': 'Jaw-dropping', 'count': 4439},\n",
       " {'id': 25, 'name': 'OK', 'count': 1174},\n",
       " {'id': 26, 'name': 'Obnoxious', 'count': 209},\n",
       " {'id': 10, 'name': 'Inspiring', 'count': 24924}]"
      ]
     },
     "execution_count": 72,
     "metadata": {},
     "output_type": "execute_result"
    }
   ],
   "source": [
    "import ast\n",
    "ast.literal_eval(ted_data['ratings'][0])"
   ]
  },
  {
   "cell_type": "code",
   "execution_count": 142,
   "metadata": {},
   "outputs": [],
   "source": [
    "def str_to_dict_list(original_data, column):\n",
    "    import ast\n",
    "    new_data = original_data.copy()\n",
    "    new_data['{}'.format(column)] = new_data[column].apply(lambda d: ast.literal_eval(str(d)))\n",
    "    return new_data"
   ]
  },
  {
   "cell_type": "code",
   "execution_count": 74,
   "metadata": {},
   "outputs": [],
   "source": [
    "def string_to_list(original_data, column, sep):\n",
    "    new_data = original_data.copy()\n",
    "    new_data['{}_cleaned'.format(column)] = new_data[column].str.strip('][').str.replace(\"'\",'').str.split(sep)\n",
    "    return new_data"
   ]
  },
  {
   "cell_type": "code",
   "execution_count": 76,
   "metadata": {},
   "outputs": [],
   "source": [
    "ted_data_tags_cleaned = string_to_list(ted_data, 'tags', ',')"
   ]
  },
  {
   "cell_type": "code",
   "execution_count": 143,
   "metadata": {},
   "outputs": [
    {
     "data": {
      "text/plain": [
       "{'Beautiful',\n",
       " 'Confusing',\n",
       " 'Courageous',\n",
       " 'Fascinating',\n",
       " 'Funny',\n",
       " 'Informative',\n",
       " 'Ingenious',\n",
       " 'Inspiring',\n",
       " 'Jaw-dropping',\n",
       " 'Longwinded',\n",
       " 'OK',\n",
       " 'Obnoxious',\n",
       " 'Persuasive',\n",
       " 'Unconvincing'}"
      ]
     },
     "execution_count": 143,
     "metadata": {},
     "output_type": "execute_result"
    }
   ],
   "source": [
    "ted_data_2 = str_to_dict_list(ted_data, 'ratings')\n",
    "set([j['name'] for i in ted_data_2['ratings'] for j in i])"
   ]
  },
  {
   "cell_type": "code",
   "execution_count": 101,
   "metadata": {},
   "outputs": [],
   "source": [
    "def get_key_set(dataframe, column, key):\n",
    "    return set(list_row[key] for row in dataframe[column] for list_row in row)"
   ]
  },
  {
   "cell_type": "code",
   "execution_count": 144,
   "metadata": {},
   "outputs": [],
   "source": [
    "key_set = get_key_set(str_to_dict_list(ted_data, 'ratings'), 'ratings', 'name')"
   ]
  },
  {
   "cell_type": "code",
   "execution_count": 140,
   "metadata": {},
   "outputs": [],
   "source": [
    "def add_dict_list_key_counts(dataframe, column, key_set, key1, key2):\n",
    "    new_dataframe = dataframe[[column]].copy()\n",
    "    for i,row in new_dataframe.iterrows():\n",
    "        for dict_item in row[column]:\n",
    "            if dict_item[key1] in key_set:\n",
    "                      new_dataframe.at[i,'{}_{}'.format(dict_item[key1], column)] = dict_item[key2]\n",
    "    return new_dataframe._get_numeric_data()"
   ]
  },
  {
   "cell_type": "code",
   "execution_count": 160,
   "metadata": {},
   "outputs": [],
   "source": [
    "ratings_df = add_dict_list_key_counts(ted_data_2, 'ratings', key_set, 'name', 'count')"
   ]
  },
  {
   "cell_type": "code",
   "execution_count": 169,
   "metadata": {},
   "outputs": [
    {
     "ename": "AttributeError",
     "evalue": "'list' object has no attribute 'strip'",
     "output_type": "error",
     "traceback": [
      "\u001b[0;31m---------------------------------------------------------------------------\u001b[0m",
      "\u001b[0;31mAttributeError\u001b[0m                            Traceback (most recent call last)",
      "\u001b[0;32m<ipython-input-169-ac1673d8d4fb>\u001b[0m in \u001b[0;36m<module>\u001b[0;34m\u001b[0m\n\u001b[0;32m----> 1\u001b[0;31m \u001b[0mted_data_tags_cleaned\u001b[0m\u001b[0;34m[\u001b[0m\u001b[0;34m'tags_cleaned'\u001b[0m\u001b[0;34m]\u001b[0m\u001b[0;34m.\u001b[0m\u001b[0mapply\u001b[0m\u001b[0;34m(\u001b[0m\u001b[0;32mlambda\u001b[0m \u001b[0mx\u001b[0m\u001b[0;34m:\u001b[0m \u001b[0mx\u001b[0m\u001b[0;34m.\u001b[0m\u001b[0mstrip\u001b[0m\u001b[0;34m(\u001b[0m\u001b[0;34m)\u001b[0m\u001b[0;34m)\u001b[0m\u001b[0;34m\u001b[0m\u001b[0;34m\u001b[0m\u001b[0m\n\u001b[0m",
      "\u001b[0;32m/anaconda3/lib/python3.7/site-packages/pandas/core/series.py\u001b[0m in \u001b[0;36mapply\u001b[0;34m(self, func, convert_dtype, args, **kwds)\u001b[0m\n\u001b[1;32m   3589\u001b[0m             \u001b[0;32melse\u001b[0m\u001b[0;34m:\u001b[0m\u001b[0;34m\u001b[0m\u001b[0;34m\u001b[0m\u001b[0m\n\u001b[1;32m   3590\u001b[0m                 \u001b[0mvalues\u001b[0m \u001b[0;34m=\u001b[0m \u001b[0mself\u001b[0m\u001b[0;34m.\u001b[0m\u001b[0mastype\u001b[0m\u001b[0;34m(\u001b[0m\u001b[0mobject\u001b[0m\u001b[0;34m)\u001b[0m\u001b[0;34m.\u001b[0m\u001b[0mvalues\u001b[0m\u001b[0;34m\u001b[0m\u001b[0;34m\u001b[0m\u001b[0m\n\u001b[0;32m-> 3591\u001b[0;31m                 \u001b[0mmapped\u001b[0m \u001b[0;34m=\u001b[0m \u001b[0mlib\u001b[0m\u001b[0;34m.\u001b[0m\u001b[0mmap_infer\u001b[0m\u001b[0;34m(\u001b[0m\u001b[0mvalues\u001b[0m\u001b[0;34m,\u001b[0m \u001b[0mf\u001b[0m\u001b[0;34m,\u001b[0m \u001b[0mconvert\u001b[0m\u001b[0;34m=\u001b[0m\u001b[0mconvert_dtype\u001b[0m\u001b[0;34m)\u001b[0m\u001b[0;34m\u001b[0m\u001b[0;34m\u001b[0m\u001b[0m\n\u001b[0m\u001b[1;32m   3592\u001b[0m \u001b[0;34m\u001b[0m\u001b[0m\n\u001b[1;32m   3593\u001b[0m         \u001b[0;32mif\u001b[0m \u001b[0mlen\u001b[0m\u001b[0;34m(\u001b[0m\u001b[0mmapped\u001b[0m\u001b[0;34m)\u001b[0m \u001b[0;32mand\u001b[0m \u001b[0misinstance\u001b[0m\u001b[0;34m(\u001b[0m\u001b[0mmapped\u001b[0m\u001b[0;34m[\u001b[0m\u001b[0;36m0\u001b[0m\u001b[0;34m]\u001b[0m\u001b[0;34m,\u001b[0m \u001b[0mSeries\u001b[0m\u001b[0;34m)\u001b[0m\u001b[0;34m:\u001b[0m\u001b[0;34m\u001b[0m\u001b[0;34m\u001b[0m\u001b[0m\n",
      "\u001b[0;32mpandas/_libs/lib.pyx\u001b[0m in \u001b[0;36mpandas._libs.lib.map_infer\u001b[0;34m()\u001b[0m\n",
      "\u001b[0;32m<ipython-input-169-ac1673d8d4fb>\u001b[0m in \u001b[0;36m<lambda>\u001b[0;34m(x)\u001b[0m\n\u001b[0;32m----> 1\u001b[0;31m \u001b[0mted_data_tags_cleaned\u001b[0m\u001b[0;34m[\u001b[0m\u001b[0;34m'tags_cleaned'\u001b[0m\u001b[0;34m]\u001b[0m\u001b[0;34m.\u001b[0m\u001b[0mapply\u001b[0m\u001b[0;34m(\u001b[0m\u001b[0;32mlambda\u001b[0m \u001b[0mx\u001b[0m\u001b[0;34m:\u001b[0m \u001b[0mx\u001b[0m\u001b[0;34m.\u001b[0m\u001b[0mstrip\u001b[0m\u001b[0;34m(\u001b[0m\u001b[0;34m)\u001b[0m\u001b[0;34m)\u001b[0m\u001b[0;34m\u001b[0m\u001b[0;34m\u001b[0m\u001b[0m\n\u001b[0m",
      "\u001b[0;31mAttributeError\u001b[0m: 'list' object has no attribute 'strip'"
     ]
    }
   ],
   "source": [
    "ted_data_tags_cleaned['tags_cleaned'].apply(lambda x: x.strip())"
   ]
  },
  {
   "cell_type": "code",
   "execution_count": 79,
   "metadata": {},
   "outputs": [],
   "source": [
    "def add_dummy_tags(original_data):\n",
    "    data = original_data.copy()\n",
    "    tags_list = []\n",
    "    for i in range(data.shape[0]):\n",
    "        for tag in data['tags_cleaned'][i]:\n",
    "            if tag not in tags_list:\n",
    "                tags_list.append(tag)\n",
    "    for tag in tags_list[1:]:\n",
    "        data['has_{}_tag'.format(tag.replace(\"''\", \"\"))] = int(tag in ted_data['tags_cleaned'])\n",
    "    return data"
   ]
  },
  {
   "cell_type": "code",
   "execution_count": 80,
   "metadata": {},
   "outputs": [],
   "source": [
    "def get_values_list(data_frame, column):\n",
    "    column_list = []\n",
    "    for i in range(data_frame.shape[0]):\n",
    "        for value in data_frame[column][i]:\n",
    "            column_list.append(value.strip())\n",
    "    return column_list"
   ]
  },
  {
   "cell_type": "code",
   "execution_count": 81,
   "metadata": {},
   "outputs": [],
   "source": [
    "tags_list = get_values_list(ted_data_tags_cleaned,'tags_cleaned')"
   ]
  },
  {
   "cell_type": "code",
   "execution_count": 82,
   "metadata": {},
   "outputs": [],
   "source": [
    "def get_counts_dict(value_list):\n",
    "    from collections import Counter\n",
    "    cnt = Counter()\n",
    "    for value in value_list:\n",
    "        cnt[value]+=1\n",
    "    return dict(cnt)"
   ]
  },
  {
   "cell_type": "code",
   "execution_count": 83,
   "metadata": {},
   "outputs": [],
   "source": [
    "tags_count = get_counts_dict(tags_list)"
   ]
  },
  {
   "cell_type": "code",
   "execution_count": 84,
   "metadata": {},
   "outputs": [],
   "source": [
    "def get_counts_data_frame(data_frame, counts_dict):\n",
    "    import pandas as pd\n",
    "    key_array,value_array = counts_dict.keys(), counts_dict.values()\n",
    "    value_percentages = [value/data_frame.shape[0] * 100 for value in value_array]\n",
    "    new_data_frame = pd.DataFrame(list(zip(key_array,value_array,value_percentages)), \n",
    "                                 columns = ['Key', 'Value', 'Value_Percentage'])\n",
    "    return new_data_frame"
   ]
  },
  {
   "cell_type": "code",
   "execution_count": 231,
   "metadata": {},
   "outputs": [
    {
     "name": "stderr",
     "output_type": "stream",
     "text": [
      "/anaconda3/lib/python3.7/site-packages/ipykernel_launcher.py:2: UserWarning: Boolean Series key will be reindexed to match DataFrame index.\n",
      "  \n"
     ]
    }
   ],
   "source": [
    "tags_df = get_counts_data_frame(ted_data, tags_count)\n",
    "tags_greater_than_1 = tags_df.sort_values('Value_Percentage', ascending=False)[tags_df['Value_Percentage'] > 1]"
   ]
  },
  {
   "cell_type": "code",
   "execution_count": 227,
   "metadata": {},
   "outputs": [],
   "source": [
    "def add_list_dummies(original_data, column, dummies_list):\n",
    "    data = original_data[[column]].copy()\n",
    "    tags_list = []\n",
    "    for i,row in data.iterrows():\n",
    "        for value in row[column]:\n",
    "            data.at[i,'is_{}_{}'.format(value, column)] = int(value.strip() in dummies_list)\n",
    "    data = data._get_numeric_data().fillna(0)\n",
    "    return data.loc[:, data.sum() > data.shape[0]/100]\n"
   ]
  },
  {
   "cell_type": "code",
   "execution_count": 228,
   "metadata": {},
   "outputs": [],
   "source": [
    "df_tags_dummies = add_list_dummies(ted_data_tags_cleaned, 'tags_cleaned', my_list)"
   ]
  },
  {
   "cell_type": "code",
   "execution_count": 229,
   "metadata": {},
   "outputs": [
    {
     "data": {
      "text/plain": [
       "(2550, 180)"
      ]
     },
     "execution_count": 229,
     "metadata": {},
     "output_type": "execute_result"
    }
   ],
   "source": [
    "df_tags_dummies.shape"
   ]
  },
  {
   "cell_type": "code",
   "execution_count": 233,
   "metadata": {},
   "outputs": [
    {
     "data": {
      "text/plain": [
       "177"
      ]
     },
     "execution_count": 233,
     "metadata": {},
     "output_type": "execute_result"
    }
   ],
   "source": [
    "my_list = list(tags_greater_than_1[\"Key\"].values)\n",
    "len(my_list)"
   ]
  },
  {
   "cell_type": "code",
   "execution_count": 10,
   "metadata": {},
   "outputs": [],
   "source": [
    "def unix_to_datetime(data_frame, column):\n",
    "    import datetime, pandas as pd\n",
    "    new_data_frame = data_frame.copy()\n",
    "    new_data_frame['{}_as_datetime'.format(column)] = new_data_frame[column].apply(lambda d: datetime.datetime.fromtimestamp(int(d)).strftime('%Y-%m-%d %H:%M:%S'))\n",
    "    return new_data_frame"
   ]
  },
  {
   "cell_type": "code",
   "execution_count": 94,
   "metadata": {},
   "outputs": [
    {
     "data": {
      "text/plain": [
       "'2006-02-24 19:00:00'"
      ]
     },
     "execution_count": 94,
     "metadata": {},
     "output_type": "execute_result"
    }
   ],
   "source": [
    "import datetime\n",
    "unixtimestamp = ted_data['film_date'][0]\n",
    "datetime.datetime.fromtimestamp(unixtimestamp).strftime('%Y-%m-%d %H:%M:%S')\n"
   ]
  },
  {
   "cell_type": "code",
   "execution_count": 117,
   "metadata": {},
   "outputs": [
    {
     "data": {
      "text/plain": [
       "0       2006-06-26 20:11:00\n",
       "1       2006-06-26 20:11:00\n",
       "2       2006-06-26 20:11:00\n",
       "3       2006-06-26 20:11:00\n",
       "4       2006-06-27 16:38:00\n",
       "5       2006-06-27 16:38:00\n",
       "6       2006-07-09 20:11:00\n",
       "7       2006-07-09 20:11:00\n",
       "8       2006-07-17 20:11:00\n",
       "9       2006-07-17 20:11:00\n",
       "10      2006-07-24 20:11:00\n",
       "11      2006-07-24 20:11:00\n",
       "12      2006-07-24 20:11:00\n",
       "13      2006-07-31 20:11:00\n",
       "14      2006-07-31 20:11:00\n",
       "15      2006-08-07 20:11:00\n",
       "16      2006-08-07 20:11:00\n",
       "17      2006-08-14 20:11:00\n",
       "18      2006-08-14 20:11:00\n",
       "19      2006-08-20 20:11:00\n",
       "20      2006-08-20 20:11:00\n",
       "21      2006-08-24 20:11:00\n",
       "22      2006-08-24 20:11:00\n",
       "23      2006-09-05 20:11:00\n",
       "24      2006-09-05 20:11:00\n",
       "25      2006-09-11 20:11:00\n",
       "26      2006-09-11 20:11:00\n",
       "27      2006-09-18 20:11:00\n",
       "28      2006-09-18 20:11:00\n",
       "29      2006-09-25 20:11:00\n",
       "               ...         \n",
       "2520    2017-08-24 10:51:28\n",
       "2521    2017-08-24 16:00:06\n",
       "2522    2017-08-25 10:57:57\n",
       "2523    2017-08-28 10:54:35\n",
       "2524    2017-08-29 10:36:36\n",
       "2525    2017-08-29 16:00:46\n",
       "2526    2017-08-30 11:00:51\n",
       "2527    2017-08-31 10:49:04\n",
       "2528    2017-08-31 16:00:31\n",
       "2529    2017-09-01 10:29:03\n",
       "2530    2017-09-05 10:59:15\n",
       "2531    2017-09-05 16:00:24\n",
       "2532    2017-09-06 10:48:37\n",
       "2533    2017-09-07 10:54:08\n",
       "2534    2017-09-07 16:00:38\n",
       "2535    2017-09-08 10:51:06\n",
       "2536    2017-09-11 11:01:00\n",
       "2537    2017-09-12 10:42:56\n",
       "2538    2017-09-12 16:00:51\n",
       "2539    2017-09-13 10:45:42\n",
       "2540    2017-09-14 10:50:04\n",
       "2541    2017-09-14 16:00:02\n",
       "2542    2017-09-15 11:08:13\n",
       "2543    2017-09-18 11:14:47\n",
       "2544    2017-09-19 11:06:53\n",
       "2545    2017-09-19 16:00:16\n",
       "2546    2017-09-20 11:02:17\n",
       "2547    2017-09-21 11:01:35\n",
       "2548    2017-09-21 16:00:42\n",
       "2549    2017-09-22 11:00:22\n",
       "Name: published_date_as_datetime, Length: 2550, dtype: object"
      ]
     },
     "execution_count": 117,
     "metadata": {},
     "output_type": "execute_result"
    }
   ],
   "source": [
    "unix_to_datetime(ted_data, 'published_date')['published_date_as_datetime']"
   ]
  },
  {
   "cell_type": "code",
   "execution_count": 124,
   "metadata": {},
   "outputs": [],
   "source": [
    "def string_column_length(data_frame, column):\n",
    "    new_data_frame = data_frame.copy()\n",
    "    new_data_frame['{}_length'.format(column)] = new_data_frame[column].str.len()\n",
    "    return new_data_frame"
   ]
  },
  {
   "cell_type": "code",
   "execution_count": 130,
   "metadata": {},
   "outputs": [],
   "source": [
    "new_data_frame = string_column_length(ted_data, 'title')"
   ]
  },
  {
   "cell_type": "code",
   "execution_count": 8,
   "metadata": {},
   "outputs": [],
   "source": [
    "from date_lib import add_datepart"
   ]
  },
  {
   "cell_type": "code",
   "execution_count": 9,
   "metadata": {},
   "outputs": [],
   "source": [
    "def generate_new_date_columns(dates_df):\n",
    "    copied_dates_df = dates_df.copy()\n",
    "    for col in copied_dates_df.columns:\n",
    "        add_datepart(copied_dates_df, col)\n",
    "    return copied_dates_df"
   ]
  },
  {
   "cell_type": "code",
   "execution_count": 11,
   "metadata": {},
   "outputs": [],
   "source": [
    "ted_data_3 = unix_to_datetime(ted_data, 'film_date')"
   ]
  },
  {
   "cell_type": "code",
   "execution_count": 13,
   "metadata": {},
   "outputs": [],
   "source": [
    "ted_data_4 = unix_to_datetime(ted_data_3, 'published_date')"
   ]
  },
  {
   "cell_type": "code",
   "execution_count": 16,
   "metadata": {},
   "outputs": [],
   "source": [
    "ted_data_date_parts = generate_new_date_columns(ted_data_4[['film_date_as_datetime', 'published_date_as_datetime']])"
   ]
  },
  {
   "cell_type": "code",
   "execution_count": 17,
   "metadata": {},
   "outputs": [
    {
     "data": {
      "text/html": [
       "<div>\n",
       "<style scoped>\n",
       "    .dataframe tbody tr th:only-of-type {\n",
       "        vertical-align: middle;\n",
       "    }\n",
       "\n",
       "    .dataframe tbody tr th {\n",
       "        vertical-align: top;\n",
       "    }\n",
       "\n",
       "    .dataframe thead th {\n",
       "        text-align: right;\n",
       "    }\n",
       "</style>\n",
       "<table border=\"1\" class=\"dataframe\">\n",
       "  <thead>\n",
       "    <tr style=\"text-align: right;\">\n",
       "      <th></th>\n",
       "      <th>film_date_as_datetimeYear</th>\n",
       "      <th>film_date_as_datetimeMonth</th>\n",
       "      <th>film_date_as_datetimeWeek</th>\n",
       "      <th>film_date_as_datetimeDay</th>\n",
       "      <th>film_date_as_datetimeDayofweek</th>\n",
       "      <th>film_date_as_datetimeDayofyear</th>\n",
       "      <th>film_date_as_datetimeIs_month_end</th>\n",
       "      <th>film_date_as_datetimeIs_month_start</th>\n",
       "      <th>film_date_as_datetimeIs_quarter_end</th>\n",
       "      <th>film_date_as_datetimeIs_quarter_start</th>\n",
       "      <th>...</th>\n",
       "      <th>published_date_as_datetimeDay</th>\n",
       "      <th>published_date_as_datetimeDayofweek</th>\n",
       "      <th>published_date_as_datetimeDayofyear</th>\n",
       "      <th>published_date_as_datetimeIs_month_end</th>\n",
       "      <th>published_date_as_datetimeIs_month_start</th>\n",
       "      <th>published_date_as_datetimeIs_quarter_end</th>\n",
       "      <th>published_date_as_datetimeIs_quarter_start</th>\n",
       "      <th>published_date_as_datetimeIs_year_end</th>\n",
       "      <th>published_date_as_datetimeIs_year_start</th>\n",
       "      <th>published_date_as_datetimeElapsed</th>\n",
       "    </tr>\n",
       "  </thead>\n",
       "  <tbody>\n",
       "    <tr>\n",
       "      <th>0</th>\n",
       "      <td>2006</td>\n",
       "      <td>2</td>\n",
       "      <td>8</td>\n",
       "      <td>24</td>\n",
       "      <td>4</td>\n",
       "      <td>55</td>\n",
       "      <td>False</td>\n",
       "      <td>False</td>\n",
       "      <td>False</td>\n",
       "      <td>False</td>\n",
       "      <td>...</td>\n",
       "      <td>26</td>\n",
       "      <td>0</td>\n",
       "      <td>177</td>\n",
       "      <td>False</td>\n",
       "      <td>False</td>\n",
       "      <td>False</td>\n",
       "      <td>False</td>\n",
       "      <td>False</td>\n",
       "      <td>False</td>\n",
       "      <td>1151352660</td>\n",
       "    </tr>\n",
       "    <tr>\n",
       "      <th>1</th>\n",
       "      <td>2006</td>\n",
       "      <td>2</td>\n",
       "      <td>8</td>\n",
       "      <td>24</td>\n",
       "      <td>4</td>\n",
       "      <td>55</td>\n",
       "      <td>False</td>\n",
       "      <td>False</td>\n",
       "      <td>False</td>\n",
       "      <td>False</td>\n",
       "      <td>...</td>\n",
       "      <td>26</td>\n",
       "      <td>0</td>\n",
       "      <td>177</td>\n",
       "      <td>False</td>\n",
       "      <td>False</td>\n",
       "      <td>False</td>\n",
       "      <td>False</td>\n",
       "      <td>False</td>\n",
       "      <td>False</td>\n",
       "      <td>1151352660</td>\n",
       "    </tr>\n",
       "    <tr>\n",
       "      <th>2</th>\n",
       "      <td>2006</td>\n",
       "      <td>2</td>\n",
       "      <td>8</td>\n",
       "      <td>23</td>\n",
       "      <td>3</td>\n",
       "      <td>54</td>\n",
       "      <td>False</td>\n",
       "      <td>False</td>\n",
       "      <td>False</td>\n",
       "      <td>False</td>\n",
       "      <td>...</td>\n",
       "      <td>26</td>\n",
       "      <td>0</td>\n",
       "      <td>177</td>\n",
       "      <td>False</td>\n",
       "      <td>False</td>\n",
       "      <td>False</td>\n",
       "      <td>False</td>\n",
       "      <td>False</td>\n",
       "      <td>False</td>\n",
       "      <td>1151352660</td>\n",
       "    </tr>\n",
       "    <tr>\n",
       "      <th>3</th>\n",
       "      <td>2006</td>\n",
       "      <td>2</td>\n",
       "      <td>8</td>\n",
       "      <td>25</td>\n",
       "      <td>5</td>\n",
       "      <td>56</td>\n",
       "      <td>False</td>\n",
       "      <td>False</td>\n",
       "      <td>False</td>\n",
       "      <td>False</td>\n",
       "      <td>...</td>\n",
       "      <td>26</td>\n",
       "      <td>0</td>\n",
       "      <td>177</td>\n",
       "      <td>False</td>\n",
       "      <td>False</td>\n",
       "      <td>False</td>\n",
       "      <td>False</td>\n",
       "      <td>False</td>\n",
       "      <td>False</td>\n",
       "      <td>1151352660</td>\n",
       "    </tr>\n",
       "    <tr>\n",
       "      <th>4</th>\n",
       "      <td>2006</td>\n",
       "      <td>2</td>\n",
       "      <td>8</td>\n",
       "      <td>21</td>\n",
       "      <td>1</td>\n",
       "      <td>52</td>\n",
       "      <td>False</td>\n",
       "      <td>False</td>\n",
       "      <td>False</td>\n",
       "      <td>False</td>\n",
       "      <td>...</td>\n",
       "      <td>27</td>\n",
       "      <td>1</td>\n",
       "      <td>178</td>\n",
       "      <td>False</td>\n",
       "      <td>False</td>\n",
       "      <td>False</td>\n",
       "      <td>False</td>\n",
       "      <td>False</td>\n",
       "      <td>False</td>\n",
       "      <td>1151426280</td>\n",
       "    </tr>\n",
       "  </tbody>\n",
       "</table>\n",
       "<p>5 rows × 26 columns</p>\n",
       "</div>"
      ],
      "text/plain": [
       "   film_date_as_datetimeYear  film_date_as_datetimeMonth  \\\n",
       "0                       2006                           2   \n",
       "1                       2006                           2   \n",
       "2                       2006                           2   \n",
       "3                       2006                           2   \n",
       "4                       2006                           2   \n",
       "\n",
       "   film_date_as_datetimeWeek  film_date_as_datetimeDay  \\\n",
       "0                          8                        24   \n",
       "1                          8                        24   \n",
       "2                          8                        23   \n",
       "3                          8                        25   \n",
       "4                          8                        21   \n",
       "\n",
       "   film_date_as_datetimeDayofweek  film_date_as_datetimeDayofyear  \\\n",
       "0                               4                              55   \n",
       "1                               4                              55   \n",
       "2                               3                              54   \n",
       "3                               5                              56   \n",
       "4                               1                              52   \n",
       "\n",
       "   film_date_as_datetimeIs_month_end  film_date_as_datetimeIs_month_start  \\\n",
       "0                              False                                False   \n",
       "1                              False                                False   \n",
       "2                              False                                False   \n",
       "3                              False                                False   \n",
       "4                              False                                False   \n",
       "\n",
       "   film_date_as_datetimeIs_quarter_end  film_date_as_datetimeIs_quarter_start  \\\n",
       "0                                False                                  False   \n",
       "1                                False                                  False   \n",
       "2                                False                                  False   \n",
       "3                                False                                  False   \n",
       "4                                False                                  False   \n",
       "\n",
       "   ...  published_date_as_datetimeDay  published_date_as_datetimeDayofweek  \\\n",
       "0  ...                             26                                    0   \n",
       "1  ...                             26                                    0   \n",
       "2  ...                             26                                    0   \n",
       "3  ...                             26                                    0   \n",
       "4  ...                             27                                    1   \n",
       "\n",
       "   published_date_as_datetimeDayofyear  \\\n",
       "0                                  177   \n",
       "1                                  177   \n",
       "2                                  177   \n",
       "3                                  177   \n",
       "4                                  178   \n",
       "\n",
       "   published_date_as_datetimeIs_month_end  \\\n",
       "0                                   False   \n",
       "1                                   False   \n",
       "2                                   False   \n",
       "3                                   False   \n",
       "4                                   False   \n",
       "\n",
       "   published_date_as_datetimeIs_month_start  \\\n",
       "0                                     False   \n",
       "1                                     False   \n",
       "2                                     False   \n",
       "3                                     False   \n",
       "4                                     False   \n",
       "\n",
       "   published_date_as_datetimeIs_quarter_end  \\\n",
       "0                                     False   \n",
       "1                                     False   \n",
       "2                                     False   \n",
       "3                                     False   \n",
       "4                                     False   \n",
       "\n",
       "   published_date_as_datetimeIs_quarter_start  \\\n",
       "0                                       False   \n",
       "1                                       False   \n",
       "2                                       False   \n",
       "3                                       False   \n",
       "4                                       False   \n",
       "\n",
       "   published_date_as_datetimeIs_year_end  \\\n",
       "0                                  False   \n",
       "1                                  False   \n",
       "2                                  False   \n",
       "3                                  False   \n",
       "4                                  False   \n",
       "\n",
       "   published_date_as_datetimeIs_year_start  published_date_as_datetimeElapsed  \n",
       "0                                    False                         1151352660  \n",
       "1                                    False                         1151352660  \n",
       "2                                    False                         1151352660  \n",
       "3                                    False                         1151352660  \n",
       "4                                    False                         1151426280  \n",
       "\n",
       "[5 rows x 26 columns]"
      ]
     },
     "execution_count": 17,
     "metadata": {},
     "output_type": "execute_result"
    }
   ],
   "source": [
    "ted_data_date_parts.head()"
   ]
  },
  {
   "cell_type": "code",
   "execution_count": 22,
   "metadata": {},
   "outputs": [
    {
     "data": {
      "text/plain": [
       "film_date_as_datetimeYear                           2016\n",
       "film_date_as_datetimeMonth                            11\n",
       "film_date_as_datetimeWeek                             45\n",
       "film_date_as_datetimeDay                              10\n",
       "film_date_as_datetimeDayofweek                         3\n",
       "film_date_as_datetimeDayofyear                       315\n",
       "film_date_as_datetimeIs_month_end                  False\n",
       "film_date_as_datetimeIs_month_start                False\n",
       "film_date_as_datetimeIs_quarter_end                False\n",
       "film_date_as_datetimeIs_quarter_start              False\n",
       "film_date_as_datetimeIs_year_end                   False\n",
       "film_date_as_datetimeIs_year_start                 False\n",
       "film_date_as_datetimeElapsed                  1478804400\n",
       "published_date_as_datetimeYear                      2017\n",
       "published_date_as_datetimeMonth                        9\n",
       "published_date_as_datetimeWeek                        37\n",
       "published_date_as_datetimeDay                         12\n",
       "published_date_as_datetimeDayofweek                    1\n",
       "published_date_as_datetimeDayofyear                  255\n",
       "published_date_as_datetimeIs_month_end             False\n",
       "published_date_as_datetimeIs_month_start           False\n",
       "published_date_as_datetimeIs_quarter_end           False\n",
       "published_date_as_datetimeIs_quarter_start         False\n",
       "published_date_as_datetimeIs_year_end              False\n",
       "published_date_as_datetimeIs_year_start            False\n",
       "published_date_as_datetimeElapsed             1505232051\n",
       "Name: 2538, dtype: object"
      ]
     },
     "execution_count": 22,
     "metadata": {},
     "output_type": "execute_result"
    }
   ],
   "source": [
    "ted_data_date_parts.iloc[2538]"
   ]
  },
  {
   "cell_type": "code",
   "execution_count": 61,
   "metadata": {},
   "outputs": [],
   "source": [
    "from datetime import datetime\n",
    "def days_between(d1, d2):\n",
    "    d1 = datetime.strptime(d1, '%Y-%m-%d %H:%M:%S')\n",
    "    d2 = datetime.strptime(d2, '%Y-%m-%d %H:%M:%S')\n",
    "    return abs((d2 - d1).days)"
   ]
  },
  {
   "cell_type": "code",
   "execution_count": 62,
   "metadata": {},
   "outputs": [
    {
     "data": {
      "text/plain": [
       "123"
      ]
     },
     "execution_count": 62,
     "metadata": {},
     "output_type": "execute_result"
    }
   ],
   "source": [
    "days_between(ted_data_4['published_date_as_datetime'][0],ted_data_4['film_date_as_datetime'][0])"
   ]
  },
  {
   "cell_type": "code",
   "execution_count": 234,
   "metadata": {},
   "outputs": [],
   "source": [
    "def add_days_between(original_data, col1, col2):\n",
    "    data = original_data.copy()[[col1,col2]]\n",
    "    data['days_between{}_and_{}'.format(col1,col2)] = data[[col1,col2]].apply(lambda x: days_between(*x), axis=1)\n",
    "    return data[['days_between{}_and_{}'.format(col1,col2)]]"
   ]
  },
  {
   "cell_type": "code",
   "execution_count": 244,
   "metadata": {},
   "outputs": [],
   "source": [
    "days_between_df = add_days_between(ted_data_4, col2='film_date_as_datetime', col1='published_date_as_datetime')"
   ]
  },
  {
   "cell_type": "code",
   "execution_count": 237,
   "metadata": {},
   "outputs": [],
   "source": [
    "numeric_ted_data = ted_data._get_numeric_data()"
   ]
  },
  {
   "cell_type": "code",
   "execution_count": 239,
   "metadata": {},
   "outputs": [
    {
     "data": {
      "text/plain": [
       "Index(['comments', 'duration', 'film_date', 'languages', 'num_speaker',\n",
       "       'published_date', 'views'],\n",
       "      dtype='object')"
      ]
     },
     "execution_count": 239,
     "metadata": {},
     "output_type": "execute_result"
    }
   ],
   "source": [
    "numeric_ted_data.columns"
   ]
  },
  {
   "cell_type": "code",
   "execution_count": 240,
   "metadata": {},
   "outputs": [],
   "source": [
    "numeric_ted_data = numeric_ted_data[['views','comments', 'duration', 'film_date', 'languages', 'num_speaker',\n",
    "       'published_date']]"
   ]
  },
  {
   "cell_type": "code",
   "execution_count": 242,
   "metadata": {},
   "outputs": [
    {
     "data": {
      "text/html": [
       "<div>\n",
       "<style scoped>\n",
       "    .dataframe tbody tr th:only-of-type {\n",
       "        vertical-align: middle;\n",
       "    }\n",
       "\n",
       "    .dataframe tbody tr th {\n",
       "        vertical-align: top;\n",
       "    }\n",
       "\n",
       "    .dataframe thead th {\n",
       "        text-align: right;\n",
       "    }\n",
       "</style>\n",
       "<table border=\"1\" class=\"dataframe\">\n",
       "  <thead>\n",
       "    <tr style=\"text-align: right;\">\n",
       "      <th></th>\n",
       "      <th>views</th>\n",
       "      <th>comments</th>\n",
       "      <th>duration</th>\n",
       "      <th>film_date</th>\n",
       "      <th>languages</th>\n",
       "      <th>num_speaker</th>\n",
       "      <th>published_date</th>\n",
       "    </tr>\n",
       "  </thead>\n",
       "  <tbody>\n",
       "    <tr>\n",
       "      <th>0</th>\n",
       "      <td>47227110</td>\n",
       "      <td>4553</td>\n",
       "      <td>1164</td>\n",
       "      <td>1140825600</td>\n",
       "      <td>60</td>\n",
       "      <td>1</td>\n",
       "      <td>1151367060</td>\n",
       "    </tr>\n",
       "    <tr>\n",
       "      <th>1</th>\n",
       "      <td>3200520</td>\n",
       "      <td>265</td>\n",
       "      <td>977</td>\n",
       "      <td>1140825600</td>\n",
       "      <td>43</td>\n",
       "      <td>1</td>\n",
       "      <td>1151367060</td>\n",
       "    </tr>\n",
       "    <tr>\n",
       "      <th>2</th>\n",
       "      <td>1636292</td>\n",
       "      <td>124</td>\n",
       "      <td>1286</td>\n",
       "      <td>1140739200</td>\n",
       "      <td>26</td>\n",
       "      <td>1</td>\n",
       "      <td>1151367060</td>\n",
       "    </tr>\n",
       "    <tr>\n",
       "      <th>3</th>\n",
       "      <td>1697550</td>\n",
       "      <td>200</td>\n",
       "      <td>1116</td>\n",
       "      <td>1140912000</td>\n",
       "      <td>35</td>\n",
       "      <td>1</td>\n",
       "      <td>1151367060</td>\n",
       "    </tr>\n",
       "    <tr>\n",
       "      <th>4</th>\n",
       "      <td>12005869</td>\n",
       "      <td>593</td>\n",
       "      <td>1190</td>\n",
       "      <td>1140566400</td>\n",
       "      <td>48</td>\n",
       "      <td>1</td>\n",
       "      <td>1151440680</td>\n",
       "    </tr>\n",
       "  </tbody>\n",
       "</table>\n",
       "</div>"
      ],
      "text/plain": [
       "      views  comments  duration   film_date  languages  num_speaker  \\\n",
       "0  47227110      4553      1164  1140825600         60            1   \n",
       "1   3200520       265       977  1140825600         43            1   \n",
       "2   1636292       124      1286  1140739200         26            1   \n",
       "3   1697550       200      1116  1140912000         35            1   \n",
       "4  12005869       593      1190  1140566400         48            1   \n",
       "\n",
       "   published_date  \n",
       "0      1151367060  \n",
       "1      1151367060  \n",
       "2      1151367060  \n",
       "3      1151367060  \n",
       "4      1151440680  "
      ]
     },
     "execution_count": 242,
     "metadata": {},
     "output_type": "execute_result"
    }
   ],
   "source": [
    "numeric_ted_data.head()"
   ]
  },
  {
   "cell_type": "code",
   "execution_count": 248,
   "metadata": {},
   "outputs": [],
   "source": [
    "ted_data_merged = numeric_ted_data.join(ratings_df, how = \"outer\").join(ted_data_date_parts, how = \"outer\").join(days_between_df, how = \"outer\").join(df_tags_dummies, how = \"outer\")"
   ]
  },
  {
   "cell_type": "code",
   "execution_count": 250,
   "metadata": {},
   "outputs": [
    {
     "data": {
      "text/html": [
       "<div>\n",
       "<style scoped>\n",
       "    .dataframe tbody tr th:only-of-type {\n",
       "        vertical-align: middle;\n",
       "    }\n",
       "\n",
       "    .dataframe tbody tr th {\n",
       "        vertical-align: top;\n",
       "    }\n",
       "\n",
       "    .dataframe thead th {\n",
       "        text-align: right;\n",
       "    }\n",
       "</style>\n",
       "<table border=\"1\" class=\"dataframe\">\n",
       "  <thead>\n",
       "    <tr style=\"text-align: right;\">\n",
       "      <th></th>\n",
       "      <th>views</th>\n",
       "      <th>comments</th>\n",
       "      <th>duration</th>\n",
       "      <th>film_date</th>\n",
       "      <th>languages</th>\n",
       "      <th>num_speaker</th>\n",
       "      <th>published_date</th>\n",
       "      <th>Funny_ratings</th>\n",
       "      <th>Beautiful_ratings</th>\n",
       "      <th>Ingenious_ratings</th>\n",
       "      <th>...</th>\n",
       "      <th>is_ TED Fellows_tags_cleaned</th>\n",
       "      <th>is_ feminism_tags_cleaned</th>\n",
       "      <th>is_ TEDx_tags_cleaned</th>\n",
       "      <th>is_Gender equality_tags_cleaned</th>\n",
       "      <th>is_ journalism_tags_cleaned</th>\n",
       "      <th>is_ medical research_tags_cleaned</th>\n",
       "      <th>is_ disability_tags_cleaned</th>\n",
       "      <th>is_ security_tags_cleaned</th>\n",
       "      <th>is_ molecular biology_tags_cleaned</th>\n",
       "      <th>is_ algorithm_tags_cleaned</th>\n",
       "    </tr>\n",
       "  </thead>\n",
       "  <tbody>\n",
       "    <tr>\n",
       "      <th>0</th>\n",
       "      <td>47227110</td>\n",
       "      <td>4553</td>\n",
       "      <td>1164</td>\n",
       "      <td>1140825600</td>\n",
       "      <td>60</td>\n",
       "      <td>1</td>\n",
       "      <td>1151367060</td>\n",
       "      <td>19645.0</td>\n",
       "      <td>4573.0</td>\n",
       "      <td>6073.0</td>\n",
       "      <td>...</td>\n",
       "      <td>0.0</td>\n",
       "      <td>0.0</td>\n",
       "      <td>0.0</td>\n",
       "      <td>0.0</td>\n",
       "      <td>0.0</td>\n",
       "      <td>0.0</td>\n",
       "      <td>0.0</td>\n",
       "      <td>0.0</td>\n",
       "      <td>0.0</td>\n",
       "      <td>0.0</td>\n",
       "    </tr>\n",
       "    <tr>\n",
       "      <th>1</th>\n",
       "      <td>3200520</td>\n",
       "      <td>265</td>\n",
       "      <td>977</td>\n",
       "      <td>1140825600</td>\n",
       "      <td>43</td>\n",
       "      <td>1</td>\n",
       "      <td>1151367060</td>\n",
       "      <td>544.0</td>\n",
       "      <td>58.0</td>\n",
       "      <td>56.0</td>\n",
       "      <td>...</td>\n",
       "      <td>0.0</td>\n",
       "      <td>0.0</td>\n",
       "      <td>0.0</td>\n",
       "      <td>0.0</td>\n",
       "      <td>0.0</td>\n",
       "      <td>0.0</td>\n",
       "      <td>0.0</td>\n",
       "      <td>0.0</td>\n",
       "      <td>0.0</td>\n",
       "      <td>0.0</td>\n",
       "    </tr>\n",
       "    <tr>\n",
       "      <th>2</th>\n",
       "      <td>1636292</td>\n",
       "      <td>124</td>\n",
       "      <td>1286</td>\n",
       "      <td>1140739200</td>\n",
       "      <td>26</td>\n",
       "      <td>1</td>\n",
       "      <td>1151367060</td>\n",
       "      <td>964.0</td>\n",
       "      <td>60.0</td>\n",
       "      <td>183.0</td>\n",
       "      <td>...</td>\n",
       "      <td>0.0</td>\n",
       "      <td>0.0</td>\n",
       "      <td>0.0</td>\n",
       "      <td>0.0</td>\n",
       "      <td>0.0</td>\n",
       "      <td>0.0</td>\n",
       "      <td>0.0</td>\n",
       "      <td>0.0</td>\n",
       "      <td>0.0</td>\n",
       "      <td>0.0</td>\n",
       "    </tr>\n",
       "    <tr>\n",
       "      <th>3</th>\n",
       "      <td>1697550</td>\n",
       "      <td>200</td>\n",
       "      <td>1116</td>\n",
       "      <td>1140912000</td>\n",
       "      <td>35</td>\n",
       "      <td>1</td>\n",
       "      <td>1151367060</td>\n",
       "      <td>59.0</td>\n",
       "      <td>291.0</td>\n",
       "      <td>105.0</td>\n",
       "      <td>...</td>\n",
       "      <td>0.0</td>\n",
       "      <td>0.0</td>\n",
       "      <td>0.0</td>\n",
       "      <td>0.0</td>\n",
       "      <td>0.0</td>\n",
       "      <td>0.0</td>\n",
       "      <td>0.0</td>\n",
       "      <td>0.0</td>\n",
       "      <td>0.0</td>\n",
       "      <td>0.0</td>\n",
       "    </tr>\n",
       "    <tr>\n",
       "      <th>4</th>\n",
       "      <td>12005869</td>\n",
       "      <td>593</td>\n",
       "      <td>1190</td>\n",
       "      <td>1140566400</td>\n",
       "      <td>48</td>\n",
       "      <td>1</td>\n",
       "      <td>1151440680</td>\n",
       "      <td>1390.0</td>\n",
       "      <td>942.0</td>\n",
       "      <td>3202.0</td>\n",
       "      <td>...</td>\n",
       "      <td>0.0</td>\n",
       "      <td>0.0</td>\n",
       "      <td>0.0</td>\n",
       "      <td>0.0</td>\n",
       "      <td>0.0</td>\n",
       "      <td>0.0</td>\n",
       "      <td>0.0</td>\n",
       "      <td>0.0</td>\n",
       "      <td>0.0</td>\n",
       "      <td>0.0</td>\n",
       "    </tr>\n",
       "  </tbody>\n",
       "</table>\n",
       "<p>5 rows × 228 columns</p>\n",
       "</div>"
      ],
      "text/plain": [
       "      views  comments  duration   film_date  languages  num_speaker  \\\n",
       "0  47227110      4553      1164  1140825600         60            1   \n",
       "1   3200520       265       977  1140825600         43            1   \n",
       "2   1636292       124      1286  1140739200         26            1   \n",
       "3   1697550       200      1116  1140912000         35            1   \n",
       "4  12005869       593      1190  1140566400         48            1   \n",
       "\n",
       "   published_date  Funny_ratings  Beautiful_ratings  Ingenious_ratings  ...  \\\n",
       "0      1151367060        19645.0             4573.0             6073.0  ...   \n",
       "1      1151367060          544.0               58.0               56.0  ...   \n",
       "2      1151367060          964.0               60.0              183.0  ...   \n",
       "3      1151367060           59.0              291.0              105.0  ...   \n",
       "4      1151440680         1390.0              942.0             3202.0  ...   \n",
       "\n",
       "   is_ TED Fellows_tags_cleaned  is_ feminism_tags_cleaned  \\\n",
       "0                           0.0                        0.0   \n",
       "1                           0.0                        0.0   \n",
       "2                           0.0                        0.0   \n",
       "3                           0.0                        0.0   \n",
       "4                           0.0                        0.0   \n",
       "\n",
       "   is_ TEDx_tags_cleaned  is_Gender equality_tags_cleaned  \\\n",
       "0                    0.0                              0.0   \n",
       "1                    0.0                              0.0   \n",
       "2                    0.0                              0.0   \n",
       "3                    0.0                              0.0   \n",
       "4                    0.0                              0.0   \n",
       "\n",
       "   is_ journalism_tags_cleaned  is_ medical research_tags_cleaned  \\\n",
       "0                          0.0                                0.0   \n",
       "1                          0.0                                0.0   \n",
       "2                          0.0                                0.0   \n",
       "3                          0.0                                0.0   \n",
       "4                          0.0                                0.0   \n",
       "\n",
       "   is_ disability_tags_cleaned  is_ security_tags_cleaned  \\\n",
       "0                          0.0                        0.0   \n",
       "1                          0.0                        0.0   \n",
       "2                          0.0                        0.0   \n",
       "3                          0.0                        0.0   \n",
       "4                          0.0                        0.0   \n",
       "\n",
       "   is_ molecular biology_tags_cleaned  is_ algorithm_tags_cleaned  \n",
       "0                                 0.0                         0.0  \n",
       "1                                 0.0                         0.0  \n",
       "2                                 0.0                         0.0  \n",
       "3                                 0.0                         0.0  \n",
       "4                                 0.0                         0.0  \n",
       "\n",
       "[5 rows x 228 columns]"
      ]
     },
     "execution_count": 250,
     "metadata": {},
     "output_type": "execute_result"
    }
   ],
   "source": [
    "ted_data_merged.head()"
   ]
  },
  {
   "cell_type": "code",
   "execution_count": 251,
   "metadata": {},
   "outputs": [],
   "source": [
    "from sklearn.preprocessing import StandardScaler"
   ]
  },
  {
   "cell_type": "code",
   "execution_count": 252,
   "metadata": {},
   "outputs": [
    {
     "name": "stderr",
     "output_type": "stream",
     "text": [
      "/anaconda3/lib/python3.7/site-packages/sklearn/preprocessing/data.py:625: DataConversionWarning: Data with input dtype bool, int64, float64 were all converted to float64 by StandardScaler.\n",
      "  return self.partial_fit(X, y)\n"
     ]
    },
    {
     "data": {
      "text/plain": [
       "StandardScaler(copy=True, with_mean=True, with_std=True)"
      ]
     },
     "execution_count": 252,
     "metadata": {},
     "output_type": "execute_result"
    }
   ],
   "source": [
    "scaler = StandardScaler()\n",
    "scaler.fit(ted_data_merged)"
   ]
  },
  {
   "cell_type": "code",
   "execution_count": 257,
   "metadata": {},
   "outputs": [
    {
     "name": "stderr",
     "output_type": "stream",
     "text": [
      "/anaconda3/lib/python3.7/site-packages/sklearn/preprocessing/data.py:625: DataConversionWarning: Data with input dtype bool, int64, float64 were all converted to float64 by StandardScaler.\n",
      "  return self.partial_fit(X, y)\n",
      "/anaconda3/lib/python3.7/site-packages/sklearn/base.py:462: DataConversionWarning: Data with input dtype bool, int64, float64 were all converted to float64 by StandardScaler.\n",
      "  return self.fit(X, **fit_params).transform(X)\n"
     ]
    }
   ],
   "source": [
    "scaled_data = scaler.fit_transform(ted_data_merged)"
   ]
  },
  {
   "cell_type": "code",
   "execution_count": 258,
   "metadata": {},
   "outputs": [],
   "source": [
    "scaled_X = scaled_data[:, 1:]\n",
    "scaled_y = scaled_data[:, 0]"
   ]
  },
  {
   "cell_type": "code",
   "execution_count": 260,
   "metadata": {},
   "outputs": [],
   "source": [
    "from sklearn.model_selection import train_test_split\n"
   ]
  },
  {
   "cell_type": "code",
   "execution_count": 261,
   "metadata": {},
   "outputs": [],
   "source": [
    "X_train, X_test, y_train, y_test = train_test_split(scaled_X, scaled_y, test_size=0.33, random_state=35)"
   ]
  },
  {
   "cell_type": "code",
   "execution_count": 262,
   "metadata": {},
   "outputs": [],
   "source": [
    "from sklearn.linear_model import LinearRegression\n",
    "from sklearn.feature_selection import RFECV\n",
    "model = LinearRegression(n_jobs = -1)\n",
    "rfecv = RFECV(model, cv = 5)\n",
    "X_train_rfecv = rfecv.fit(X_train,y_train)"
   ]
  },
  {
   "cell_type": "code",
   "execution_count": 263,
   "metadata": {},
   "outputs": [],
   "source": [
    "grid_scores = X_train_rfecv.grid_scores_"
   ]
  },
  {
   "cell_type": "code",
   "execution_count": 264,
   "metadata": {},
   "outputs": [
    {
     "data": {
      "text/plain": [
       "array([-4.69247233e-04, -2.11303886e-03, -1.52478789e-03, -2.53473952e-03,\n",
       "       -4.42919142e-03, -1.61340787e-04,  5.54795700e-04,  8.82339158e-04,\n",
       "        1.48542124e-01,  3.58238301e-01,  4.73122795e-01,  5.14990417e-01,\n",
       "        5.70755906e-01,  5.80977027e-01,  6.00344275e-01,  6.28433023e-01,\n",
       "        6.28603085e-01,  6.27904140e-01,  6.35695576e-01,  6.45753822e-01,\n",
       "        6.56316833e-01,  6.55947687e-01,  6.68565159e-01,  6.76969263e-01,\n",
       "        6.82794834e-01,  6.84203718e-01,  6.81098251e-01,  6.79490425e-01,\n",
       "        6.83251433e-01,  6.83306667e-01,  6.80977836e-01,  6.82128592e-01,\n",
       "        6.82816309e-01,  6.81415861e-01,  6.79216363e-01,  6.78305408e-01,\n",
       "        6.79046709e-01,  6.78628872e-01,  6.79408436e-01,  6.79249020e-01,\n",
       "        6.78063703e-01,  6.77119593e-01,  6.76300962e-01,  6.75588918e-01,\n",
       "        6.74990111e-01,  6.75275693e-01,  6.74897587e-01,  6.75096879e-01,\n",
       "        6.74656465e-01,  6.73995733e-01,  6.72884972e-01,  6.71801338e-01,\n",
       "        6.70920133e-01,  6.70107098e-01,  6.70104810e-01,  6.69755601e-01,\n",
       "        6.69309864e-01,  6.69164037e-01,  6.69328840e-01,  6.68790782e-01,\n",
       "        6.67698446e-01,  6.67952838e-01,  6.67209038e-01,  6.66484885e-01,\n",
       "        6.66454623e-01,  6.65599058e-01,  6.65344098e-01,  6.65220980e-01,\n",
       "        6.65011917e-01,  6.64140976e-01,  6.63237591e-01,  6.63157316e-01,\n",
       "        6.63724366e-01,  6.63609747e-01,  6.63871954e-01,  6.64015726e-01,\n",
       "        6.63985591e-01,  6.64042132e-01,  6.63938553e-01,  6.64766282e-01,\n",
       "        6.64552860e-01,  6.65482993e-01,  6.64883356e-01,  6.65332999e-01,\n",
       "        6.65599465e-01,  6.65474683e-01,  6.65279287e-01,  6.65396182e-01,\n",
       "        6.65067213e-01,  6.64318314e-01,  6.64033530e-01,  6.63951626e-01,\n",
       "        6.63870175e-01,  6.62627242e-01,  6.62748926e-01,  6.62493088e-01,\n",
       "        6.61783808e-01,  6.61638468e-01,  6.61577893e-01,  6.61258035e-01,\n",
       "        6.60794597e-01,  6.60713221e-01,  6.60052911e-01,  6.59683806e-01,\n",
       "        6.59427454e-01,  6.59536885e-01,  6.58898157e-01,  6.58406997e-01,\n",
       "        6.58213880e-01,  6.58443436e-01,  6.58068343e-01,  6.57871919e-01,\n",
       "        6.57813194e-01,  6.57806114e-01,  6.58091255e-01,  6.57470933e-01,\n",
       "        6.57905404e-01,  6.58098522e-01,  6.58326979e-01,  6.58366016e-01,\n",
       "        6.58559037e-01,  6.58311738e-01,  6.58003613e-01,  6.58072493e-01,\n",
       "        6.57639595e-01,  6.57306966e-01,  6.57192639e-01,  6.56703049e-01,\n",
       "        6.56794823e-01,  6.56671356e-01,  6.56166244e-01,  6.55857723e-01,\n",
       "        6.55386034e-01,  6.55256139e-01,  6.54395481e-01,  6.54033047e-01,\n",
       "        6.53928186e-01,  6.53873090e-01,  6.53662899e-01,  6.53641956e-01,\n",
       "        6.53357576e-01,  6.53307042e-01,  6.52713719e-01,  6.52751815e-01,\n",
       "        6.52797791e-01,  6.52869494e-01,  6.52557938e-01,  6.53129590e-01,\n",
       "        6.52609774e-01,  6.52727635e-01,  6.52925844e-01, -2.58151347e+21,\n",
       "       -2.47008453e+21, -1.31653325e+24, -2.95874899e+19, -9.53528194e+22,\n",
       "       -7.16395665e+24, -2.33999588e+24, -1.24948340e+23, -5.76408986e+22,\n",
       "       -1.33453169e+24, -8.39947849e+23, -9.33573763e+23, -4.12523141e+24,\n",
       "       -1.83779354e+21, -6.49580484e+22, -9.01574365e+20, -2.01885551e+23,\n",
       "       -1.75153124e+22, -1.46509293e+23, -1.76419548e+23, -8.53646765e+22,\n",
       "       -6.53657020e+22, -4.47431969e+25, -4.56714925e+25, -4.26783020e+24,\n",
       "       -3.78764520e+25, -2.42801801e+24, -3.72766395e+23, -1.52765862e+23,\n",
       "       -1.30799947e+24, -2.51674492e+24, -3.26038836e+23, -1.05303431e+24,\n",
       "       -2.33344398e+24, -1.27493361e+25, -1.26531231e+25, -7.34731627e+23,\n",
       "       -3.56866259e+24, -6.13977227e+24, -1.17389175e+24, -2.58728011e+24,\n",
       "       -1.66935534e+25, -3.75619135e+24, -2.77474319e+24, -5.71865667e+23,\n",
       "       -1.38439683e+25, -1.43324555e+24, -8.25085658e+23, -3.47750636e+24,\n",
       "       -1.79072386e+24, -4.69495830e+23, -8.90487984e+24, -2.42271590e+23,\n",
       "       -1.13229797e+24, -4.32527379e+23, -4.47422372e+23, -1.35270195e+24,\n",
       "       -6.88630023e+23, -5.52249040e+24, -6.94953811e+24, -1.37445012e+24,\n",
       "       -3.25364998e+24, -1.04650964e+24, -5.93140053e+24, -4.26125387e+24,\n",
       "       -1.19795535e+25, -4.61136520e+24, -2.64091660e+24, -8.46239156e+23,\n",
       "       -1.23345951e+25, -5.93161963e+23, -9.24667863e+24, -1.27612565e+24,\n",
       "       -3.48346226e+24, -5.65169365e+24, -2.40395731e+24])"
      ]
     },
     "execution_count": 264,
     "metadata": {},
     "output_type": "execute_result"
    }
   ],
   "source": [
    "grid_scores"
   ]
  },
  {
   "cell_type": "code",
   "execution_count": 267,
   "metadata": {},
   "outputs": [],
   "source": [
    "x_value_range = list(range(0, 228))[::-1]"
   ]
  },
  {
   "cell_type": "code",
   "execution_count": 269,
   "metadata": {},
   "outputs": [
    {
     "data": {
      "text/html": [
       "<script type=\"text/javascript\">window.PlotlyConfig = {MathJaxConfig: 'local'};</script><script type=\"text/javascript\">if (window.MathJax) {MathJax.Hub.Config({SVG: {font: \"STIX-Web\"}});}</script><script>requirejs.config({paths: { 'plotly': ['https://cdn.plot.ly/plotly-latest.min']},});if(!window._Plotly) {require(['plotly'],function(plotly) {window._Plotly=plotly;});}</script>"
      ],
      "text/vnd.plotly.v1+html": [
       "<script type=\"text/javascript\">window.PlotlyConfig = {MathJaxConfig: 'local'};</script><script type=\"text/javascript\">if (window.MathJax) {MathJax.Hub.Config({SVG: {font: \"STIX-Web\"}});}</script><script>requirejs.config({paths: { 'plotly': ['https://cdn.plot.ly/plotly-latest.min']},});if(!window._Plotly) {require(['plotly'],function(plotly) {window._Plotly=plotly;});}</script>"
      ]
     },
     "metadata": {},
     "output_type": "display_data"
    },
    {
     "data": {
      "application/vnd.plotly.v1+json": {
       "config": {
        "linkText": "Export to plot.ly",
        "plotlyServerURL": "https://plot.ly",
        "showLink": false
       },
       "data": [
        {
         "mode": "markers",
         "name": "data",
         "text": [],
         "type": "scatter",
         "uid": "e27981fc-5194-43e1-9425-5f291484f4c8",
         "x": [
          49,
          48,
          47,
          46,
          45,
          44,
          43,
          42,
          41,
          40,
          39,
          38,
          37,
          36,
          35,
          34,
          33,
          32,
          31,
          30,
          29,
          28,
          27,
          26,
          25,
          24,
          23,
          22,
          21,
          20,
          19,
          18,
          17,
          16,
          15,
          14,
          13,
          12,
          11,
          10,
          9,
          8,
          7,
          6,
          5,
          4,
          3,
          2,
          1,
          0
         ],
         "y": [
          -2.4280180065921306e+24,
          -3.727663946466406e+23,
          -1.5276586156778658e+23,
          -1.307999473402018e+24,
          -2.516744922419483e+24,
          -3.260388362759649e+23,
          -1.0530343067012021e+24,
          -2.3334439817564978e+24,
          -1.2749336087798163e+25,
          -1.2653123102964304e+25,
          -7.347316269465484e+23,
          -3.56866258810192e+24,
          -6.139772269271151e+24,
          -1.1738917495414608e+24,
          -2.5872801092491243e+24,
          -1.6693553385753663e+25,
          -3.7561913496406675e+24,
          -2.774743186682016e+24,
          -5.718656667971791e+23,
          -1.384396829959338e+25,
          -1.433245554955324e+24,
          -8.250856580730344e+23,
          -3.477506359553073e+24,
          -1.7907238560094968e+24,
          -4.694958304390831e+23,
          -8.904879835927606e+24,
          -2.422715901441642e+23,
          -1.132297966111067e+24,
          -4.325273786812189e+23,
          -4.4742237156621655e+23,
          -1.3527019501880683e+24,
          -6.886300228162395e+23,
          -5.522490399550629e+24,
          -6.94953811448036e+24,
          -1.3744501224523566e+24,
          -3.2536499806862975e+24,
          -1.0465096383901316e+24,
          -5.931400532218509e+24,
          -4.2612538683481915e+24,
          -1.197955349677752e+25,
          -4.61136520273654e+24,
          -2.6409165955950855e+24,
          -8.462391564627918e+23,
          -1.2334595144638804e+25,
          -5.931619631219395e+23,
          -9.246678628134174e+24,
          -1.2761256544797848e+24,
          -3.4834622600302367e+24,
          -5.651693646881311e+24,
          -2.4039573100022063e+24
         ]
        }
       ],
       "layout": {}
      },
      "text/html": [
       "<div id=\"3d105f8a-ee20-4d6d-8540-8ef50bf6acba\" style=\"height: 525px; width: 100%;\" class=\"plotly-graph-div\"></div><script type=\"text/javascript\">require([\"plotly\"], function(Plotly) { window.PLOTLYENV=window.PLOTLYENV || {};window.PLOTLYENV.BASE_URL=\"https://plot.ly\";\n",
       "if (document.getElementById(\"3d105f8a-ee20-4d6d-8540-8ef50bf6acba\")) {\n",
       "    Plotly.newPlot(\"3d105f8a-ee20-4d6d-8540-8ef50bf6acba\", [{\"mode\": \"markers\", \"name\": \"data\", \"text\": [], \"x\": [49, 48, 47, 46, 45, 44, 43, 42, 41, 40, 39, 38, 37, 36, 35, 34, 33, 32, 31, 30, 29, 28, 27, 26, 25, 24, 23, 22, 21, 20, 19, 18, 17, 16, 15, 14, 13, 12, 11, 10, 9, 8, 7, 6, 5, 4, 3, 2, 1, 0], \"y\": [-2.4280180065921306e+24, -3.727663946466406e+23, -1.5276586156778658e+23, -1.307999473402018e+24, -2.516744922419483e+24, -3.260388362759649e+23, -1.0530343067012021e+24, -2.3334439817564978e+24, -1.2749336087798163e+25, -1.2653123102964304e+25, -7.347316269465484e+23, -3.56866258810192e+24, -6.139772269271151e+24, -1.1738917495414608e+24, -2.5872801092491243e+24, -1.6693553385753663e+25, -3.7561913496406675e+24, -2.774743186682016e+24, -5.718656667971791e+23, -1.384396829959338e+25, -1.433245554955324e+24, -8.250856580730344e+23, -3.477506359553073e+24, -1.7907238560094968e+24, -4.694958304390831e+23, -8.904879835927606e+24, -2.422715901441642e+23, -1.132297966111067e+24, -4.325273786812189e+23, -4.4742237156621655e+23, -1.3527019501880683e+24, -6.886300228162395e+23, -5.522490399550629e+24, -6.94953811448036e+24, -1.3744501224523566e+24, -3.2536499806862975e+24, -1.0465096383901316e+24, -5.931400532218509e+24, -4.2612538683481915e+24, -1.197955349677752e+25, -4.61136520273654e+24, -2.6409165955950855e+24, -8.462391564627918e+23, -1.2334595144638804e+25, -5.931619631219395e+23, -9.246678628134174e+24, -1.2761256544797848e+24, -3.4834622600302367e+24, -5.651693646881311e+24, -2.4039573100022063e+24], \"type\": \"scatter\", \"uid\": \"fa9abc76-3001-45c3-bb4e-26cfa173f4c2\"}], {}, {\"showLink\": false, \"linkText\": \"Export to plot.ly\", \"plotlyServerURL\": \"https://plot.ly\"}); \n",
       "}\n",
       "});</script><script type=\"text/javascript\">window.addEventListener(\"resize\", function(){if (document.getElementById(\"3d105f8a-ee20-4d6d-8540-8ef50bf6acba\")) {window._Plotly.Plots.resize(document.getElementById(\"3d105f8a-ee20-4d6d-8540-8ef50bf6acba\"));};})</script>"
      ],
      "text/vnd.plotly.v1+html": [
       "<div id=\"3d105f8a-ee20-4d6d-8540-8ef50bf6acba\" style=\"height: 525px; width: 100%;\" class=\"plotly-graph-div\"></div><script type=\"text/javascript\">require([\"plotly\"], function(Plotly) { window.PLOTLYENV=window.PLOTLYENV || {};window.PLOTLYENV.BASE_URL=\"https://plot.ly\";\n",
       "if (document.getElementById(\"3d105f8a-ee20-4d6d-8540-8ef50bf6acba\")) {\n",
       "    Plotly.newPlot(\"3d105f8a-ee20-4d6d-8540-8ef50bf6acba\", [{\"mode\": \"markers\", \"name\": \"data\", \"text\": [], \"x\": [49, 48, 47, 46, 45, 44, 43, 42, 41, 40, 39, 38, 37, 36, 35, 34, 33, 32, 31, 30, 29, 28, 27, 26, 25, 24, 23, 22, 21, 20, 19, 18, 17, 16, 15, 14, 13, 12, 11, 10, 9, 8, 7, 6, 5, 4, 3, 2, 1, 0], \"y\": [-2.4280180065921306e+24, -3.727663946466406e+23, -1.5276586156778658e+23, -1.307999473402018e+24, -2.516744922419483e+24, -3.260388362759649e+23, -1.0530343067012021e+24, -2.3334439817564978e+24, -1.2749336087798163e+25, -1.2653123102964304e+25, -7.347316269465484e+23, -3.56866258810192e+24, -6.139772269271151e+24, -1.1738917495414608e+24, -2.5872801092491243e+24, -1.6693553385753663e+25, -3.7561913496406675e+24, -2.774743186682016e+24, -5.718656667971791e+23, -1.384396829959338e+25, -1.433245554955324e+24, -8.250856580730344e+23, -3.477506359553073e+24, -1.7907238560094968e+24, -4.694958304390831e+23, -8.904879835927606e+24, -2.422715901441642e+23, -1.132297966111067e+24, -4.325273786812189e+23, -4.4742237156621655e+23, -1.3527019501880683e+24, -6.886300228162395e+23, -5.522490399550629e+24, -6.94953811448036e+24, -1.3744501224523566e+24, -3.2536499806862975e+24, -1.0465096383901316e+24, -5.931400532218509e+24, -4.2612538683481915e+24, -1.197955349677752e+25, -4.61136520273654e+24, -2.6409165955950855e+24, -8.462391564627918e+23, -1.2334595144638804e+25, -5.931619631219395e+23, -9.246678628134174e+24, -1.2761256544797848e+24, -3.4834622600302367e+24, -5.651693646881311e+24, -2.4039573100022063e+24], \"type\": \"scatter\", \"uid\": \"fa9abc76-3001-45c3-bb4e-26cfa173f4c2\"}], {}, {\"showLink\": false, \"linkText\": \"Export to plot.ly\", \"plotlyServerURL\": \"https://plot.ly\"}); \n",
       "}\n",
       "});</script><script type=\"text/javascript\">window.addEventListener(\"resize\", function(){if (document.getElementById(\"3d105f8a-ee20-4d6d-8540-8ef50bf6acba\")) {window._Plotly.Plots.resize(document.getElementById(\"3d105f8a-ee20-4d6d-8540-8ef50bf6acba\"));};})</script>"
      ]
     },
     "metadata": {},
     "output_type": "display_data"
    }
   ],
   "source": [
    "from graph import trace_values, plot\n",
    "score_trace = trace_values(x_value_range[-50:], grid_scores[-50:])\n",
    "plot([score_trace])"
   ]
  },
  {
   "cell_type": "code",
   "execution_count": 272,
   "metadata": {},
   "outputs": [],
   "source": [
    "ted_data_merged.to_feather('ted_data')"
   ]
  },
  {
   "cell_type": "code",
   "execution_count": null,
   "metadata": {},
   "outputs": [],
   "source": []
  }
 ],
 "metadata": {
  "kernelspec": {
   "display_name": "Python 3",
   "language": "python",
   "name": "python3"
  },
  "language_info": {
   "codemirror_mode": {
    "name": "ipython",
    "version": 3
   },
   "file_extension": ".py",
   "mimetype": "text/x-python",
   "name": "python",
   "nbconvert_exporter": "python",
   "pygments_lexer": "ipython3",
   "version": "3.7.1"
  }
 },
 "nbformat": 4,
 "nbformat_minor": 2
}
