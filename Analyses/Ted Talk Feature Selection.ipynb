{
 "cells": [
  {
   "cell_type": "code",
   "execution_count": 46,
   "metadata": {},
   "outputs": [],
   "source": [
    "import pandas as pd"
   ]
  },
  {
   "cell_type": "code",
   "execution_count": 82,
   "metadata": {},
   "outputs": [],
   "source": [
    "ted_data = pd.read_feather('ted_data')"
   ]
  },
  {
   "cell_type": "code",
   "execution_count": 83,
   "metadata": {},
   "outputs": [
    {
     "data": {
      "text/html": [
       "<div>\n",
       "<style scoped>\n",
       "    .dataframe tbody tr th:only-of-type {\n",
       "        vertical-align: middle;\n",
       "    }\n",
       "\n",
       "    .dataframe tbody tr th {\n",
       "        vertical-align: top;\n",
       "    }\n",
       "\n",
       "    .dataframe thead th {\n",
       "        text-align: right;\n",
       "    }\n",
       "</style>\n",
       "<table border=\"1\" class=\"dataframe\">\n",
       "  <thead>\n",
       "    <tr style=\"text-align: right;\">\n",
       "      <th></th>\n",
       "      <th>views</th>\n",
       "      <th>comments</th>\n",
       "      <th>duration</th>\n",
       "      <th>film_date</th>\n",
       "      <th>languages</th>\n",
       "      <th>num_speaker</th>\n",
       "      <th>published_date</th>\n",
       "      <th>Funny_ratings</th>\n",
       "      <th>Beautiful_ratings</th>\n",
       "      <th>Ingenious_ratings</th>\n",
       "      <th>...</th>\n",
       "      <th>is_ global issues_tags_cleaned</th>\n",
       "      <th>is_ science_tags_cleaned</th>\n",
       "      <th>is_ technology_tags_cleaned</th>\n",
       "      <th>is_ entertainment_tags_cleaned</th>\n",
       "      <th>is_ health_tags_cleaned</th>\n",
       "      <th>is_ design_tags_cleaned</th>\n",
       "      <th>is_ social change_tags_cleaned</th>\n",
       "      <th>is_ innovation_tags_cleaned</th>\n",
       "      <th>is_ society_tags_cleaned</th>\n",
       "      <th>is_TEDx_tags_cleaned</th>\n",
       "    </tr>\n",
       "  </thead>\n",
       "  <tbody>\n",
       "    <tr>\n",
       "      <th>0</th>\n",
       "      <td>47227110</td>\n",
       "      <td>4553</td>\n",
       "      <td>1164</td>\n",
       "      <td>1140825600</td>\n",
       "      <td>60</td>\n",
       "      <td>1</td>\n",
       "      <td>1151367060</td>\n",
       "      <td>19645.0</td>\n",
       "      <td>4573.0</td>\n",
       "      <td>6073.0</td>\n",
       "      <td>...</td>\n",
       "      <td>0.0</td>\n",
       "      <td>0.0</td>\n",
       "      <td>0.0</td>\n",
       "      <td>0.0</td>\n",
       "      <td>0.0</td>\n",
       "      <td>0.0</td>\n",
       "      <td>0.0</td>\n",
       "      <td>0.0</td>\n",
       "      <td>0.0</td>\n",
       "      <td>0.0</td>\n",
       "    </tr>\n",
       "    <tr>\n",
       "      <th>1</th>\n",
       "      <td>3200520</td>\n",
       "      <td>265</td>\n",
       "      <td>977</td>\n",
       "      <td>1140825600</td>\n",
       "      <td>43</td>\n",
       "      <td>1</td>\n",
       "      <td>1151367060</td>\n",
       "      <td>544.0</td>\n",
       "      <td>58.0</td>\n",
       "      <td>56.0</td>\n",
       "      <td>...</td>\n",
       "      <td>1.0</td>\n",
       "      <td>1.0</td>\n",
       "      <td>1.0</td>\n",
       "      <td>0.0</td>\n",
       "      <td>0.0</td>\n",
       "      <td>0.0</td>\n",
       "      <td>0.0</td>\n",
       "      <td>0.0</td>\n",
       "      <td>0.0</td>\n",
       "      <td>0.0</td>\n",
       "    </tr>\n",
       "    <tr>\n",
       "      <th>2</th>\n",
       "      <td>1636292</td>\n",
       "      <td>124</td>\n",
       "      <td>1286</td>\n",
       "      <td>1140739200</td>\n",
       "      <td>26</td>\n",
       "      <td>1</td>\n",
       "      <td>1151367060</td>\n",
       "      <td>964.0</td>\n",
       "      <td>60.0</td>\n",
       "      <td>183.0</td>\n",
       "      <td>...</td>\n",
       "      <td>0.0</td>\n",
       "      <td>0.0</td>\n",
       "      <td>1.0</td>\n",
       "      <td>1.0</td>\n",
       "      <td>0.0</td>\n",
       "      <td>0.0</td>\n",
       "      <td>0.0</td>\n",
       "      <td>0.0</td>\n",
       "      <td>0.0</td>\n",
       "      <td>0.0</td>\n",
       "    </tr>\n",
       "    <tr>\n",
       "      <th>3</th>\n",
       "      <td>1697550</td>\n",
       "      <td>200</td>\n",
       "      <td>1116</td>\n",
       "      <td>1140912000</td>\n",
       "      <td>35</td>\n",
       "      <td>1</td>\n",
       "      <td>1151367060</td>\n",
       "      <td>59.0</td>\n",
       "      <td>291.0</td>\n",
       "      <td>105.0</td>\n",
       "      <td>...</td>\n",
       "      <td>0.0</td>\n",
       "      <td>0.0</td>\n",
       "      <td>0.0</td>\n",
       "      <td>0.0</td>\n",
       "      <td>0.0</td>\n",
       "      <td>0.0</td>\n",
       "      <td>0.0</td>\n",
       "      <td>0.0</td>\n",
       "      <td>0.0</td>\n",
       "      <td>0.0</td>\n",
       "    </tr>\n",
       "    <tr>\n",
       "      <th>4</th>\n",
       "      <td>12005869</td>\n",
       "      <td>593</td>\n",
       "      <td>1190</td>\n",
       "      <td>1140566400</td>\n",
       "      <td>48</td>\n",
       "      <td>1</td>\n",
       "      <td>1151440680</td>\n",
       "      <td>1390.0</td>\n",
       "      <td>942.0</td>\n",
       "      <td>3202.0</td>\n",
       "      <td>...</td>\n",
       "      <td>1.0</td>\n",
       "      <td>0.0</td>\n",
       "      <td>0.0</td>\n",
       "      <td>0.0</td>\n",
       "      <td>1.0</td>\n",
       "      <td>0.0</td>\n",
       "      <td>0.0</td>\n",
       "      <td>0.0</td>\n",
       "      <td>0.0</td>\n",
       "      <td>0.0</td>\n",
       "    </tr>\n",
       "  </tbody>\n",
       "</table>\n",
       "<p>5 rows × 33 columns</p>\n",
       "</div>"
      ],
      "text/plain": [
       "      views  comments  duration   film_date  languages  num_speaker  \\\n",
       "0  47227110      4553      1164  1140825600         60            1   \n",
       "1   3200520       265       977  1140825600         43            1   \n",
       "2   1636292       124      1286  1140739200         26            1   \n",
       "3   1697550       200      1116  1140912000         35            1   \n",
       "4  12005869       593      1190  1140566400         48            1   \n",
       "\n",
       "   published_date  Funny_ratings  Beautiful_ratings  Ingenious_ratings  ...  \\\n",
       "0      1151367060        19645.0             4573.0             6073.0  ...   \n",
       "1      1151367060          544.0               58.0               56.0  ...   \n",
       "2      1151367060          964.0               60.0              183.0  ...   \n",
       "3      1151367060           59.0              291.0              105.0  ...   \n",
       "4      1151440680         1390.0              942.0             3202.0  ...   \n",
       "\n",
       "   is_ global issues_tags_cleaned  is_ science_tags_cleaned  \\\n",
       "0                             0.0                       0.0   \n",
       "1                             1.0                       1.0   \n",
       "2                             0.0                       0.0   \n",
       "3                             0.0                       0.0   \n",
       "4                             1.0                       0.0   \n",
       "\n",
       "   is_ technology_tags_cleaned  is_ entertainment_tags_cleaned  \\\n",
       "0                          0.0                             0.0   \n",
       "1                          1.0                             0.0   \n",
       "2                          1.0                             1.0   \n",
       "3                          0.0                             0.0   \n",
       "4                          0.0                             0.0   \n",
       "\n",
       "   is_ health_tags_cleaned  is_ design_tags_cleaned  \\\n",
       "0                      0.0                      0.0   \n",
       "1                      0.0                      0.0   \n",
       "2                      0.0                      0.0   \n",
       "3                      0.0                      0.0   \n",
       "4                      1.0                      0.0   \n",
       "\n",
       "   is_ social change_tags_cleaned  is_ innovation_tags_cleaned  \\\n",
       "0                             0.0                          0.0   \n",
       "1                             0.0                          0.0   \n",
       "2                             0.0                          0.0   \n",
       "3                             0.0                          0.0   \n",
       "4                             0.0                          0.0   \n",
       "\n",
       "   is_ society_tags_cleaned  is_TEDx_tags_cleaned  \n",
       "0                       0.0                   0.0  \n",
       "1                       0.0                   0.0  \n",
       "2                       0.0                   0.0  \n",
       "3                       0.0                   0.0  \n",
       "4                       0.0                   0.0  \n",
       "\n",
       "[5 rows x 33 columns]"
      ]
     },
     "execution_count": 83,
     "metadata": {},
     "output_type": "execute_result"
    }
   ],
   "source": [
    "ted_data.head()"
   ]
  },
  {
   "cell_type": "code",
   "execution_count": 84,
   "metadata": {},
   "outputs": [],
   "source": [
    "y = ted_data.views\n",
    "X = ted_data.drop(columns=['views'])"
   ]
  },
  {
   "cell_type": "code",
   "execution_count": 85,
   "metadata": {},
   "outputs": [],
   "source": [
    "from sklearn.linear_model import LinearRegression\n",
    "from sklearn.model_selection import train_test_split"
   ]
  },
  {
   "cell_type": "code",
   "execution_count": 86,
   "metadata": {},
   "outputs": [
    {
     "data": {
      "text/plain": [
       "False"
      ]
     },
     "execution_count": 86,
     "metadata": {},
     "output_type": "execute_result"
    }
   ],
   "source": [
    "ted_data.isnull().values.any()"
   ]
  },
  {
   "cell_type": "code",
   "execution_count": 87,
   "metadata": {},
   "outputs": [],
   "source": [
    "X_train, X_test, y_train, y_test = train_test_split(X, y, test_size=0.33, random_state=35)"
   ]
  },
  {
   "cell_type": "code",
   "execution_count": 88,
   "metadata": {},
   "outputs": [],
   "source": [
    "from sklearn.feature_selection import RFECV\n",
    "model = LinearRegression(n_jobs = -1)\n",
    "rfecv = RFECV(model, cv = 5)\n",
    "X_train_rfecv = rfecv.fit(X_train,y_train)"
   ]
  },
  {
   "cell_type": "code",
   "execution_count": 89,
   "metadata": {},
   "outputs": [],
   "source": [
    "grid_scores = X_train_rfecv.grid_scores_\n",
    "x_value_range = list(range(0, 33))[::-1]"
   ]
  },
  {
   "cell_type": "code",
   "execution_count": 90,
   "metadata": {},
   "outputs": [
    {
     "data": {
      "application/vnd.plotly.v1+json": {
       "config": {
        "linkText": "Export to plot.ly",
        "plotlyServerURL": "https://plot.ly",
        "showLink": false
       },
       "data": [
        {
         "mode": "markers",
         "name": "data",
         "text": [],
         "type": "scatter",
         "uid": "0a48aa01-d01e-4911-b519-fda648ba56f0",
         "x": [
          32,
          31,
          30,
          29,
          28,
          27,
          26,
          25,
          24,
          23,
          22,
          21,
          20,
          19,
          18,
          17,
          16,
          15,
          14,
          13,
          12,
          11,
          10,
          9,
          8,
          7,
          6,
          5,
          4,
          3,
          2,
          1,
          0
         ],
         "y": [
          0.006171134707578019,
          0.015391206195400398,
          0.023768444704143698,
          0.023556595843780892,
          0.02408568692160897,
          0.026520374179773487,
          0.026265406148801972,
          0.050152382292730315,
          0.049996662890200286,
          0.07504308222318687,
          0.1368298243396951,
          0.22132990331475405,
          0.3344343425417226,
          0.39813723483853447,
          0.40558802612394473,
          0.4085470703526786,
          0.453546057806353,
          0.4948757177392641,
          0.5337798422042217,
          0.6068742453383852,
          0.6429641585667388,
          0.6598712598624987,
          0.6657246717107551,
          0.6633518679320854,
          0.6652187047818711,
          0.6647316704884647,
          0.6602333531518741,
          0.6592711765799626,
          0.6602734081110277,
          0.6607228870918824,
          0.6763559092855973,
          0.6763624214726269
         ]
        }
       ],
       "layout": {}
      },
      "text/html": [
       "<div id=\"04c3c6b0-8410-4056-b85f-a7022d7c84a6\" style=\"height: 525px; width: 100%;\" class=\"plotly-graph-div\"></div><script type=\"text/javascript\">require([\"plotly\"], function(Plotly) { window.PLOTLYENV=window.PLOTLYENV || {};window.PLOTLYENV.BASE_URL=\"https://plot.ly\";\n",
       "if (document.getElementById(\"04c3c6b0-8410-4056-b85f-a7022d7c84a6\")) {\n",
       "    Plotly.newPlot(\"04c3c6b0-8410-4056-b85f-a7022d7c84a6\", [{\"mode\": \"markers\", \"name\": \"data\", \"text\": [], \"x\": [32, 31, 30, 29, 28, 27, 26, 25, 24, 23, 22, 21, 20, 19, 18, 17, 16, 15, 14, 13, 12, 11, 10, 9, 8, 7, 6, 5, 4, 3, 2, 1, 0], \"y\": [0.006171134707578019, 0.015391206195400398, 0.023768444704143698, 0.023556595843780892, 0.02408568692160897, 0.026520374179773487, 0.026265406148801972, 0.050152382292730315, 0.049996662890200286, 0.07504308222318687, 0.1368298243396951, 0.22132990331475405, 0.3344343425417226, 0.39813723483853447, 0.40558802612394473, 0.4085470703526786, 0.453546057806353, 0.4948757177392641, 0.5337798422042217, 0.6068742453383852, 0.6429641585667388, 0.6598712598624987, 0.6657246717107551, 0.6633518679320854, 0.6652187047818711, 0.6647316704884647, 0.6602333531518741, 0.6592711765799626, 0.6602734081110277, 0.6607228870918824, 0.6763559092855973, 0.6763624214726269], \"type\": \"scatter\", \"uid\": \"d63d0fbe-ebfe-4364-8611-7ca0048aa4b9\"}], {}, {\"showLink\": false, \"linkText\": \"Export to plot.ly\", \"plotlyServerURL\": \"https://plot.ly\"}); \n",
       "}\n",
       "});</script><script type=\"text/javascript\">window.addEventListener(\"resize\", function(){if (document.getElementById(\"04c3c6b0-8410-4056-b85f-a7022d7c84a6\")) {window._Plotly.Plots.resize(document.getElementById(\"04c3c6b0-8410-4056-b85f-a7022d7c84a6\"));};})</script>"
      ],
      "text/vnd.plotly.v1+html": [
       "<div id=\"04c3c6b0-8410-4056-b85f-a7022d7c84a6\" style=\"height: 525px; width: 100%;\" class=\"plotly-graph-div\"></div><script type=\"text/javascript\">require([\"plotly\"], function(Plotly) { window.PLOTLYENV=window.PLOTLYENV || {};window.PLOTLYENV.BASE_URL=\"https://plot.ly\";\n",
       "if (document.getElementById(\"04c3c6b0-8410-4056-b85f-a7022d7c84a6\")) {\n",
       "    Plotly.newPlot(\"04c3c6b0-8410-4056-b85f-a7022d7c84a6\", [{\"mode\": \"markers\", \"name\": \"data\", \"text\": [], \"x\": [32, 31, 30, 29, 28, 27, 26, 25, 24, 23, 22, 21, 20, 19, 18, 17, 16, 15, 14, 13, 12, 11, 10, 9, 8, 7, 6, 5, 4, 3, 2, 1, 0], \"y\": [0.006171134707578019, 0.015391206195400398, 0.023768444704143698, 0.023556595843780892, 0.02408568692160897, 0.026520374179773487, 0.026265406148801972, 0.050152382292730315, 0.049996662890200286, 0.07504308222318687, 0.1368298243396951, 0.22132990331475405, 0.3344343425417226, 0.39813723483853447, 0.40558802612394473, 0.4085470703526786, 0.453546057806353, 0.4948757177392641, 0.5337798422042217, 0.6068742453383852, 0.6429641585667388, 0.6598712598624987, 0.6657246717107551, 0.6633518679320854, 0.6652187047818711, 0.6647316704884647, 0.6602333531518741, 0.6592711765799626, 0.6602734081110277, 0.6607228870918824, 0.6763559092855973, 0.6763624214726269], \"type\": \"scatter\", \"uid\": \"d63d0fbe-ebfe-4364-8611-7ca0048aa4b9\"}], {}, {\"showLink\": false, \"linkText\": \"Export to plot.ly\", \"plotlyServerURL\": \"https://plot.ly\"}); \n",
       "}\n",
       "});</script><script type=\"text/javascript\">window.addEventListener(\"resize\", function(){if (document.getElementById(\"04c3c6b0-8410-4056-b85f-a7022d7c84a6\")) {window._Plotly.Plots.resize(document.getElementById(\"04c3c6b0-8410-4056-b85f-a7022d7c84a6\"));};})</script>"
      ]
     },
     "metadata": {},
     "output_type": "display_data"
    }
   ],
   "source": [
    "from graph import trace_values, plot\n",
    "score_trace = trace_values(x_value_range, grid_scores)\n",
    "plot([score_trace])"
   ]
  },
  {
   "cell_type": "code",
   "execution_count": 91,
   "metadata": {},
   "outputs": [
    {
     "data": {
      "text/plain": [
       "array([0.00617113, 0.01539121, 0.02376844, 0.0235566 , 0.02408569,\n",
       "       0.02652037, 0.02626541, 0.05015238, 0.04999666, 0.07504308,\n",
       "       0.13682982, 0.2213299 , 0.33443434, 0.39813723, 0.40558803,\n",
       "       0.40854707, 0.45354606, 0.49487572, 0.53377984, 0.60687425,\n",
       "       0.64296416, 0.65987126, 0.66572467, 0.66335187, 0.6652187 ,\n",
       "       0.66473167, 0.66023335, 0.65927118, 0.66027341, 0.66072289,\n",
       "       0.67635591, 0.67636242])"
      ]
     },
     "execution_count": 91,
     "metadata": {},
     "output_type": "execute_result"
    }
   ],
   "source": [
    "grid_scores"
   ]
  },
  {
   "cell_type": "code",
   "execution_count": 92,
   "metadata": {},
   "outputs": [],
   "source": [
    "X_train, X_validate, y_train, y_validate = train_test_split(X_train, y_train, test_size=0.33, random_state=35)"
   ]
  },
  {
   "cell_type": "code",
   "execution_count": 94,
   "metadata": {},
   "outputs": [],
   "source": [
    "from sklearn.feature_selection import RFE\n",
    "from sklearn.linear_model import LinearRegression\n",
    "import numpy as np\n",
    "\n",
    "selectors = []\n",
    "\n",
    "for idx in list(range(1, 33, 1))[::-1]:\n",
    "    # 1. create an estimator\n",
    "    estimator = LinearRegression(n_jobs=-1)\n",
    "    # 2. perform rfe with the idx number of features\n",
    "    rfe = RFE(estimator, idx, step=1)\n",
    "    # 3. reduce the dataset to the number of features\n",
    "    X_train_rfe = rfe.fit_transform(X_train,y_train)\n",
    "    X_validate_rfe = rfe.transform(X_validate)\n",
    "    # 4. compute the accuracy score and append to the list\n",
    "    estimator.fit(X_train_rfe,y_train)\n",
    "    score = estimator.score(X_validate_rfe,y_validate)\n",
    "    selectors.append(np.array([rfe, score, idx]))"
   ]
  },
  {
   "cell_type": "code",
   "execution_count": 95,
   "metadata": {},
   "outputs": [],
   "source": [
    "wrapped_selectors = np.array(selectors)"
   ]
  },
  {
   "cell_type": "code",
   "execution_count": 96,
   "metadata": {},
   "outputs": [],
   "source": [
    "y_values = wrapped_selectors[:, 1]\n",
    "x_values = wrapped_selectors[:, -1]"
   ]
  },
  {
   "cell_type": "code",
   "execution_count": 97,
   "metadata": {},
   "outputs": [
    {
     "data": {
      "application/vnd.plotly.v1+json": {
       "config": {
        "linkText": "Export to plot.ly",
        "plotlyServerURL": "https://plot.ly",
        "showLink": false
       },
       "data": [
        {
         "mode": "markers",
         "name": "data",
         "text": [],
         "type": "scatter",
         "uid": "d4a66d56-49b3-49dd-a3c4-682828402469",
         "x": [
          32,
          31,
          30,
          29,
          28,
          27,
          26,
          25,
          24,
          23,
          22,
          21,
          20,
          19,
          18,
          17,
          16,
          15,
          14,
          13,
          12,
          11,
          10,
          9,
          8,
          7,
          6,
          5,
          4,
          3,
          2,
          1
         ],
         "y": [
          0.7071051763088032,
          0.7070931787168306,
          0.6779187321542783,
          0.6796736039144017,
          0.6789462133593032,
          0.6786571060380874,
          0.6786951939931201,
          0.6799140598901259,
          0.6831809196535799,
          0.6819160389789596,
          0.6301940075522179,
          0.621435448424442,
          0.5214761528686132,
          0.5203454147233567,
          0.5203517771321848,
          0.5199877030576592,
          0.49094616412377,
          0.4553504809639247,
          0.4452598795068327,
          0.44198160468050135,
          0.44210391618077954,
          0.44223553647338626,
          0.19028088852643776,
          0.19027548293000784,
          0.014396020795745647,
          0.014805466931710365,
          0.019553955122902034,
          0.01843687550286377,
          0.012941011598804784,
          0.013694669166875452,
          0.0018404919861877425,
          0.00075724862152593
         ]
        }
       ],
       "layout": {}
      },
      "text/html": [
       "<div id=\"05ab854d-2cd2-4bc2-9472-ea33cd05ba28\" style=\"height: 525px; width: 100%;\" class=\"plotly-graph-div\"></div><script type=\"text/javascript\">require([\"plotly\"], function(Plotly) { window.PLOTLYENV=window.PLOTLYENV || {};window.PLOTLYENV.BASE_URL=\"https://plot.ly\";\n",
       "if (document.getElementById(\"05ab854d-2cd2-4bc2-9472-ea33cd05ba28\")) {\n",
       "    Plotly.newPlot(\"05ab854d-2cd2-4bc2-9472-ea33cd05ba28\", [{\"mode\": \"markers\", \"name\": \"data\", \"text\": [], \"x\": [32, 31, 30, 29, 28, 27, 26, 25, 24, 23, 22, 21, 20, 19, 18, 17, 16, 15, 14, 13, 12, 11, 10, 9, 8, 7, 6, 5, 4, 3, 2, 1], \"y\": [0.7071051763088032, 0.7070931787168306, 0.6779187321542783, 0.6796736039144017, 0.6789462133593032, 0.6786571060380874, 0.6786951939931201, 0.6799140598901259, 0.6831809196535799, 0.6819160389789596, 0.6301940075522179, 0.621435448424442, 0.5214761528686132, 0.5203454147233567, 0.5203517771321848, 0.5199877030576592, 0.49094616412377, 0.4553504809639247, 0.4452598795068327, 0.44198160468050135, 0.44210391618077954, 0.44223553647338626, 0.19028088852643776, 0.19027548293000784, 0.014396020795745647, 0.014805466931710365, 0.019553955122902034, 0.01843687550286377, 0.012941011598804784, 0.013694669166875452, 0.0018404919861877425, 0.00075724862152593], \"type\": \"scatter\", \"uid\": \"0c23c626-d683-4ed2-88e1-bdd6d60c0af2\"}], {}, {\"showLink\": false, \"linkText\": \"Export to plot.ly\", \"plotlyServerURL\": \"https://plot.ly\"}); \n",
       "}\n",
       "});</script><script type=\"text/javascript\">window.addEventListener(\"resize\", function(){if (document.getElementById(\"05ab854d-2cd2-4bc2-9472-ea33cd05ba28\")) {window._Plotly.Plots.resize(document.getElementById(\"05ab854d-2cd2-4bc2-9472-ea33cd05ba28\"));};})</script>"
      ],
      "text/vnd.plotly.v1+html": [
       "<div id=\"05ab854d-2cd2-4bc2-9472-ea33cd05ba28\" style=\"height: 525px; width: 100%;\" class=\"plotly-graph-div\"></div><script type=\"text/javascript\">require([\"plotly\"], function(Plotly) { window.PLOTLYENV=window.PLOTLYENV || {};window.PLOTLYENV.BASE_URL=\"https://plot.ly\";\n",
       "if (document.getElementById(\"05ab854d-2cd2-4bc2-9472-ea33cd05ba28\")) {\n",
       "    Plotly.newPlot(\"05ab854d-2cd2-4bc2-9472-ea33cd05ba28\", [{\"mode\": \"markers\", \"name\": \"data\", \"text\": [], \"x\": [32, 31, 30, 29, 28, 27, 26, 25, 24, 23, 22, 21, 20, 19, 18, 17, 16, 15, 14, 13, 12, 11, 10, 9, 8, 7, 6, 5, 4, 3, 2, 1], \"y\": [0.7071051763088032, 0.7070931787168306, 0.6779187321542783, 0.6796736039144017, 0.6789462133593032, 0.6786571060380874, 0.6786951939931201, 0.6799140598901259, 0.6831809196535799, 0.6819160389789596, 0.6301940075522179, 0.621435448424442, 0.5214761528686132, 0.5203454147233567, 0.5203517771321848, 0.5199877030576592, 0.49094616412377, 0.4553504809639247, 0.4452598795068327, 0.44198160468050135, 0.44210391618077954, 0.44223553647338626, 0.19028088852643776, 0.19027548293000784, 0.014396020795745647, 0.014805466931710365, 0.019553955122902034, 0.01843687550286377, 0.012941011598804784, 0.013694669166875452, 0.0018404919861877425, 0.00075724862152593], \"type\": \"scatter\", \"uid\": \"0c23c626-d683-4ed2-88e1-bdd6d60c0af2\"}], {}, {\"showLink\": false, \"linkText\": \"Export to plot.ly\", \"plotlyServerURL\": \"https://plot.ly\"}); \n",
       "}\n",
       "});</script><script type=\"text/javascript\">window.addEventListener(\"resize\", function(){if (document.getElementById(\"05ab854d-2cd2-4bc2-9472-ea33cd05ba28\")) {window._Plotly.Plots.resize(document.getElementById(\"05ab854d-2cd2-4bc2-9472-ea33cd05ba28\"));};})</script>"
      ]
     },
     "metadata": {},
     "output_type": "display_data"
    }
   ],
   "source": [
    "from graph import trace_values, plot\n",
    "trace = trace_values(x_values, y_values)\n",
    "plot([trace])"
   ]
  },
  {
   "cell_type": "code",
   "execution_count": 99,
   "metadata": {},
   "outputs": [
    {
     "name": "stderr",
     "output_type": "stream",
     "text": [
      "/anaconda3/lib/python3.7/site-packages/sklearn/preprocessing/data.py:625: DataConversionWarning:\n",
      "\n",
      "Data with input dtype int64, float64 were all converted to float64 by StandardScaler.\n",
      "\n"
     ]
    },
    {
     "data": {
      "text/plain": [
       "StandardScaler(copy=True, with_mean=True, with_std=True)"
      ]
     },
     "execution_count": 99,
     "metadata": {},
     "output_type": "execute_result"
    }
   ],
   "source": [
    "from sklearn.preprocessing import StandardScaler\n",
    "scaler = StandardScaler()\n",
    "scaler.fit(ted_data)"
   ]
  },
  {
   "cell_type": "code",
   "execution_count": 100,
   "metadata": {},
   "outputs": [
    {
     "name": "stderr",
     "output_type": "stream",
     "text": [
      "/anaconda3/lib/python3.7/site-packages/sklearn/preprocessing/data.py:625: DataConversionWarning:\n",
      "\n",
      "Data with input dtype int64, float64 were all converted to float64 by StandardScaler.\n",
      "\n",
      "/anaconda3/lib/python3.7/site-packages/sklearn/base.py:462: DataConversionWarning:\n",
      "\n",
      "Data with input dtype int64, float64 were all converted to float64 by StandardScaler.\n",
      "\n"
     ]
    }
   ],
   "source": [
    "scaled_data = scaler.fit_transform(ted_data)"
   ]
  },
  {
   "cell_type": "code",
   "execution_count": 101,
   "metadata": {},
   "outputs": [],
   "source": [
    "scaled_X = scaled_data[:, 1:]\n",
    "scaled_y = scaled_data[:, 0]"
   ]
  },
  {
   "cell_type": "code",
   "execution_count": 102,
   "metadata": {},
   "outputs": [],
   "source": [
    "scaled_X_train, scaled_X_test, scaled_y_train, scaled_y_test = train_test_split(scaled_X, scaled_y, test_size=0.33, random_state=35)"
   ]
  },
  {
   "cell_type": "code",
   "execution_count": 103,
   "metadata": {},
   "outputs": [],
   "source": [
    "from sklearn.linear_model import LinearRegression\n",
    "from sklearn.feature_selection import RFECV\n",
    "model = LinearRegression(n_jobs = -1)\n",
    "rfecv = RFECV(model, cv = 5)\n",
    "X_train_rfecv = rfecv.fit(X_train,y_train)"
   ]
  },
  {
   "cell_type": "code",
   "execution_count": 104,
   "metadata": {},
   "outputs": [],
   "source": [
    "grid_scores = X_train_rfecv.grid_scores_"
   ]
  },
  {
   "cell_type": "code",
   "execution_count": 105,
   "metadata": {},
   "outputs": [
    {
     "data": {
      "text/plain": [
       "array([5.42381967e-04, 9.25928992e-03, 1.04171839e-02, 1.66873577e-02,\n",
       "       2.08194413e-02, 1.82132198e-02, 1.94012287e-02, 1.70026778e-02,\n",
       "       3.72507273e-02, 6.84461585e-02, 1.36365246e-01, 1.61636435e-01,\n",
       "       1.36219975e-01, 3.51385604e-01, 3.21857905e-01, 4.23897547e-01,\n",
       "       4.97896567e-01, 4.93479115e-01, 5.07330797e-01, 5.74617757e-01,\n",
       "       6.17718790e-01, 6.16333272e-01, 6.19454178e-01, 6.29426466e-01,\n",
       "       6.31301874e-01, 6.17457536e-01, 6.15509011e-01, 6.15526115e-01,\n",
       "       6.17429934e-01, 6.17930428e-01, 6.34008898e-01, 6.33993528e-01])"
      ]
     },
     "execution_count": 105,
     "metadata": {},
     "output_type": "execute_result"
    }
   ],
   "source": [
    "grid_scores"
   ]
  },
  {
   "cell_type": "code",
   "execution_count": 106,
   "metadata": {},
   "outputs": [],
   "source": [
    "x_value_range = list(range(0, len(grid_scores)))[::-1]"
   ]
  },
  {
   "cell_type": "code",
   "execution_count": 107,
   "metadata": {},
   "outputs": [
    {
     "data": {
      "application/vnd.plotly.v1+json": {
       "config": {
        "linkText": "Export to plot.ly",
        "plotlyServerURL": "https://plot.ly",
        "showLink": false
       },
       "data": [
        {
         "mode": "markers",
         "name": "data",
         "text": [],
         "type": "scatter",
         "uid": "ba1817bc-aef8-40fc-9f3b-11ea9cd8d36e",
         "x": [
          31,
          30,
          29,
          28,
          27,
          26,
          25,
          24,
          23,
          22,
          21,
          20,
          19,
          18,
          17,
          16,
          15,
          14,
          13,
          12,
          11,
          10,
          9,
          8,
          7,
          6,
          5,
          4,
          3,
          2,
          1,
          0
         ],
         "y": [
          0.0005423819666505736,
          0.009259289915250535,
          0.010417183878312475,
          0.01668735773293024,
          0.02081944132723721,
          0.018213219790370227,
          0.019401228740134745,
          0.01700267778616855,
          0.03725072733624109,
          0.06844615846614606,
          0.13636524583180912,
          0.16163643530580696,
          0.1362199752352685,
          0.3513856035369558,
          0.32185790511008633,
          0.42389754668322793,
          0.4978965673390561,
          0.4934791147243244,
          0.5073307965322048,
          0.5746177567964614,
          0.617718790335055,
          0.6163332719261395,
          0.6194541776685127,
          0.629426465781728,
          0.6313018736462794,
          0.6174575356912507,
          0.6155090111892877,
          0.6155261154369465,
          0.6174299339973608,
          0.6179304283663818,
          0.6340088982672869,
          0.6339935283307054
         ]
        }
       ],
       "layout": {}
      },
      "text/html": [
       "<div id=\"7f6dbb9a-fb92-4dcf-b186-7fb8dbea94b9\" style=\"height: 525px; width: 100%;\" class=\"plotly-graph-div\"></div><script type=\"text/javascript\">require([\"plotly\"], function(Plotly) { window.PLOTLYENV=window.PLOTLYENV || {};window.PLOTLYENV.BASE_URL=\"https://plot.ly\";\n",
       "if (document.getElementById(\"7f6dbb9a-fb92-4dcf-b186-7fb8dbea94b9\")) {\n",
       "    Plotly.newPlot(\"7f6dbb9a-fb92-4dcf-b186-7fb8dbea94b9\", [{\"mode\": \"markers\", \"name\": \"data\", \"text\": [], \"x\": [31, 30, 29, 28, 27, 26, 25, 24, 23, 22, 21, 20, 19, 18, 17, 16, 15, 14, 13, 12, 11, 10, 9, 8, 7, 6, 5, 4, 3, 2, 1, 0], \"y\": [0.0005423819666505736, 0.009259289915250535, 0.010417183878312475, 0.01668735773293024, 0.02081944132723721, 0.018213219790370227, 0.019401228740134745, 0.01700267778616855, 0.03725072733624109, 0.06844615846614606, 0.13636524583180912, 0.16163643530580696, 0.1362199752352685, 0.3513856035369558, 0.32185790511008633, 0.42389754668322793, 0.4978965673390561, 0.4934791147243244, 0.5073307965322048, 0.5746177567964614, 0.617718790335055, 0.6163332719261395, 0.6194541776685127, 0.629426465781728, 0.6313018736462794, 0.6174575356912507, 0.6155090111892877, 0.6155261154369465, 0.6174299339973608, 0.6179304283663818, 0.6340088982672869, 0.6339935283307054], \"type\": \"scatter\", \"uid\": \"b0972334-641b-4fc1-bcaf-4355c9fcfc63\"}], {}, {\"showLink\": false, \"linkText\": \"Export to plot.ly\", \"plotlyServerURL\": \"https://plot.ly\"}); \n",
       "}\n",
       "});</script><script type=\"text/javascript\">window.addEventListener(\"resize\", function(){if (document.getElementById(\"7f6dbb9a-fb92-4dcf-b186-7fb8dbea94b9\")) {window._Plotly.Plots.resize(document.getElementById(\"7f6dbb9a-fb92-4dcf-b186-7fb8dbea94b9\"));};})</script>"
      ],
      "text/vnd.plotly.v1+html": [
       "<div id=\"7f6dbb9a-fb92-4dcf-b186-7fb8dbea94b9\" style=\"height: 525px; width: 100%;\" class=\"plotly-graph-div\"></div><script type=\"text/javascript\">require([\"plotly\"], function(Plotly) { window.PLOTLYENV=window.PLOTLYENV || {};window.PLOTLYENV.BASE_URL=\"https://plot.ly\";\n",
       "if (document.getElementById(\"7f6dbb9a-fb92-4dcf-b186-7fb8dbea94b9\")) {\n",
       "    Plotly.newPlot(\"7f6dbb9a-fb92-4dcf-b186-7fb8dbea94b9\", [{\"mode\": \"markers\", \"name\": \"data\", \"text\": [], \"x\": [31, 30, 29, 28, 27, 26, 25, 24, 23, 22, 21, 20, 19, 18, 17, 16, 15, 14, 13, 12, 11, 10, 9, 8, 7, 6, 5, 4, 3, 2, 1, 0], \"y\": [0.0005423819666505736, 0.009259289915250535, 0.010417183878312475, 0.01668735773293024, 0.02081944132723721, 0.018213219790370227, 0.019401228740134745, 0.01700267778616855, 0.03725072733624109, 0.06844615846614606, 0.13636524583180912, 0.16163643530580696, 0.1362199752352685, 0.3513856035369558, 0.32185790511008633, 0.42389754668322793, 0.4978965673390561, 0.4934791147243244, 0.5073307965322048, 0.5746177567964614, 0.617718790335055, 0.6163332719261395, 0.6194541776685127, 0.629426465781728, 0.6313018736462794, 0.6174575356912507, 0.6155090111892877, 0.6155261154369465, 0.6174299339973608, 0.6179304283663818, 0.6340088982672869, 0.6339935283307054], \"type\": \"scatter\", \"uid\": \"b0972334-641b-4fc1-bcaf-4355c9fcfc63\"}], {}, {\"showLink\": false, \"linkText\": \"Export to plot.ly\", \"plotlyServerURL\": \"https://plot.ly\"}); \n",
       "}\n",
       "});</script><script type=\"text/javascript\">window.addEventListener(\"resize\", function(){if (document.getElementById(\"7f6dbb9a-fb92-4dcf-b186-7fb8dbea94b9\")) {window._Plotly.Plots.resize(document.getElementById(\"7f6dbb9a-fb92-4dcf-b186-7fb8dbea94b9\"));};})</script>"
      ]
     },
     "metadata": {},
     "output_type": "display_data"
    }
   ],
   "source": [
    "from graph import trace_values, plot\n",
    "score_trace = trace_values(x_value_range[-50:], grid_scores[-50:])\n",
    "plot([score_trace])"
   ]
  },
  {
   "cell_type": "code",
   "execution_count": 108,
   "metadata": {},
   "outputs": [],
   "source": [
    "scaled_X_train, scaled_X_validate, scaled_y_train, scaled_y_validate = train_test_split(scaled_X_train, scaled_y_train, test_size=0.33, random_state=35)"
   ]
  },
  {
   "cell_type": "code",
   "execution_count": 110,
   "metadata": {},
   "outputs": [],
   "source": [
    "from sklearn.feature_selection import RFE\n",
    "from sklearn.linear_model import LinearRegression\n",
    "import numpy as np\n",
    "\n",
    "selectors = []\n",
    "\n",
    "for idx in list(range(1, 33, 1))[::-1]:\n",
    "    # 1. create an estimator\n",
    "    estimator = LinearRegression(n_jobs=-1)\n",
    "    # 2. perform rfe with the idx number of features\n",
    "    rfe = RFE(estimator, idx, step=1)\n",
    "    # 3. reduce the dataset to the number of features\n",
    "    scaled_X_train_rfe = rfe.fit_transform(scaled_X_train,scaled_y_train)\n",
    "    scaled_X_validate_rfe = rfe.transform(scaled_X_validate)\n",
    "    # 4. compute the accuracy score and append to the list\n",
    "    estimator.fit(scaled_X_train_rfe,scaled_y_train)\n",
    "    score = estimator.score(scaled_X_validate_rfe,scaled_y_validate)\n",
    "    selectors.append(np.array([rfe, score, idx]))"
   ]
  },
  {
   "cell_type": "code",
   "execution_count": 111,
   "metadata": {},
   "outputs": [],
   "source": [
    "wrapped_selectors = np.array(selectors)"
   ]
  },
  {
   "cell_type": "code",
   "execution_count": 112,
   "metadata": {},
   "outputs": [],
   "source": [
    "y_values = wrapped_selectors[:, 1]\n",
    "x_values = wrapped_selectors[:, -1]"
   ]
  },
  {
   "cell_type": "code",
   "execution_count": 149,
   "metadata": {},
   "outputs": [
    {
     "data": {
      "text/plain": [
       "array([0.27905423, 0.21408435, 0.38520725, 0.18199012])"
      ]
     },
     "execution_count": 149,
     "metadata": {},
     "output_type": "execute_result"
    }
   ],
   "source": [
    "wrapped_selectors[-4, 0].estimator_.coef_"
   ]
  },
  {
   "cell_type": "code",
   "execution_count": 150,
   "metadata": {},
   "outputs": [],
   "source": [
    "support = wrapped_selectors[-4, 0].get_support()"
   ]
  },
  {
   "cell_type": "code",
   "execution_count": 151,
   "metadata": {},
   "outputs": [
    {
     "data": {
      "text/plain": [
       "array(['Funny_ratings', 'Beautiful_ratings', 'Informative_ratings',\n",
       "       'OK_ratings'], dtype=object)"
      ]
     },
     "execution_count": 151,
     "metadata": {},
     "output_type": "execute_result"
    }
   ],
   "source": [
    "import numpy as np\n",
    "feature_names = np.array(X.columns) # transformed list to array\n",
    "names = feature_names[support]"
   ]
  },
  {
   "cell_type": "code",
   "execution_count": 113,
   "metadata": {},
   "outputs": [
    {
     "data": {
      "application/vnd.plotly.v1+json": {
       "config": {
        "linkText": "Export to plot.ly",
        "plotlyServerURL": "https://plot.ly",
        "showLink": false
       },
       "data": [
        {
         "mode": "markers",
         "name": "data",
         "text": [],
         "type": "scatter",
         "uid": "085878a3-a1b0-49e8-977e-f638de6989bb",
         "x": [
          32,
          31,
          30,
          29,
          28,
          27,
          26,
          25,
          24,
          23,
          22,
          21,
          20,
          19,
          18,
          17,
          16,
          15,
          14,
          13,
          12,
          11,
          10,
          9,
          8,
          7,
          6,
          5,
          4,
          3,
          2,
          1
         ],
         "y": [
          0.7071051762992945,
          0.7070810818636484,
          0.7071034309361781,
          0.7069811632564877,
          0.7069271422933134,
          0.7071082595089386,
          0.7071897640877941,
          0.7070499875116257,
          0.7065680558582024,
          0.7064928341277659,
          0.7068638081511585,
          0.7062989046381398,
          0.7082226537621965,
          0.7093524916094406,
          0.7081047305204415,
          0.7081141006928646,
          0.7060308463396124,
          0.7031800592337841,
          0.7029167524302034,
          0.7003049640851695,
          0.6978846199983798,
          0.7000635902486225,
          0.696003483960481,
          0.6855183367117534,
          0.6770581411890932,
          0.6757838690276217,
          0.6505008927423317,
          0.6119487202789489,
          0.6059020006434753,
          0.5334269157832991,
          0.3835125510187714,
          0.26457631846530083
         ]
        }
       ],
       "layout": {}
      },
      "text/html": [
       "<div id=\"8ca613a5-190e-4c69-894f-6aefc3ab2439\" style=\"height: 525px; width: 100%;\" class=\"plotly-graph-div\"></div><script type=\"text/javascript\">require([\"plotly\"], function(Plotly) { window.PLOTLYENV=window.PLOTLYENV || {};window.PLOTLYENV.BASE_URL=\"https://plot.ly\";\n",
       "if (document.getElementById(\"8ca613a5-190e-4c69-894f-6aefc3ab2439\")) {\n",
       "    Plotly.newPlot(\"8ca613a5-190e-4c69-894f-6aefc3ab2439\", [{\"mode\": \"markers\", \"name\": \"data\", \"text\": [], \"x\": [32, 31, 30, 29, 28, 27, 26, 25, 24, 23, 22, 21, 20, 19, 18, 17, 16, 15, 14, 13, 12, 11, 10, 9, 8, 7, 6, 5, 4, 3, 2, 1], \"y\": [0.7071051762992945, 0.7070810818636484, 0.7071034309361781, 0.7069811632564877, 0.7069271422933134, 0.7071082595089386, 0.7071897640877941, 0.7070499875116257, 0.7065680558582024, 0.7064928341277659, 0.7068638081511585, 0.7062989046381398, 0.7082226537621965, 0.7093524916094406, 0.7081047305204415, 0.7081141006928646, 0.7060308463396124, 0.7031800592337841, 0.7029167524302034, 0.7003049640851695, 0.6978846199983798, 0.7000635902486225, 0.696003483960481, 0.6855183367117534, 0.6770581411890932, 0.6757838690276217, 0.6505008927423317, 0.6119487202789489, 0.6059020006434753, 0.5334269157832991, 0.3835125510187714, 0.26457631846530083], \"type\": \"scatter\", \"uid\": \"1abe3d65-4f23-49ec-86ef-67ed9377cd1f\"}], {}, {\"showLink\": false, \"linkText\": \"Export to plot.ly\", \"plotlyServerURL\": \"https://plot.ly\"}); \n",
       "}\n",
       "});</script><script type=\"text/javascript\">window.addEventListener(\"resize\", function(){if (document.getElementById(\"8ca613a5-190e-4c69-894f-6aefc3ab2439\")) {window._Plotly.Plots.resize(document.getElementById(\"8ca613a5-190e-4c69-894f-6aefc3ab2439\"));};})</script>"
      ],
      "text/vnd.plotly.v1+html": [
       "<div id=\"8ca613a5-190e-4c69-894f-6aefc3ab2439\" style=\"height: 525px; width: 100%;\" class=\"plotly-graph-div\"></div><script type=\"text/javascript\">require([\"plotly\"], function(Plotly) { window.PLOTLYENV=window.PLOTLYENV || {};window.PLOTLYENV.BASE_URL=\"https://plot.ly\";\n",
       "if (document.getElementById(\"8ca613a5-190e-4c69-894f-6aefc3ab2439\")) {\n",
       "    Plotly.newPlot(\"8ca613a5-190e-4c69-894f-6aefc3ab2439\", [{\"mode\": \"markers\", \"name\": \"data\", \"text\": [], \"x\": [32, 31, 30, 29, 28, 27, 26, 25, 24, 23, 22, 21, 20, 19, 18, 17, 16, 15, 14, 13, 12, 11, 10, 9, 8, 7, 6, 5, 4, 3, 2, 1], \"y\": [0.7071051762992945, 0.7070810818636484, 0.7071034309361781, 0.7069811632564877, 0.7069271422933134, 0.7071082595089386, 0.7071897640877941, 0.7070499875116257, 0.7065680558582024, 0.7064928341277659, 0.7068638081511585, 0.7062989046381398, 0.7082226537621965, 0.7093524916094406, 0.7081047305204415, 0.7081141006928646, 0.7060308463396124, 0.7031800592337841, 0.7029167524302034, 0.7003049640851695, 0.6978846199983798, 0.7000635902486225, 0.696003483960481, 0.6855183367117534, 0.6770581411890932, 0.6757838690276217, 0.6505008927423317, 0.6119487202789489, 0.6059020006434753, 0.5334269157832991, 0.3835125510187714, 0.26457631846530083], \"type\": \"scatter\", \"uid\": \"1abe3d65-4f23-49ec-86ef-67ed9377cd1f\"}], {}, {\"showLink\": false, \"linkText\": \"Export to plot.ly\", \"plotlyServerURL\": \"https://plot.ly\"}); \n",
       "}\n",
       "});</script><script type=\"text/javascript\">window.addEventListener(\"resize\", function(){if (document.getElementById(\"8ca613a5-190e-4c69-894f-6aefc3ab2439\")) {window._Plotly.Plots.resize(document.getElementById(\"8ca613a5-190e-4c69-894f-6aefc3ab2439\"));};})</script>"
      ]
     },
     "metadata": {},
     "output_type": "display_data"
    }
   ],
   "source": [
    "from graph import trace_values, plot\n",
    "trace = trace_values(x_values, y_values)\n",
    "plot([trace])"
   ]
  },
  {
   "cell_type": "code",
   "execution_count": 158,
   "metadata": {},
   "outputs": [
    {
     "data": {
      "text/plain": [
       "0.8222000353530414"
      ]
     },
     "execution_count": 158,
     "metadata": {},
     "output_type": "execute_result"
    }
   ],
   "source": [
    "wrapped_selectors[-4, 0].score(scaled_X_test, scaled_y_test)"
   ]
  },
  {
   "cell_type": "code",
   "execution_count": 159,
   "metadata": {},
   "outputs": [
    {
     "data": {
      "text/plain": [
       "array([[4.722711e+07, 4.553000e+03, 1.164000e+03, ..., 0.000000e+00,\n",
       "        0.000000e+00, 0.000000e+00],\n",
       "       [3.200520e+06, 2.650000e+02, 9.770000e+02, ..., 0.000000e+00,\n",
       "        0.000000e+00, 0.000000e+00],\n",
       "       [1.636292e+06, 1.240000e+02, 1.286000e+03, ..., 0.000000e+00,\n",
       "        0.000000e+00, 0.000000e+00],\n",
       "       ...,\n",
       "       [3.756470e+05, 1.000000e+01, 6.510000e+02, ..., 1.000000e+00,\n",
       "        0.000000e+00, 0.000000e+00],\n",
       "       [4.193090e+05, 3.200000e+01, 1.100000e+03, ..., 0.000000e+00,\n",
       "        0.000000e+00, 0.000000e+00],\n",
       "       [3.917210e+05, 8.000000e+00, 5.190000e+02, ..., 0.000000e+00,\n",
       "        1.000000e+00, 0.000000e+00]])"
      ]
     },
     "execution_count": 159,
     "metadata": {},
     "output_type": "execute_result"
    }
   ],
   "source": [
    "scaler.inverse_transform(scaled_data)"
   ]
  },
  {
   "cell_type": "code",
   "execution_count": 160,
   "metadata": {},
   "outputs": [],
   "source": [
    "model = LinearRegression(n_jobs = -1)"
   ]
  },
  {
   "cell_type": "code",
   "execution_count": 169,
   "metadata": {},
   "outputs": [
    {
     "data": {
      "text/plain": [
       "LinearRegression(copy_X=True, fit_intercept=True, n_jobs=-1, normalize=False)"
      ]
     },
     "execution_count": 169,
     "metadata": {},
     "output_type": "execute_result"
    }
   ],
   "source": [
    "model.fit(X_train[feature_names[support]],y_train)"
   ]
  },
  {
   "cell_type": "code",
   "execution_count": 170,
   "metadata": {},
   "outputs": [
    {
     "data": {
      "text/plain": [
       "0.8222000353530405"
      ]
     },
     "execution_count": 170,
     "metadata": {},
     "output_type": "execute_result"
    }
   ],
   "source": [
    "model.score(X_test[feature_names[support]], y_test)"
   ]
  },
  {
   "cell_type": "code",
   "execution_count": 172,
   "metadata": {},
   "outputs": [
    {
     "data": {
      "text/plain": [
       "268845.05116320425"
      ]
     },
     "execution_count": 172,
     "metadata": {},
     "output_type": "execute_result"
    }
   ],
   "source": [
    "model.intercept_"
   ]
  },
  {
   "cell_type": "code",
   "execution_count": 171,
   "metadata": {},
   "outputs": [
    {
     "data": {
      "text/plain": [
       "array([1183.44351914, 1120.4704627 , 1781.53664189, 5034.23890768])"
      ]
     },
     "execution_count": 171,
     "metadata": {},
     "output_type": "execute_result"
    }
   ],
   "source": [
    "model.coef_"
   ]
  },
  {
   "cell_type": "code",
   "execution_count": 184,
   "metadata": {},
   "outputs": [],
   "source": [
    "names = feature_names[support]\n",
    "reduced_X = X[names]\n"
   ]
  },
  {
   "cell_type": "code",
   "execution_count": 185,
   "metadata": {},
   "outputs": [
    {
     "data": {
      "text/html": [
       "<div>\n",
       "<style scoped>\n",
       "    .dataframe tbody tr th:only-of-type {\n",
       "        vertical-align: middle;\n",
       "    }\n",
       "\n",
       "    .dataframe tbody tr th {\n",
       "        vertical-align: top;\n",
       "    }\n",
       "\n",
       "    .dataframe thead th {\n",
       "        text-align: right;\n",
       "    }\n",
       "</style>\n",
       "<table border=\"1\" class=\"dataframe\">\n",
       "  <thead>\n",
       "    <tr style=\"text-align: right;\">\n",
       "      <th></th>\n",
       "      <th>Funny_ratings</th>\n",
       "      <th>Beautiful_ratings</th>\n",
       "      <th>Informative_ratings</th>\n",
       "      <th>OK_ratings</th>\n",
       "    </tr>\n",
       "  </thead>\n",
       "  <tbody>\n",
       "    <tr>\n",
       "      <th>Funny_ratings</th>\n",
       "      <td>1.000000</td>\n",
       "      <td>0.359892</td>\n",
       "      <td>0.271243</td>\n",
       "      <td>0.479794</td>\n",
       "    </tr>\n",
       "    <tr>\n",
       "      <th>Beautiful_ratings</th>\n",
       "      <td>0.359892</td>\n",
       "      <td>1.000000</td>\n",
       "      <td>0.018205</td>\n",
       "      <td>0.251480</td>\n",
       "    </tr>\n",
       "    <tr>\n",
       "      <th>Informative_ratings</th>\n",
       "      <td>0.271243</td>\n",
       "      <td>0.018205</td>\n",
       "      <td>1.000000</td>\n",
       "      <td>0.446531</td>\n",
       "    </tr>\n",
       "    <tr>\n",
       "      <th>OK_ratings</th>\n",
       "      <td>0.479794</td>\n",
       "      <td>0.251480</td>\n",
       "      <td>0.446531</td>\n",
       "      <td>1.000000</td>\n",
       "    </tr>\n",
       "  </tbody>\n",
       "</table>\n",
       "</div>"
      ],
      "text/plain": [
       "                     Funny_ratings  Beautiful_ratings  Informative_ratings  \\\n",
       "Funny_ratings             1.000000           0.359892             0.271243   \n",
       "Beautiful_ratings         0.359892           1.000000             0.018205   \n",
       "Informative_ratings       0.271243           0.018205             1.000000   \n",
       "OK_ratings                0.479794           0.251480             0.446531   \n",
       "\n",
       "                     OK_ratings  \n",
       "Funny_ratings          0.479794  \n",
       "Beautiful_ratings      0.251480  \n",
       "Informative_ratings    0.446531  \n",
       "OK_ratings             1.000000  "
      ]
     },
     "execution_count": 185,
     "metadata": {},
     "output_type": "execute_result"
    }
   ],
   "source": [
    "reduced_X.corr(method = 'spearman')\n"
   ]
  },
  {
   "cell_type": "code",
   "execution_count": 187,
   "metadata": {},
   "outputs": [
    {
     "data": {
      "image/png": "[encoded data removed]",
      "text/plain": [
       "<Figure size 432x288 with 16 Axes>"
      ]
     },
     "metadata": {
      "needs_background": "light"
     },
     "output_type": "display_data"
    }
   ],
   "source": [
    "pd.plotting.scatter_matrix(reduced_X.rank());"
   ]
  },
  {
   "cell_type": "code",
   "execution_count": 189,
   "metadata": {},
   "outputs": [
    {
     "data": {
      "image/png": "[encoded data removed]",
      "text/plain": [
       "<Figure size 1152x720 with 1 Axes>"
      ]
     },
     "metadata": {
      "needs_background": "light"
     },
     "output_type": "display_data"
    }
   ],
   "source": [
    "import numpy as np\n",
    "import scipy.cluster.hierarchy as hc\n",
    "corr = reduced_X.corr(method = 'spearman')\n",
    "corr_condensed = hc.distance.squareform(1 - np.abs(corr))\n",
    "z = hc.linkage(corr_condensed, method = 'average')\n",
    "\n",
    "import matplotlib.pyplot as plt\n",
    "fig = plt.figure(figsize=(16,10))\n",
    "dendrogram = hc.dendrogram(z, labels = reduced_X.columns, orientation = 'left', leaf_font_size=16)"
   ]
  },
  {
   "cell_type": "code",
   "execution_count": null,
   "metadata": {},
   "outputs": [],
   "source": []
  }
 ],
 "metadata": {
  "kernelspec": {
   "display_name": "Python 3",
   "language": "python",
   "name": "python3"
  },
  "language_info": {
   "codemirror_mode": {
    "name": "ipython",
    "version": 3
   },
   "file_extension": ".py",
   "mimetype": "text/x-python",
   "name": "python",
   "nbconvert_exporter": "python",
   "pygments_lexer": "ipython3",
   "version": "3.7.1"
  }
 },
 "nbformat": 4,
 "nbformat_minor": 2
}
