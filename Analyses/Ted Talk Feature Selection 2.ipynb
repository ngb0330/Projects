{
 "cells": [
  {
   "cell_type": "code",
   "execution_count": 1,
   "metadata": {},
   "outputs": [],
   "source": [
    "import pandas as pd"
   ]
  },
  {
   "cell_type": "markdown",
   "metadata": {},
   "source": [
    "# Ted Talk Models with Date-Time Parts"
   ]
  },
  {
   "cell_type": "code",
   "execution_count": 2,
   "metadata": {},
   "outputs": [],
   "source": [
    "ted_data_with_dates = pd.read_feather('ted_data_with_dates')"
   ]
  },
  {
   "cell_type": "code",
   "execution_count": 3,
   "metadata": {},
   "outputs": [
    {
     "data": {
      "text/html": [
       "<div>\n",
       "<style scoped>\n",
       "    .dataframe tbody tr th:only-of-type {\n",
       "        vertical-align: middle;\n",
       "    }\n",
       "\n",
       "    .dataframe tbody tr th {\n",
       "        vertical-align: top;\n",
       "    }\n",
       "\n",
       "    .dataframe thead th {\n",
       "        text-align: right;\n",
       "    }\n",
       "</style>\n",
       "<table border=\"1\" class=\"dataframe\">\n",
       "  <thead>\n",
       "    <tr style=\"text-align: right;\">\n",
       "      <th></th>\n",
       "      <th>views</th>\n",
       "      <th>comments</th>\n",
       "      <th>duration</th>\n",
       "      <th>film_date</th>\n",
       "      <th>languages</th>\n",
       "      <th>num_speaker</th>\n",
       "      <th>published_date</th>\n",
       "      <th>Funny_ratings</th>\n",
       "      <th>Beautiful_ratings</th>\n",
       "      <th>Ingenious_ratings</th>\n",
       "      <th>...</th>\n",
       "      <th>film_Day</th>\n",
       "      <th>film_Dayofweek</th>\n",
       "      <th>film_Dayofyear</th>\n",
       "      <th>film_Is_month_end</th>\n",
       "      <th>film_Is_month_start</th>\n",
       "      <th>film_Is_quarter_end</th>\n",
       "      <th>film_Is_quarter_start</th>\n",
       "      <th>film_Is_year_end</th>\n",
       "      <th>film_Is_year_start</th>\n",
       "      <th>film_Elapsed</th>\n",
       "    </tr>\n",
       "  </thead>\n",
       "  <tbody>\n",
       "    <tr>\n",
       "      <th>0</th>\n",
       "      <td>47227110</td>\n",
       "      <td>4553</td>\n",
       "      <td>1164</td>\n",
       "      <td>1140825600</td>\n",
       "      <td>60</td>\n",
       "      <td>1</td>\n",
       "      <td>1151367060</td>\n",
       "      <td>19645.0</td>\n",
       "      <td>4573.0</td>\n",
       "      <td>6073.0</td>\n",
       "      <td>...</td>\n",
       "      <td>24</td>\n",
       "      <td>4</td>\n",
       "      <td>55</td>\n",
       "      <td>False</td>\n",
       "      <td>False</td>\n",
       "      <td>False</td>\n",
       "      <td>False</td>\n",
       "      <td>False</td>\n",
       "      <td>False</td>\n",
       "      <td>1140807600</td>\n",
       "    </tr>\n",
       "    <tr>\n",
       "      <th>1</th>\n",
       "      <td>3200520</td>\n",
       "      <td>265</td>\n",
       "      <td>977</td>\n",
       "      <td>1140825600</td>\n",
       "      <td>43</td>\n",
       "      <td>1</td>\n",
       "      <td>1151367060</td>\n",
       "      <td>544.0</td>\n",
       "      <td>58.0</td>\n",
       "      <td>56.0</td>\n",
       "      <td>...</td>\n",
       "      <td>24</td>\n",
       "      <td>4</td>\n",
       "      <td>55</td>\n",
       "      <td>False</td>\n",
       "      <td>False</td>\n",
       "      <td>False</td>\n",
       "      <td>False</td>\n",
       "      <td>False</td>\n",
       "      <td>False</td>\n",
       "      <td>1140807600</td>\n",
       "    </tr>\n",
       "    <tr>\n",
       "      <th>2</th>\n",
       "      <td>1636292</td>\n",
       "      <td>124</td>\n",
       "      <td>1286</td>\n",
       "      <td>1140739200</td>\n",
       "      <td>26</td>\n",
       "      <td>1</td>\n",
       "      <td>1151367060</td>\n",
       "      <td>964.0</td>\n",
       "      <td>60.0</td>\n",
       "      <td>183.0</td>\n",
       "      <td>...</td>\n",
       "      <td>23</td>\n",
       "      <td>3</td>\n",
       "      <td>54</td>\n",
       "      <td>False</td>\n",
       "      <td>False</td>\n",
       "      <td>False</td>\n",
       "      <td>False</td>\n",
       "      <td>False</td>\n",
       "      <td>False</td>\n",
       "      <td>1140721200</td>\n",
       "    </tr>\n",
       "    <tr>\n",
       "      <th>3</th>\n",
       "      <td>1697550</td>\n",
       "      <td>200</td>\n",
       "      <td>1116</td>\n",
       "      <td>1140912000</td>\n",
       "      <td>35</td>\n",
       "      <td>1</td>\n",
       "      <td>1151367060</td>\n",
       "      <td>59.0</td>\n",
       "      <td>291.0</td>\n",
       "      <td>105.0</td>\n",
       "      <td>...</td>\n",
       "      <td>25</td>\n",
       "      <td>5</td>\n",
       "      <td>56</td>\n",
       "      <td>False</td>\n",
       "      <td>False</td>\n",
       "      <td>False</td>\n",
       "      <td>False</td>\n",
       "      <td>False</td>\n",
       "      <td>False</td>\n",
       "      <td>1140894000</td>\n",
       "    </tr>\n",
       "    <tr>\n",
       "      <th>4</th>\n",
       "      <td>12005869</td>\n",
       "      <td>593</td>\n",
       "      <td>1190</td>\n",
       "      <td>1140566400</td>\n",
       "      <td>48</td>\n",
       "      <td>1</td>\n",
       "      <td>1151440680</td>\n",
       "      <td>1390.0</td>\n",
       "      <td>942.0</td>\n",
       "      <td>3202.0</td>\n",
       "      <td>...</td>\n",
       "      <td>21</td>\n",
       "      <td>1</td>\n",
       "      <td>52</td>\n",
       "      <td>False</td>\n",
       "      <td>False</td>\n",
       "      <td>False</td>\n",
       "      <td>False</td>\n",
       "      <td>False</td>\n",
       "      <td>False</td>\n",
       "      <td>1140548400</td>\n",
       "    </tr>\n",
       "  </tbody>\n",
       "</table>\n",
       "<p>5 rows × 72 columns</p>\n",
       "</div>"
      ],
      "text/plain": [
       "      views  comments  duration   film_date  languages  num_speaker  \\\n",
       "0  47227110      4553      1164  1140825600         60            1   \n",
       "1   3200520       265       977  1140825600         43            1   \n",
       "2   1636292       124      1286  1140739200         26            1   \n",
       "3   1697550       200      1116  1140912000         35            1   \n",
       "4  12005869       593      1190  1140566400         48            1   \n",
       "\n",
       "   published_date  Funny_ratings  Beautiful_ratings  Ingenious_ratings  ...  \\\n",
       "0      1151367060        19645.0             4573.0             6073.0  ...   \n",
       "1      1151367060          544.0               58.0               56.0  ...   \n",
       "2      1151367060          964.0               60.0              183.0  ...   \n",
       "3      1151367060           59.0              291.0              105.0  ...   \n",
       "4      1151440680         1390.0              942.0             3202.0  ...   \n",
       "\n",
       "   film_Day  film_Dayofweek  film_Dayofyear  film_Is_month_end  \\\n",
       "0        24               4              55              False   \n",
       "1        24               4              55              False   \n",
       "2        23               3              54              False   \n",
       "3        25               5              56              False   \n",
       "4        21               1              52              False   \n",
       "\n",
       "   film_Is_month_start  film_Is_quarter_end  film_Is_quarter_start  \\\n",
       "0                False                False                  False   \n",
       "1                False                False                  False   \n",
       "2                False                False                  False   \n",
       "3                False                False                  False   \n",
       "4                False                False                  False   \n",
       "\n",
       "   film_Is_year_end  film_Is_year_start  film_Elapsed  \n",
       "0             False               False    1140807600  \n",
       "1             False               False    1140807600  \n",
       "2             False               False    1140721200  \n",
       "3             False               False    1140894000  \n",
       "4             False               False    1140548400  \n",
       "\n",
       "[5 rows x 72 columns]"
      ]
     },
     "execution_count": 3,
     "metadata": {},
     "output_type": "execute_result"
    }
   ],
   "source": [
    "ted_data_with_dates.head()"
   ]
  },
  {
   "cell_type": "code",
   "execution_count": 4,
   "metadata": {},
   "outputs": [
    {
     "data": {
      "text/plain": [
       "False"
      ]
     },
     "execution_count": 4,
     "metadata": {},
     "output_type": "execute_result"
    }
   ],
   "source": [
    "ted_data_with_dates.isnull().values.any()"
   ]
  },
  {
   "cell_type": "code",
   "execution_count": 5,
   "metadata": {},
   "outputs": [],
   "source": [
    "with_dates_y = ted_data_with_dates.views\n",
    "with_dates_X = ted_data_with_dates.drop(columns=['views'])"
   ]
  },
  {
   "cell_type": "code",
   "execution_count": 6,
   "metadata": {},
   "outputs": [],
   "source": [
    "from sklearn.linear_model import LinearRegression\n",
    "from sklearn.model_selection import train_test_split"
   ]
  },
  {
   "cell_type": "code",
   "execution_count": 7,
   "metadata": {},
   "outputs": [],
   "source": [
    "with_dates_X_train, with_dates_X_test, with_dates_y_train, with_dates_y_test = train_test_split(with_dates_X, with_dates_y, test_size=0.3, random_state=35)"
   ]
  },
  {
   "cell_type": "code",
   "execution_count": 8,
   "metadata": {},
   "outputs": [],
   "source": [
    "from sklearn.feature_selection import RFECV\n",
    "model = LinearRegression(n_jobs = -1)\n",
    "rfecv = RFECV(model, cv = 5)\n",
    "with_dates_X_train_rfecv = rfecv.fit(with_dates_X_train,with_dates_y_train)"
   ]
  },
  {
   "cell_type": "code",
   "execution_count": 9,
   "metadata": {},
   "outputs": [],
   "source": [
    "grid_scores = with_dates_X_train_rfecv.grid_scores_\n",
    "x_value_range = list(range(0, len(grid_scores)))[::-1]"
   ]
  },
  {
   "cell_type": "code",
   "execution_count": 10,
   "metadata": {},
   "outputs": [
    {
     "data": {
      "text/html": [
       "<script type=\"text/javascript\">window.PlotlyConfig = {MathJaxConfig: 'local'};</script><script type=\"text/javascript\">if (window.MathJax) {MathJax.Hub.Config({SVG: {font: \"STIX-Web\"}});}</script><script>requirejs.config({paths: { 'plotly': ['https://cdn.plot.ly/plotly-latest.min']},});if(!window._Plotly) {require(['plotly'],function(plotly) {window._Plotly=plotly;});}</script>"
      ],
      "text/vnd.plotly.v1+html": [
       "<script type=\"text/javascript\">window.PlotlyConfig = {MathJaxConfig: 'local'};</script><script type=\"text/javascript\">if (window.MathJax) {MathJax.Hub.Config({SVG: {font: \"STIX-Web\"}});}</script><script>requirejs.config({paths: { 'plotly': ['https://cdn.plot.ly/plotly-latest.min']},});if(!window._Plotly) {require(['plotly'],function(plotly) {window._Plotly=plotly;});}</script>"
      ]
     },
     "metadata": {},
     "output_type": "display_data"
    },
    {
     "data": {
      "application/vnd.plotly.v1+json": {
       "config": {
        "linkText": "Export to plot.ly",
        "plotlyServerURL": "https://plot.ly",
        "showLink": false
       },
       "data": [
        {
         "mode": "markers",
         "name": "data",
         "text": [],
         "type": "scatter",
         "uid": "88283d3f-c169-455f-83ab-85e43f45c131",
         "x": [
          70,
          69,
          68,
          67,
          66,
          65,
          64,
          63,
          62,
          61,
          60,
          59,
          58,
          57,
          56,
          55,
          54,
          53,
          52,
          51,
          50,
          49,
          48,
          47,
          46,
          45,
          44,
          43,
          42,
          41,
          40,
          39,
          38,
          37,
          36,
          35,
          34,
          33,
          32,
          31,
          30,
          29,
          28,
          27,
          26,
          25,
          24,
          23,
          22,
          21,
          20,
          19,
          18,
          17,
          16,
          15,
          14,
          13,
          12,
          11,
          10,
          9,
          8,
          7,
          6,
          5,
          4,
          3,
          2,
          1,
          0
         ],
         "y": [
          0.0032357171035875877,
          0.0031956185991434136,
          -0.0018088575122389371,
          -0.0017424659634527329,
          0.00856043765303347,
          0.012513511624247875,
          0.014619368889652784,
          0.017656564223814075,
          0.019567018777122903,
          0.020593146001443862,
          0.026886081532578276,
          0.027428201316145272,
          0.036467535579585375,
          0.034926652535701305,
          0.035075259072606314,
          0.034798279926720264,
          0.037117105631778634,
          0.03744382708914584,
          0.03935546750455614,
          0.037848034623190176,
          0.03932486882234685,
          0.039790870404542614,
          0.04091976892886582,
          0.0743717456041428,
          0.07480645827510686,
          0.07492397927406662,
          0.10055515210582178,
          0.11674803178608295,
          0.1172276295887329,
          0.11605329658229761,
          0.1467848736923034,
          0.1475403890639913,
          0.14946106712606275,
          0.14955397488108954,
          0.17712015785764582,
          0.1759717836750216,
          0.176739910060842,
          0.25305571443084907,
          0.2552479702773104,
          0.2527855947006622,
          0.24503460832656088,
          0.2471300664142267,
          0.2879251631172244,
          0.4002752383850464,
          0.4006913416286685,
          0.4280254481204519,
          0.41196911601592145,
          0.4517006805385299,
          0.5004210817936867,
          0.4949044807906283,
          0.5589005170488248,
          0.559165733648433,
          0.5712810190419099,
          0.571340232127924,
          0.6118467205427186,
          0.6319509548045918,
          0.6564806636603999,
          0.6579843994984903,
          0.6698435057478787,
          0.6705467024205598,
          0.6774712109791383,
          0.6751772363956842,
          0.67246466303324,
          0.6689869250133486,
          0.668619081357537,
          0.6697410099393084,
          0.669926812858707,
          0.6710779652061202,
          0.6497549672281665,
          0.6507136380115786,
          0.6507136380020098
         ]
        }
       ],
       "layout": {}
      },
      "text/html": [
       "<div id=\"9a65372d-50c3-4928-bda9-9f9558f9b6e9\" style=\"height: 525px; width: 100%;\" class=\"plotly-graph-div\"></div><script type=\"text/javascript\">require([\"plotly\"], function(Plotly) { window.PLOTLYENV=window.PLOTLYENV || {};window.PLOTLYENV.BASE_URL=\"https://plot.ly\";\n",
       "if (document.getElementById(\"9a65372d-50c3-4928-bda9-9f9558f9b6e9\")) {\n",
       "    Plotly.newPlot(\"9a65372d-50c3-4928-bda9-9f9558f9b6e9\", [{\"mode\": \"markers\", \"name\": \"data\", \"text\": [], \"x\": [70, 69, 68, 67, 66, 65, 64, 63, 62, 61, 60, 59, 58, 57, 56, 55, 54, 53, 52, 51, 50, 49, 48, 47, 46, 45, 44, 43, 42, 41, 40, 39, 38, 37, 36, 35, 34, 33, 32, 31, 30, 29, 28, 27, 26, 25, 24, 23, 22, 21, 20, 19, 18, 17, 16, 15, 14, 13, 12, 11, 10, 9, 8, 7, 6, 5, 4, 3, 2, 1, 0], \"y\": [0.0032357171035875877, 0.0031956185991434136, -0.0018088575122389371, -0.0017424659634527329, 0.00856043765303347, 0.012513511624247875, 0.014619368889652784, 0.017656564223814075, 0.019567018777122903, 0.020593146001443862, 0.026886081532578276, 0.027428201316145272, 0.036467535579585375, 0.034926652535701305, 0.035075259072606314, 0.034798279926720264, 0.037117105631778634, 0.03744382708914584, 0.03935546750455614, 0.037848034623190176, 0.03932486882234685, 0.039790870404542614, 0.04091976892886582, 0.0743717456041428, 0.07480645827510686, 0.07492397927406662, 0.10055515210582178, 0.11674803178608295, 0.1172276295887329, 0.11605329658229761, 0.1467848736923034, 0.1475403890639913, 0.14946106712606275, 0.14955397488108954, 0.17712015785764582, 0.1759717836750216, 0.176739910060842, 0.25305571443084907, 0.2552479702773104, 0.2527855947006622, 0.24503460832656088, 0.2471300664142267, 0.2879251631172244, 0.4002752383850464, 0.4006913416286685, 0.4280254481204519, 0.41196911601592145, 0.4517006805385299, 0.5004210817936867, 0.4949044807906283, 0.5589005170488248, 0.559165733648433, 0.5712810190419099, 0.571340232127924, 0.6118467205427186, 0.6319509548045918, 0.6564806636603999, 0.6579843994984903, 0.6698435057478787, 0.6705467024205598, 0.6774712109791383, 0.6751772363956842, 0.67246466303324, 0.6689869250133486, 0.668619081357537, 0.6697410099393084, 0.669926812858707, 0.6710779652061202, 0.6497549672281665, 0.6507136380115786, 0.6507136380020098], \"type\": \"scatter\", \"uid\": \"fcd24745-d084-4a84-8326-2550e44d0092\"}], {}, {\"showLink\": false, \"linkText\": \"Export to plot.ly\", \"plotlyServerURL\": \"https://plot.ly\"}); \n",
       "}\n",
       "});</script><script type=\"text/javascript\">window.addEventListener(\"resize\", function(){if (document.getElementById(\"9a65372d-50c3-4928-bda9-9f9558f9b6e9\")) {window._Plotly.Plots.resize(document.getElementById(\"9a65372d-50c3-4928-bda9-9f9558f9b6e9\"));};})</script>"
      ],
      "text/vnd.plotly.v1+html": [
       "<div id=\"9a65372d-50c3-4928-bda9-9f9558f9b6e9\" style=\"height: 525px; width: 100%;\" class=\"plotly-graph-div\"></div><script type=\"text/javascript\">require([\"plotly\"], function(Plotly) { window.PLOTLYENV=window.PLOTLYENV || {};window.PLOTLYENV.BASE_URL=\"https://plot.ly\";\n",
       "if (document.getElementById(\"9a65372d-50c3-4928-bda9-9f9558f9b6e9\")) {\n",
       "    Plotly.newPlot(\"9a65372d-50c3-4928-bda9-9f9558f9b6e9\", [{\"mode\": \"markers\", \"name\": \"data\", \"text\": [], \"x\": [70, 69, 68, 67, 66, 65, 64, 63, 62, 61, 60, 59, 58, 57, 56, 55, 54, 53, 52, 51, 50, 49, 48, 47, 46, 45, 44, 43, 42, 41, 40, 39, 38, 37, 36, 35, 34, 33, 32, 31, 30, 29, 28, 27, 26, 25, 24, 23, 22, 21, 20, 19, 18, 17, 16, 15, 14, 13, 12, 11, 10, 9, 8, 7, 6, 5, 4, 3, 2, 1, 0], \"y\": [0.0032357171035875877, 0.0031956185991434136, -0.0018088575122389371, -0.0017424659634527329, 0.00856043765303347, 0.012513511624247875, 0.014619368889652784, 0.017656564223814075, 0.019567018777122903, 0.020593146001443862, 0.026886081532578276, 0.027428201316145272, 0.036467535579585375, 0.034926652535701305, 0.035075259072606314, 0.034798279926720264, 0.037117105631778634, 0.03744382708914584, 0.03935546750455614, 0.037848034623190176, 0.03932486882234685, 0.039790870404542614, 0.04091976892886582, 0.0743717456041428, 0.07480645827510686, 0.07492397927406662, 0.10055515210582178, 0.11674803178608295, 0.1172276295887329, 0.11605329658229761, 0.1467848736923034, 0.1475403890639913, 0.14946106712606275, 0.14955397488108954, 0.17712015785764582, 0.1759717836750216, 0.176739910060842, 0.25305571443084907, 0.2552479702773104, 0.2527855947006622, 0.24503460832656088, 0.2471300664142267, 0.2879251631172244, 0.4002752383850464, 0.4006913416286685, 0.4280254481204519, 0.41196911601592145, 0.4517006805385299, 0.5004210817936867, 0.4949044807906283, 0.5589005170488248, 0.559165733648433, 0.5712810190419099, 0.571340232127924, 0.6118467205427186, 0.6319509548045918, 0.6564806636603999, 0.6579843994984903, 0.6698435057478787, 0.6705467024205598, 0.6774712109791383, 0.6751772363956842, 0.67246466303324, 0.6689869250133486, 0.668619081357537, 0.6697410099393084, 0.669926812858707, 0.6710779652061202, 0.6497549672281665, 0.6507136380115786, 0.6507136380020098], \"type\": \"scatter\", \"uid\": \"fcd24745-d084-4a84-8326-2550e44d0092\"}], {}, {\"showLink\": false, \"linkText\": \"Export to plot.ly\", \"plotlyServerURL\": \"https://plot.ly\"}); \n",
       "}\n",
       "});</script><script type=\"text/javascript\">window.addEventListener(\"resize\", function(){if (document.getElementById(\"9a65372d-50c3-4928-bda9-9f9558f9b6e9\")) {window._Plotly.Plots.resize(document.getElementById(\"9a65372d-50c3-4928-bda9-9f9558f9b6e9\"));};})</script>"
      ]
     },
     "metadata": {},
     "output_type": "display_data"
    }
   ],
   "source": [
    "from graph import trace_values, plot\n",
    "score_trace = trace_values(x_value_range, grid_scores)\n",
    "plot([score_trace])"
   ]
  },
  {
   "cell_type": "code",
   "execution_count": 11,
   "metadata": {},
   "outputs": [
    {
     "data": {
      "text/plain": [
       "array([ 0.00323572,  0.00319562, -0.00180886, -0.00174247,  0.00856044,\n",
       "        0.01251351,  0.01461937,  0.01765656,  0.01956702,  0.02059315,\n",
       "        0.02688608,  0.0274282 ,  0.03646754,  0.03492665,  0.03507526,\n",
       "        0.03479828,  0.03711711,  0.03744383,  0.03935547,  0.03784803,\n",
       "        0.03932487,  0.03979087,  0.04091977,  0.07437175,  0.07480646,\n",
       "        0.07492398,  0.10055515,  0.11674803,  0.11722763,  0.1160533 ,\n",
       "        0.14678487,  0.14754039,  0.14946107,  0.14955397,  0.17712016,\n",
       "        0.17597178,  0.17673991,  0.25305571,  0.25524797,  0.25278559,\n",
       "        0.24503461,  0.24713007,  0.28792516,  0.40027524,  0.40069134,\n",
       "        0.42802545,  0.41196912,  0.45170068,  0.50042108,  0.49490448,\n",
       "        0.55890052,  0.55916573,  0.57128102,  0.57134023,  0.61184672,\n",
       "        0.63195095,  0.65648066,  0.6579844 ,  0.66984351,  0.6705467 ,\n",
       "        0.67747121,  0.67517724,  0.67246466,  0.66898693,  0.66861908,\n",
       "        0.66974101,  0.66992681,  0.67107797,  0.64975497,  0.65071364,\n",
       "        0.65071364])"
      ]
     },
     "execution_count": 11,
     "metadata": {},
     "output_type": "execute_result"
    }
   ],
   "source": [
    "grid_scores"
   ]
  },
  {
   "cell_type": "code",
   "execution_count": 12,
   "metadata": {},
   "outputs": [],
   "source": [
    "with_dates_X_train, with_dates_X_validate, with_dates_y_train, with_dates_y_validate = train_test_split(with_dates_X_train, with_dates_y_train, test_size=0.3, random_state=35)"
   ]
  },
  {
   "cell_type": "code",
   "execution_count": 13,
   "metadata": {},
   "outputs": [],
   "source": [
    "from sklearn.feature_selection import RFE\n",
    "from sklearn.linear_model import LinearRegression\n",
    "import numpy as np\n",
    "\n",
    "selectors = []\n",
    "\n",
    "for idx in list(range(1, 71, 1))[::-1]:\n",
    "    # 1. create an estimator\n",
    "    estimator = LinearRegression(n_jobs=-1)\n",
    "    # 2. perform rfe with the idx number of features\n",
    "    rfe = RFE(estimator, idx, step=1)\n",
    "    # 3. reduce the dataset to the number of features\n",
    "    with_dates_X_train_rfe = rfe.fit_transform(with_dates_X_train,with_dates_y_train)\n",
    "    with_dates_X_validate_rfe = rfe.transform(with_dates_X_validate)\n",
    "    # 4. compute the accuracy score and append to the list\n",
    "    estimator.fit(with_dates_X_train_rfe,with_dates_y_train)\n",
    "    score = estimator.score(with_dates_X_validate_rfe,with_dates_y_validate)\n",
    "    selectors.append(np.array([rfe, score, idx]))"
   ]
  },
  {
   "cell_type": "code",
   "execution_count": 14,
   "metadata": {},
   "outputs": [],
   "source": [
    "wrapped_selectors = np.array(selectors)"
   ]
  },
  {
   "cell_type": "code",
   "execution_count": 15,
   "metadata": {},
   "outputs": [],
   "source": [
    "y_values = wrapped_selectors[:, 1]\n",
    "x_values = wrapped_selectors[:, -1]"
   ]
  },
  {
   "cell_type": "code",
   "execution_count": 16,
   "metadata": {},
   "outputs": [
    {
     "data": {
      "application/vnd.plotly.v1+json": {
       "config": {
        "linkText": "Export to plot.ly",
        "plotlyServerURL": "https://plot.ly",
        "showLink": false
       },
       "data": [
        {
         "mode": "markers",
         "name": "data",
         "text": [],
         "type": "scatter",
         "uid": "8cf34d46-bbf0-4e44-8cd8-317c64325eb7",
         "x": [
          70,
          69,
          68,
          67,
          66,
          65,
          64,
          63,
          62,
          61,
          60,
          59,
          58,
          57,
          56,
          55,
          54,
          53,
          52,
          51,
          50,
          49,
          48,
          47,
          46,
          45,
          44,
          43,
          42,
          41,
          40,
          39,
          38,
          37,
          36,
          35,
          34,
          33,
          32,
          31,
          30,
          29,
          28,
          27,
          26,
          25,
          24,
          23,
          22,
          21,
          20,
          19,
          18,
          17,
          16,
          15,
          14,
          13,
          12,
          11,
          10,
          9,
          8,
          7,
          6,
          5,
          4,
          3,
          2,
          1
         ],
         "y": [
          0.7321470129778223,
          0.7321470129836894,
          0.732136094278014,
          0.730669418392198,
          0.7306442270938764,
          0.728888721698687,
          0.7324264971805066,
          0.7328629245620351,
          0.7274013476705681,
          0.7223656642835465,
          0.7142454601951602,
          0.704720610963528,
          0.7048627947092803,
          0.704462722776795,
          0.7140994148025341,
          0.7141001636109104,
          0.6626110741830488,
          0.6627127920439326,
          0.6188338278891923,
          0.6185991908771122,
          0.589221834027056,
          0.5876376108696435,
          0.5883472498471791,
          0.37200605952953547,
          0.3719968893982746,
          0.3719891378945168,
          0.1587348581779976,
          0.15885280890327136,
          0.15854959464254836,
          0.15863192225956013,
          0.15967380520355257,
          0.1612247922479717,
          0.1644053957659597,
          0.16422510589377115,
          0.16542060665696834,
          0.16783861144992562,
          0.16785867909046503,
          0.16164055379011222,
          0.15877677140105773,
          0.012001932329099407,
          0.012154218694439334,
          0.012157645812488127,
          0.010795936931891958,
          0.010485157335518025,
          0.010567469733675394,
          0.011977769709919928,
          0.012152939227149884,
          0.012227444548953303,
          0.012235959541260222,
          0.01714727030481633,
          0.01897864495665258,
          0.016006258228080883,
          0.013476993569017437,
          0.01884479546118567,
          0.016469332909030188,
          0.015528702992189003,
          0.01842890830467525,
          0.016690486874201493,
          0.016119095637705083,
          0.00949217835750582,
          0.008722117443990873,
          0.010992337059133384,
          0.01641379052480907,
          0.01637161721194902,
          0.016126482032258305,
          -0.0012115233054503793,
          -0.001230755992664756,
          -0.0012392633561695288,
          1.1410453853222258e-05,
          -1.749286795416083e-07
         ]
        }
       ],
       "layout": {}
      },
      "text/html": [
       "<div id=\"abbf0c72-e6cd-4508-8965-866ef69acf4e\" style=\"height: 525px; width: 100%;\" class=\"plotly-graph-div\"></div><script type=\"text/javascript\">require([\"plotly\"], function(Plotly) { window.PLOTLYENV=window.PLOTLYENV || {};window.PLOTLYENV.BASE_URL=\"https://plot.ly\";\n",
       "if (document.getElementById(\"abbf0c72-e6cd-4508-8965-866ef69acf4e\")) {\n",
       "    Plotly.newPlot(\"abbf0c72-e6cd-4508-8965-866ef69acf4e\", [{\"mode\": \"markers\", \"name\": \"data\", \"text\": [], \"x\": [70, 69, 68, 67, 66, 65, 64, 63, 62, 61, 60, 59, 58, 57, 56, 55, 54, 53, 52, 51, 50, 49, 48, 47, 46, 45, 44, 43, 42, 41, 40, 39, 38, 37, 36, 35, 34, 33, 32, 31, 30, 29, 28, 27, 26, 25, 24, 23, 22, 21, 20, 19, 18, 17, 16, 15, 14, 13, 12, 11, 10, 9, 8, 7, 6, 5, 4, 3, 2, 1], \"y\": [0.7321470129778223, 0.7321470129836894, 0.732136094278014, 0.730669418392198, 0.7306442270938764, 0.728888721698687, 0.7324264971805066, 0.7328629245620351, 0.7274013476705681, 0.7223656642835465, 0.7142454601951602, 0.704720610963528, 0.7048627947092803, 0.704462722776795, 0.7140994148025341, 0.7141001636109104, 0.6626110741830488, 0.6627127920439326, 0.6188338278891923, 0.6185991908771122, 0.589221834027056, 0.5876376108696435, 0.5883472498471791, 0.37200605952953547, 0.3719968893982746, 0.3719891378945168, 0.1587348581779976, 0.15885280890327136, 0.15854959464254836, 0.15863192225956013, 0.15967380520355257, 0.1612247922479717, 0.1644053957659597, 0.16422510589377115, 0.16542060665696834, 0.16783861144992562, 0.16785867909046503, 0.16164055379011222, 0.15877677140105773, 0.012001932329099407, 0.012154218694439334, 0.012157645812488127, 0.010795936931891958, 0.010485157335518025, 0.010567469733675394, 0.011977769709919928, 0.012152939227149884, 0.012227444548953303, 0.012235959541260222, 0.01714727030481633, 0.01897864495665258, 0.016006258228080883, 0.013476993569017437, 0.01884479546118567, 0.016469332909030188, 0.015528702992189003, 0.01842890830467525, 0.016690486874201493, 0.016119095637705083, 0.00949217835750582, 0.008722117443990873, 0.010992337059133384, 0.01641379052480907, 0.01637161721194902, 0.016126482032258305, -0.0012115233054503793, -0.001230755992664756, -0.0012392633561695288, 1.1410453853222258e-05, -1.749286795416083e-07], \"type\": \"scatter\", \"uid\": \"423e1210-e17e-4108-8d83-8e472a9107fe\"}], {}, {\"showLink\": false, \"linkText\": \"Export to plot.ly\", \"plotlyServerURL\": \"https://plot.ly\"}); \n",
       "}\n",
       "});</script><script type=\"text/javascript\">window.addEventListener(\"resize\", function(){if (document.getElementById(\"abbf0c72-e6cd-4508-8965-866ef69acf4e\")) {window._Plotly.Plots.resize(document.getElementById(\"abbf0c72-e6cd-4508-8965-866ef69acf4e\"));};})</script>"
      ],
      "text/vnd.plotly.v1+html": [
       "<div id=\"abbf0c72-e6cd-4508-8965-866ef69acf4e\" style=\"height: 525px; width: 100%;\" class=\"plotly-graph-div\"></div><script type=\"text/javascript\">require([\"plotly\"], function(Plotly) { window.PLOTLYENV=window.PLOTLYENV || {};window.PLOTLYENV.BASE_URL=\"https://plot.ly\";\n",
       "if (document.getElementById(\"abbf0c72-e6cd-4508-8965-866ef69acf4e\")) {\n",
       "    Plotly.newPlot(\"abbf0c72-e6cd-4508-8965-866ef69acf4e\", [{\"mode\": \"markers\", \"name\": \"data\", \"text\": [], \"x\": [70, 69, 68, 67, 66, 65, 64, 63, 62, 61, 60, 59, 58, 57, 56, 55, 54, 53, 52, 51, 50, 49, 48, 47, 46, 45, 44, 43, 42, 41, 40, 39, 38, 37, 36, 35, 34, 33, 32, 31, 30, 29, 28, 27, 26, 25, 24, 23, 22, 21, 20, 19, 18, 17, 16, 15, 14, 13, 12, 11, 10, 9, 8, 7, 6, 5, 4, 3, 2, 1], \"y\": [0.7321470129778223, 0.7321470129836894, 0.732136094278014, 0.730669418392198, 0.7306442270938764, 0.728888721698687, 0.7324264971805066, 0.7328629245620351, 0.7274013476705681, 0.7223656642835465, 0.7142454601951602, 0.704720610963528, 0.7048627947092803, 0.704462722776795, 0.7140994148025341, 0.7141001636109104, 0.6626110741830488, 0.6627127920439326, 0.6188338278891923, 0.6185991908771122, 0.589221834027056, 0.5876376108696435, 0.5883472498471791, 0.37200605952953547, 0.3719968893982746, 0.3719891378945168, 0.1587348581779976, 0.15885280890327136, 0.15854959464254836, 0.15863192225956013, 0.15967380520355257, 0.1612247922479717, 0.1644053957659597, 0.16422510589377115, 0.16542060665696834, 0.16783861144992562, 0.16785867909046503, 0.16164055379011222, 0.15877677140105773, 0.012001932329099407, 0.012154218694439334, 0.012157645812488127, 0.010795936931891958, 0.010485157335518025, 0.010567469733675394, 0.011977769709919928, 0.012152939227149884, 0.012227444548953303, 0.012235959541260222, 0.01714727030481633, 0.01897864495665258, 0.016006258228080883, 0.013476993569017437, 0.01884479546118567, 0.016469332909030188, 0.015528702992189003, 0.01842890830467525, 0.016690486874201493, 0.016119095637705083, 0.00949217835750582, 0.008722117443990873, 0.010992337059133384, 0.01641379052480907, 0.01637161721194902, 0.016126482032258305, -0.0012115233054503793, -0.001230755992664756, -0.0012392633561695288, 1.1410453853222258e-05, -1.749286795416083e-07], \"type\": \"scatter\", \"uid\": \"423e1210-e17e-4108-8d83-8e472a9107fe\"}], {}, {\"showLink\": false, \"linkText\": \"Export to plot.ly\", \"plotlyServerURL\": \"https://plot.ly\"}); \n",
       "}\n",
       "});</script><script type=\"text/javascript\">window.addEventListener(\"resize\", function(){if (document.getElementById(\"abbf0c72-e6cd-4508-8965-866ef69acf4e\")) {window._Plotly.Plots.resize(document.getElementById(\"abbf0c72-e6cd-4508-8965-866ef69acf4e\"));};})</script>"
      ]
     },
     "metadata": {},
     "output_type": "display_data"
    }
   ],
   "source": [
    "from graph import trace_values, plot\n",
    "trace = trace_values(x_values, y_values)\n",
    "plot([trace])"
   ]
  },
  {
   "cell_type": "code",
   "execution_count": 17,
   "metadata": {},
   "outputs": [
    {
     "name": "stderr",
     "output_type": "stream",
     "text": [
      "/anaconda3/lib/python3.7/site-packages/sklearn/preprocessing/data.py:625: DataConversionWarning:\n",
      "\n",
      "Data with input dtype bool, int64, float64 were all converted to float64 by StandardScaler.\n",
      "\n"
     ]
    },
    {
     "data": {
      "text/plain": [
       "StandardScaler(copy=True, with_mean=True, with_std=True)"
      ]
     },
     "execution_count": 17,
     "metadata": {},
     "output_type": "execute_result"
    }
   ],
   "source": [
    "from sklearn.preprocessing import StandardScaler\n",
    "scaler = StandardScaler()\n",
    "scaler.fit(ted_data_with_dates)"
   ]
  },
  {
   "cell_type": "code",
   "execution_count": 18,
   "metadata": {},
   "outputs": [
    {
     "name": "stderr",
     "output_type": "stream",
     "text": [
      "/anaconda3/lib/python3.7/site-packages/sklearn/preprocessing/data.py:625: DataConversionWarning:\n",
      "\n",
      "Data with input dtype bool, int64, float64 were all converted to float64 by StandardScaler.\n",
      "\n",
      "/anaconda3/lib/python3.7/site-packages/sklearn/base.py:462: DataConversionWarning:\n",
      "\n",
      "Data with input dtype bool, int64, float64 were all converted to float64 by StandardScaler.\n",
      "\n"
     ]
    }
   ],
   "source": [
    "scaled_data_with_dates = scaler.fit_transform(ted_data_with_dates)"
   ]
  },
  {
   "cell_type": "code",
   "execution_count": 19,
   "metadata": {},
   "outputs": [],
   "source": [
    "scaled_X_with_dates = scaled_data_with_dates[:, 1:]\n",
    "scaled_y_with_dates = scaled_data_with_dates[:, 0]"
   ]
  },
  {
   "cell_type": "code",
   "execution_count": 20,
   "metadata": {},
   "outputs": [],
   "source": [
    "with_dates_scaled_X_train, with_dates_scaled_X_test, with_dates_scaled_y_train, with_dates_scaled_y_test = train_test_split(scaled_X_with_dates, scaled_y_with_dates, test_size=0.3, random_state=35)"
   ]
  },
  {
   "cell_type": "code",
   "execution_count": 21,
   "metadata": {},
   "outputs": [],
   "source": [
    "with_dates_scaled_X_train, with_dates_scaled_X_validate, with_dates_scaled_y_train, with_dates_scaled_y_validate = train_test_split(with_dates_scaled_X_train, with_dates_scaled_y_train, test_size=0.3, random_state=35)"
   ]
  },
  {
   "cell_type": "code",
   "execution_count": 22,
   "metadata": {},
   "outputs": [],
   "source": [
    "from sklearn.linear_model import LinearRegression\n",
    "from sklearn.feature_selection import RFECV\n",
    "model = LinearRegression(n_jobs = -1)\n",
    "rfecv = RFECV(model, cv = 5)\n",
    "X_train_rfecv = rfecv.fit(with_dates_scaled_X_train,with_dates_scaled_y_train)"
   ]
  },
  {
   "cell_type": "code",
   "execution_count": 23,
   "metadata": {},
   "outputs": [],
   "source": [
    "grid_scores = X_train_rfecv.grid_scores_"
   ]
  },
  {
   "cell_type": "code",
   "execution_count": 24,
   "metadata": {},
   "outputs": [
    {
     "data": {
      "text/plain": [
       "array([-0.00480953, -0.00732049, -0.00684815, -0.00997319, -0.01543213,\n",
       "       -0.01001745,  0.15930825,  0.17720816,  0.28107533,  0.48207179,\n",
       "        0.49590107,  0.54152715,  0.5803895 ,  0.59070055,  0.61822271,\n",
       "        0.64735509,  0.64682259,  0.64642226,  0.63718898,  0.66194677,\n",
       "        0.6641003 ,  0.65926852,  0.65292629,  0.66038101,  0.65616542,\n",
       "        0.6562109 ,  0.65418051,  0.65568624,  0.65795321,  0.65903392,\n",
       "        0.64717343,  0.64588369,  0.64628309,  0.64487365,  0.66567028,\n",
       "        0.66555483,  0.6664596 ,  0.66674208,  0.66625017,  0.66437463,\n",
       "        0.66498013,  0.66407135,  0.66386268,  0.6630815 ,  0.6617951 ,\n",
       "        0.66251429,  0.66161159,  0.66089737,  0.66076349,  0.66096248,\n",
       "        0.6614872 ,  0.66117395,  0.66130209,  0.66137019,  0.66122369,\n",
       "        0.66133107,  0.66148706,  0.66158231,  0.66152071,  0.66136534,\n",
       "        0.66137844,  0.66129165,  0.6611315 ,  0.66109415,  0.66104605,\n",
       "        0.66103718,  0.66101628,  0.66099555,  0.66100291,  0.66100291,\n",
       "        0.66100291])"
      ]
     },
     "execution_count": 24,
     "metadata": {},
     "output_type": "execute_result"
    }
   ],
   "source": [
    "grid_scores"
   ]
  },
  {
   "cell_type": "code",
   "execution_count": 25,
   "metadata": {},
   "outputs": [],
   "source": [
    "x_value_range = list(range(0, len(grid_scores)))[::-1]"
   ]
  },
  {
   "cell_type": "code",
   "execution_count": 26,
   "metadata": {},
   "outputs": [
    {
     "data": {
      "application/vnd.plotly.v1+json": {
       "config": {
        "linkText": "Export to plot.ly",
        "plotlyServerURL": "https://plot.ly",
        "showLink": false
       },
       "data": [
        {
         "mode": "markers",
         "name": "data",
         "text": [],
         "type": "scatter",
         "uid": "2757ca82-0a82-4b4e-923e-242ca0dfc2ae",
         "x": [
          49,
          48,
          47,
          46,
          45,
          44,
          43,
          42,
          41,
          40,
          39,
          38,
          37,
          36,
          35,
          34,
          33,
          32,
          31,
          30,
          29,
          28,
          27,
          26,
          25,
          24,
          23,
          22,
          21,
          20,
          19,
          18,
          17,
          16,
          15,
          14,
          13,
          12,
          11,
          10,
          9,
          8,
          7,
          6,
          5,
          4,
          3,
          2,
          1,
          0
         ],
         "y": [
          0.6592685210355935,
          0.6529262925232173,
          0.6603810060745401,
          0.6561654160331961,
          0.6562108953303544,
          0.6541805139749124,
          0.6556862350838324,
          0.6579532104994603,
          0.6590339201534985,
          0.6471734279098298,
          0.6458836906721734,
          0.646283087127246,
          0.644873650123649,
          0.6656702803519479,
          0.6655548338786759,
          0.6664596040922803,
          0.6667420848954061,
          0.6662501685149831,
          0.6643746252411858,
          0.6649801345593982,
          0.6640713472850538,
          0.6638626780703232,
          0.66308149507006,
          0.6617951030421663,
          0.6625142941448113,
          0.6616115885656608,
          0.6608973747943662,
          0.6607634888634715,
          0.6609624813732913,
          0.6614872017158273,
          0.6611739457374324,
          0.6613020884565597,
          0.6613701858228991,
          0.6612236944163754,
          0.6613310670143943,
          0.6614870621822903,
          0.6615823099046556,
          0.6615207106841695,
          0.6613653367866789,
          0.6613784444400481,
          0.6612916524572792,
          0.6611314980957415,
          0.6610941488327013,
          0.6610460522092353,
          0.6610371831491194,
          0.6610162775068045,
          0.6609955465814051,
          0.6610029101295493,
          0.6610029109734266,
          0.6610029105075694
         ]
        }
       ],
       "layout": {}
      },
      "text/html": [
       "<div id=\"f73939e9-50c3-4f22-a85b-6714c680f313\" style=\"height: 525px; width: 100%;\" class=\"plotly-graph-div\"></div><script type=\"text/javascript\">require([\"plotly\"], function(Plotly) { window.PLOTLYENV=window.PLOTLYENV || {};window.PLOTLYENV.BASE_URL=\"https://plot.ly\";\n",
       "if (document.getElementById(\"f73939e9-50c3-4f22-a85b-6714c680f313\")) {\n",
       "    Plotly.newPlot(\"f73939e9-50c3-4f22-a85b-6714c680f313\", [{\"mode\": \"markers\", \"name\": \"data\", \"text\": [], \"x\": [49, 48, 47, 46, 45, 44, 43, 42, 41, 40, 39, 38, 37, 36, 35, 34, 33, 32, 31, 30, 29, 28, 27, 26, 25, 24, 23, 22, 21, 20, 19, 18, 17, 16, 15, 14, 13, 12, 11, 10, 9, 8, 7, 6, 5, 4, 3, 2, 1, 0], \"y\": [0.6592685210355935, 0.6529262925232173, 0.6603810060745401, 0.6561654160331961, 0.6562108953303544, 0.6541805139749124, 0.6556862350838324, 0.6579532104994603, 0.6590339201534985, 0.6471734279098298, 0.6458836906721734, 0.646283087127246, 0.644873650123649, 0.6656702803519479, 0.6655548338786759, 0.6664596040922803, 0.6667420848954061, 0.6662501685149831, 0.6643746252411858, 0.6649801345593982, 0.6640713472850538, 0.6638626780703232, 0.66308149507006, 0.6617951030421663, 0.6625142941448113, 0.6616115885656608, 0.6608973747943662, 0.6607634888634715, 0.6609624813732913, 0.6614872017158273, 0.6611739457374324, 0.6613020884565597, 0.6613701858228991, 0.6612236944163754, 0.6613310670143943, 0.6614870621822903, 0.6615823099046556, 0.6615207106841695, 0.6613653367866789, 0.6613784444400481, 0.6612916524572792, 0.6611314980957415, 0.6610941488327013, 0.6610460522092353, 0.6610371831491194, 0.6610162775068045, 0.6609955465814051, 0.6610029101295493, 0.6610029109734266, 0.6610029105075694], \"type\": \"scatter\", \"uid\": \"238f85a8-e5a4-4df8-8130-e2b6f8507bb5\"}], {}, {\"showLink\": false, \"linkText\": \"Export to plot.ly\", \"plotlyServerURL\": \"https://plot.ly\"}); \n",
       "}\n",
       "});</script><script type=\"text/javascript\">window.addEventListener(\"resize\", function(){if (document.getElementById(\"f73939e9-50c3-4f22-a85b-6714c680f313\")) {window._Plotly.Plots.resize(document.getElementById(\"f73939e9-50c3-4f22-a85b-6714c680f313\"));};})</script>"
      ],
      "text/vnd.plotly.v1+html": [
       "<div id=\"f73939e9-50c3-4f22-a85b-6714c680f313\" style=\"height: 525px; width: 100%;\" class=\"plotly-graph-div\"></div><script type=\"text/javascript\">require([\"plotly\"], function(Plotly) { window.PLOTLYENV=window.PLOTLYENV || {};window.PLOTLYENV.BASE_URL=\"https://plot.ly\";\n",
       "if (document.getElementById(\"f73939e9-50c3-4f22-a85b-6714c680f313\")) {\n",
       "    Plotly.newPlot(\"f73939e9-50c3-4f22-a85b-6714c680f313\", [{\"mode\": \"markers\", \"name\": \"data\", \"text\": [], \"x\": [49, 48, 47, 46, 45, 44, 43, 42, 41, 40, 39, 38, 37, 36, 35, 34, 33, 32, 31, 30, 29, 28, 27, 26, 25, 24, 23, 22, 21, 20, 19, 18, 17, 16, 15, 14, 13, 12, 11, 10, 9, 8, 7, 6, 5, 4, 3, 2, 1, 0], \"y\": [0.6592685210355935, 0.6529262925232173, 0.6603810060745401, 0.6561654160331961, 0.6562108953303544, 0.6541805139749124, 0.6556862350838324, 0.6579532104994603, 0.6590339201534985, 0.6471734279098298, 0.6458836906721734, 0.646283087127246, 0.644873650123649, 0.6656702803519479, 0.6655548338786759, 0.6664596040922803, 0.6667420848954061, 0.6662501685149831, 0.6643746252411858, 0.6649801345593982, 0.6640713472850538, 0.6638626780703232, 0.66308149507006, 0.6617951030421663, 0.6625142941448113, 0.6616115885656608, 0.6608973747943662, 0.6607634888634715, 0.6609624813732913, 0.6614872017158273, 0.6611739457374324, 0.6613020884565597, 0.6613701858228991, 0.6612236944163754, 0.6613310670143943, 0.6614870621822903, 0.6615823099046556, 0.6615207106841695, 0.6613653367866789, 0.6613784444400481, 0.6612916524572792, 0.6611314980957415, 0.6610941488327013, 0.6610460522092353, 0.6610371831491194, 0.6610162775068045, 0.6609955465814051, 0.6610029101295493, 0.6610029109734266, 0.6610029105075694], \"type\": \"scatter\", \"uid\": \"238f85a8-e5a4-4df8-8130-e2b6f8507bb5\"}], {}, {\"showLink\": false, \"linkText\": \"Export to plot.ly\", \"plotlyServerURL\": \"https://plot.ly\"}); \n",
       "}\n",
       "});</script><script type=\"text/javascript\">window.addEventListener(\"resize\", function(){if (document.getElementById(\"f73939e9-50c3-4f22-a85b-6714c680f313\")) {window._Plotly.Plots.resize(document.getElementById(\"f73939e9-50c3-4f22-a85b-6714c680f313\"));};})</script>"
      ]
     },
     "metadata": {},
     "output_type": "display_data"
    }
   ],
   "source": [
    "from graph import trace_values, plot\n",
    "score_trace = trace_values(x_value_range[-50:], grid_scores[-50:])\n",
    "plot([score_trace])"
   ]
  },
  {
   "cell_type": "code",
   "execution_count": 27,
   "metadata": {},
   "outputs": [],
   "source": [
    "from sklearn.feature_selection import RFE\n",
    "from sklearn.linear_model import LinearRegression\n",
    "import numpy as np\n",
    "\n",
    "selectors = []\n",
    "\n",
    "for idx in list(range(1, 71, 1))[::-1]:\n",
    "    # 1. create an estimator\n",
    "    estimator = LinearRegression(n_jobs=-1)\n",
    "    # 2. perform rfe with the idx number of features\n",
    "    rfe = RFE(estimator, idx, step=1)\n",
    "    # 3. reduce the dataset to the number of features\n",
    "    scaled_X_train_rfe = rfe.fit_transform(with_dates_scaled_X_train,with_dates_scaled_y_train)\n",
    "    scaled_X_validate_rfe = rfe.transform(with_dates_scaled_X_validate)\n",
    "    # 4. compute the accuracy score and append to the list\n",
    "    estimator.fit(scaled_X_train_rfe,with_dates_scaled_y_train)\n",
    "    score = estimator.score(scaled_X_validate_rfe,with_dates_scaled_y_validate)\n",
    "    selectors.append(np.array([rfe, score, idx]))"
   ]
  },
  {
   "cell_type": "code",
   "execution_count": 28,
   "metadata": {},
   "outputs": [],
   "source": [
    "wrapped_selectors = np.array(selectors)"
   ]
  },
  {
   "cell_type": "code",
   "execution_count": 29,
   "metadata": {},
   "outputs": [],
   "source": [
    "y_values = wrapped_selectors[:, 1]\n",
    "x_values = wrapped_selectors[:, -1]"
   ]
  },
  {
   "cell_type": "code",
   "execution_count": 30,
   "metadata": {},
   "outputs": [
    {
     "data": {
      "application/vnd.plotly.v1+json": {
       "config": {
        "linkText": "Export to plot.ly",
        "plotlyServerURL": "https://plot.ly",
        "showLink": false
       },
       "data": [
        {
         "mode": "markers",
         "name": "data",
         "text": [],
         "type": "scatter",
         "uid": "802ed1ed-869b-4d31-9ef2-37fc4eac0d62",
         "x": [
          70,
          69,
          68,
          67,
          66,
          65,
          64,
          63,
          62,
          61,
          60,
          59,
          58,
          57,
          56,
          55,
          54,
          53,
          52,
          51,
          50,
          49,
          48,
          47,
          46,
          45,
          44,
          43,
          42,
          41,
          40,
          39,
          38,
          37,
          36,
          35,
          34,
          33,
          32,
          31,
          30,
          29,
          28,
          27,
          26,
          25,
          24,
          23,
          22,
          21,
          20,
          19,
          18,
          17,
          16,
          15,
          14,
          13,
          12,
          11,
          10,
          9,
          8,
          7,
          6,
          5,
          4,
          3,
          2,
          1
         ],
         "y": [
          0.7321470121266833,
          0.7321470144407802,
          0.7321467947137924,
          0.7321334414174914,
          0.7321633436434739,
          0.7321006056658842,
          0.7321125740245327,
          0.7320574326933513,
          0.7321286635466246,
          0.7321764123168217,
          0.7321256920400077,
          0.7320139862187423,
          0.7317459311293263,
          0.7316355582375526,
          0.7317634455723276,
          0.7317925048907707,
          0.7316296176970427,
          0.7317685264460037,
          0.7317817726650655,
          0.7320103519522443,
          0.732301751295031,
          0.7322458047046179,
          0.7320690869782083,
          0.7323321993794385,
          0.7329445890579136,
          0.732868776513246,
          0.7326969753891829,
          0.7326822953091818,
          0.7332486741778104,
          0.7332057467087485,
          0.7331039186050115,
          0.7334138506902913,
          0.7328587114434935,
          0.7315258285154543,
          0.7318190693642139,
          0.7326372155682439,
          0.7294257309961347,
          0.7278026732562911,
          0.7308091660634439,
          0.7230739612046013,
          0.7258065681630458,
          0.7240118016250963,
          0.7248397485542417,
          0.7216818006134883,
          0.7216819943689604,
          0.7232774533574222,
          0.724899268652457,
          0.7175181097957826,
          0.7150865796505976,
          0.709272838387541,
          0.7015437998196041,
          0.6925805496020083,
          0.6929563259636758,
          0.6928239838231032,
          0.7050284685686883,
          0.6817767403524271,
          0.6820871806344779,
          0.6821942899110152,
          0.6219700855284569,
          0.6218195872579002,
          0.5796091945387022,
          0.5797566320141242,
          0.5792148196064747,
          0.43956688589877624,
          0.005149584549057895,
          0.0013375444333317832,
          0.0010871583066175416,
          0.0011575841536033415,
          -0.0009409681346586041,
          -0.001289107810442447
         ]
        }
       ],
       "layout": {}
      },
      "text/html": [
       "<div id=\"eaf045ed-90ef-484e-aecb-dca6a1766b03\" style=\"height: 525px; width: 100%;\" class=\"plotly-graph-div\"></div><script type=\"text/javascript\">require([\"plotly\"], function(Plotly) { window.PLOTLYENV=window.PLOTLYENV || {};window.PLOTLYENV.BASE_URL=\"https://plot.ly\";\n",
       "if (document.getElementById(\"eaf045ed-90ef-484e-aecb-dca6a1766b03\")) {\n",
       "    Plotly.newPlot(\"eaf045ed-90ef-484e-aecb-dca6a1766b03\", [{\"mode\": \"markers\", \"name\": \"data\", \"text\": [], \"x\": [70, 69, 68, 67, 66, 65, 64, 63, 62, 61, 60, 59, 58, 57, 56, 55, 54, 53, 52, 51, 50, 49, 48, 47, 46, 45, 44, 43, 42, 41, 40, 39, 38, 37, 36, 35, 34, 33, 32, 31, 30, 29, 28, 27, 26, 25, 24, 23, 22, 21, 20, 19, 18, 17, 16, 15, 14, 13, 12, 11, 10, 9, 8, 7, 6, 5, 4, 3, 2, 1], \"y\": [0.7321470121266833, 0.7321470144407802, 0.7321467947137924, 0.7321334414174914, 0.7321633436434739, 0.7321006056658842, 0.7321125740245327, 0.7320574326933513, 0.7321286635466246, 0.7321764123168217, 0.7321256920400077, 0.7320139862187423, 0.7317459311293263, 0.7316355582375526, 0.7317634455723276, 0.7317925048907707, 0.7316296176970427, 0.7317685264460037, 0.7317817726650655, 0.7320103519522443, 0.732301751295031, 0.7322458047046179, 0.7320690869782083, 0.7323321993794385, 0.7329445890579136, 0.732868776513246, 0.7326969753891829, 0.7326822953091818, 0.7332486741778104, 0.7332057467087485, 0.7331039186050115, 0.7334138506902913, 0.7328587114434935, 0.7315258285154543, 0.7318190693642139, 0.7326372155682439, 0.7294257309961347, 0.7278026732562911, 0.7308091660634439, 0.7230739612046013, 0.7258065681630458, 0.7240118016250963, 0.7248397485542417, 0.7216818006134883, 0.7216819943689604, 0.7232774533574222, 0.724899268652457, 0.7175181097957826, 0.7150865796505976, 0.709272838387541, 0.7015437998196041, 0.6925805496020083, 0.6929563259636758, 0.6928239838231032, 0.7050284685686883, 0.6817767403524271, 0.6820871806344779, 0.6821942899110152, 0.6219700855284569, 0.6218195872579002, 0.5796091945387022, 0.5797566320141242, 0.5792148196064747, 0.43956688589877624, 0.005149584549057895, 0.0013375444333317832, 0.0010871583066175416, 0.0011575841536033415, -0.0009409681346586041, -0.001289107810442447], \"type\": \"scatter\", \"uid\": \"e806bd59-62c6-410d-bffb-63830a8702e4\"}], {}, {\"showLink\": false, \"linkText\": \"Export to plot.ly\", \"plotlyServerURL\": \"https://plot.ly\"}); \n",
       "}\n",
       "});</script><script type=\"text/javascript\">window.addEventListener(\"resize\", function(){if (document.getElementById(\"eaf045ed-90ef-484e-aecb-dca6a1766b03\")) {window._Plotly.Plots.resize(document.getElementById(\"eaf045ed-90ef-484e-aecb-dca6a1766b03\"));};})</script>"
      ],
      "text/vnd.plotly.v1+html": [
       "<div id=\"eaf045ed-90ef-484e-aecb-dca6a1766b03\" style=\"height: 525px; width: 100%;\" class=\"plotly-graph-div\"></div><script type=\"text/javascript\">require([\"plotly\"], function(Plotly) { window.PLOTLYENV=window.PLOTLYENV || {};window.PLOTLYENV.BASE_URL=\"https://plot.ly\";\n",
       "if (document.getElementById(\"eaf045ed-90ef-484e-aecb-dca6a1766b03\")) {\n",
       "    Plotly.newPlot(\"eaf045ed-90ef-484e-aecb-dca6a1766b03\", [{\"mode\": \"markers\", \"name\": \"data\", \"text\": [], \"x\": [70, 69, 68, 67, 66, 65, 64, 63, 62, 61, 60, 59, 58, 57, 56, 55, 54, 53, 52, 51, 50, 49, 48, 47, 46, 45, 44, 43, 42, 41, 40, 39, 38, 37, 36, 35, 34, 33, 32, 31, 30, 29, 28, 27, 26, 25, 24, 23, 22, 21, 20, 19, 18, 17, 16, 15, 14, 13, 12, 11, 10, 9, 8, 7, 6, 5, 4, 3, 2, 1], \"y\": [0.7321470121266833, 0.7321470144407802, 0.7321467947137924, 0.7321334414174914, 0.7321633436434739, 0.7321006056658842, 0.7321125740245327, 0.7320574326933513, 0.7321286635466246, 0.7321764123168217, 0.7321256920400077, 0.7320139862187423, 0.7317459311293263, 0.7316355582375526, 0.7317634455723276, 0.7317925048907707, 0.7316296176970427, 0.7317685264460037, 0.7317817726650655, 0.7320103519522443, 0.732301751295031, 0.7322458047046179, 0.7320690869782083, 0.7323321993794385, 0.7329445890579136, 0.732868776513246, 0.7326969753891829, 0.7326822953091818, 0.7332486741778104, 0.7332057467087485, 0.7331039186050115, 0.7334138506902913, 0.7328587114434935, 0.7315258285154543, 0.7318190693642139, 0.7326372155682439, 0.7294257309961347, 0.7278026732562911, 0.7308091660634439, 0.7230739612046013, 0.7258065681630458, 0.7240118016250963, 0.7248397485542417, 0.7216818006134883, 0.7216819943689604, 0.7232774533574222, 0.724899268652457, 0.7175181097957826, 0.7150865796505976, 0.709272838387541, 0.7015437998196041, 0.6925805496020083, 0.6929563259636758, 0.6928239838231032, 0.7050284685686883, 0.6817767403524271, 0.6820871806344779, 0.6821942899110152, 0.6219700855284569, 0.6218195872579002, 0.5796091945387022, 0.5797566320141242, 0.5792148196064747, 0.43956688589877624, 0.005149584549057895, 0.0013375444333317832, 0.0010871583066175416, 0.0011575841536033415, -0.0009409681346586041, -0.001289107810442447], \"type\": \"scatter\", \"uid\": \"e806bd59-62c6-410d-bffb-63830a8702e4\"}], {}, {\"showLink\": false, \"linkText\": \"Export to plot.ly\", \"plotlyServerURL\": \"https://plot.ly\"}); \n",
       "}\n",
       "});</script><script type=\"text/javascript\">window.addEventListener(\"resize\", function(){if (document.getElementById(\"eaf045ed-90ef-484e-aecb-dca6a1766b03\")) {window._Plotly.Plots.resize(document.getElementById(\"eaf045ed-90ef-484e-aecb-dca6a1766b03\"));};})</script>"
      ]
     },
     "metadata": {},
     "output_type": "display_data"
    }
   ],
   "source": [
    "from graph import trace_values, plot\n",
    "trace = trace_values(x_values, y_values)\n",
    "plot([trace])"
   ]
  },
  {
   "cell_type": "code",
   "execution_count": 31,
   "metadata": {},
   "outputs": [
    {
     "data": {
      "text/plain": [
       "array([ 4.55678584e+02,  5.48871058e+02,  2.02673315e-01,  2.03868222e-01,\n",
       "        3.37904505e-01,  2.75761138e-01, -1.24760973e+02, -1.16546979e+01,\n",
       "       -4.24498177e+02, -2.70535308e-01,  5.69424409e-01, -3.10159760e-01,\n",
       "       -4.55677566e+02])"
      ]
     },
     "execution_count": 31,
     "metadata": {},
     "output_type": "execute_result"
    }
   ],
   "source": [
    "wrapped_selectors[-13, 0].estimator_.coef_"
   ]
  },
  {
   "cell_type": "code",
   "execution_count": 32,
   "metadata": {},
   "outputs": [],
   "source": [
    "support = wrapped_selectors[-13, 0].get_support()"
   ]
  },
  {
   "cell_type": "code",
   "execution_count": 33,
   "metadata": {},
   "outputs": [],
   "source": [
    "import numpy as np\n",
    "feature_names = np.array(with_dates_X.columns) # transformed list to array\n",
    "names = feature_names[support]"
   ]
  },
  {
   "cell_type": "code",
   "execution_count": 34,
   "metadata": {},
   "outputs": [
    {
     "data": {
      "text/plain": [
       "array(['film_date', 'published_date', 'Funny_ratings',\n",
       "       'Informative_ratings', 'Fascinating_ratings', 'OK_ratings',\n",
       "       'published_Year', 'published_Dayofyear', 'published_Elapsed',\n",
       "       'film_Month', 'film_Week', 'film_Dayofyear', 'film_Elapsed'],\n",
       "      dtype=object)"
      ]
     },
     "execution_count": 34,
     "metadata": {},
     "output_type": "execute_result"
    }
   ],
   "source": [
    "names"
   ]
  },
  {
   "cell_type": "code",
   "execution_count": 35,
   "metadata": {},
   "outputs": [],
   "source": [
    "names = feature_names[support]\n",
    "reduced_X = with_dates_X[names]"
   ]
  },
  {
   "cell_type": "code",
   "execution_count": 36,
   "metadata": {},
   "outputs": [
    {
     "data": {
      "text/html": [
       "<div>\n",
       "<style scoped>\n",
       "    .dataframe tbody tr th:only-of-type {\n",
       "        vertical-align: middle;\n",
       "    }\n",
       "\n",
       "    .dataframe tbody tr th {\n",
       "        vertical-align: top;\n",
       "    }\n",
       "\n",
       "    .dataframe thead th {\n",
       "        text-align: right;\n",
       "    }\n",
       "</style>\n",
       "<table border=\"1\" class=\"dataframe\">\n",
       "  <thead>\n",
       "    <tr style=\"text-align: right;\">\n",
       "      <th></th>\n",
       "      <th>film_date</th>\n",
       "      <th>published_date</th>\n",
       "      <th>Funny_ratings</th>\n",
       "      <th>Informative_ratings</th>\n",
       "      <th>Fascinating_ratings</th>\n",
       "      <th>OK_ratings</th>\n",
       "      <th>published_Year</th>\n",
       "      <th>published_Dayofyear</th>\n",
       "      <th>published_Elapsed</th>\n",
       "      <th>film_Month</th>\n",
       "      <th>film_Week</th>\n",
       "      <th>film_Dayofyear</th>\n",
       "      <th>film_Elapsed</th>\n",
       "    </tr>\n",
       "  </thead>\n",
       "  <tbody>\n",
       "    <tr>\n",
       "      <th>film_date</th>\n",
       "      <td>1.000000</td>\n",
       "      <td>0.987641</td>\n",
       "      <td>-0.132859</td>\n",
       "      <td>0.011487</td>\n",
       "      <td>-0.144416</td>\n",
       "      <td>-0.265212</td>\n",
       "      <td>0.983038</td>\n",
       "      <td>0.009338</td>\n",
       "      <td>0.987641</td>\n",
       "      <td>0.231479</td>\n",
       "      <td>0.281099</td>\n",
       "      <td>0.279054</td>\n",
       "      <td>1.000000</td>\n",
       "    </tr>\n",
       "    <tr>\n",
       "      <th>published_date</th>\n",
       "      <td>0.987641</td>\n",
       "      <td>1.000000</td>\n",
       "      <td>-0.133926</td>\n",
       "      <td>-0.008367</td>\n",
       "      <td>-0.160553</td>\n",
       "      <td>-0.276608</td>\n",
       "      <td>0.995651</td>\n",
       "      <td>0.003653</td>\n",
       "      <td>1.000000</td>\n",
       "      <td>0.224564</td>\n",
       "      <td>0.271183</td>\n",
       "      <td>0.268861</td>\n",
       "      <td>0.987641</td>\n",
       "    </tr>\n",
       "    <tr>\n",
       "      <th>Funny_ratings</th>\n",
       "      <td>-0.132859</td>\n",
       "      <td>-0.133926</td>\n",
       "      <td>1.000000</td>\n",
       "      <td>0.271243</td>\n",
       "      <td>0.495843</td>\n",
       "      <td>0.479794</td>\n",
       "      <td>-0.128183</td>\n",
       "      <td>-0.040691</td>\n",
       "      <td>-0.133926</td>\n",
       "      <td>-0.105681</td>\n",
       "      <td>-0.110341</td>\n",
       "      <td>-0.108493</td>\n",
       "      <td>-0.132859</td>\n",
       "    </tr>\n",
       "    <tr>\n",
       "      <th>Informative_ratings</th>\n",
       "      <td>0.011487</td>\n",
       "      <td>-0.008367</td>\n",
       "      <td>0.271243</td>\n",
       "      <td>1.000000</td>\n",
       "      <td>0.617411</td>\n",
       "      <td>0.446531</td>\n",
       "      <td>-0.004373</td>\n",
       "      <td>-0.013612</td>\n",
       "      <td>-0.008367</td>\n",
       "      <td>-0.006213</td>\n",
       "      <td>-0.001086</td>\n",
       "      <td>-0.000894</td>\n",
       "      <td>0.011487</td>\n",
       "    </tr>\n",
       "    <tr>\n",
       "      <th>Fascinating_ratings</th>\n",
       "      <td>-0.144416</td>\n",
       "      <td>-0.160553</td>\n",
       "      <td>0.495843</td>\n",
       "      <td>0.617411</td>\n",
       "      <td>1.000000</td>\n",
       "      <td>0.457090</td>\n",
       "      <td>-0.155453</td>\n",
       "      <td>-0.023426</td>\n",
       "      <td>-0.160553</td>\n",
       "      <td>-0.116747</td>\n",
       "      <td>-0.111071</td>\n",
       "      <td>-0.112296</td>\n",
       "      <td>-0.144416</td>\n",
       "    </tr>\n",
       "    <tr>\n",
       "      <th>OK_ratings</th>\n",
       "      <td>-0.265212</td>\n",
       "      <td>-0.276608</td>\n",
       "      <td>0.479794</td>\n",
       "      <td>0.446531</td>\n",
       "      <td>0.457090</td>\n",
       "      <td>1.000000</td>\n",
       "      <td>-0.271299</td>\n",
       "      <td>-0.017279</td>\n",
       "      <td>-0.276608</td>\n",
       "      <td>-0.121692</td>\n",
       "      <td>-0.125069</td>\n",
       "      <td>-0.124442</td>\n",
       "      <td>-0.265212</td>\n",
       "    </tr>\n",
       "    <tr>\n",
       "      <th>published_Year</th>\n",
       "      <td>0.983038</td>\n",
       "      <td>0.995651</td>\n",
       "      <td>-0.128183</td>\n",
       "      <td>-0.004373</td>\n",
       "      <td>-0.155453</td>\n",
       "      <td>-0.271299</td>\n",
       "      <td>1.000000</td>\n",
       "      <td>-0.087330</td>\n",
       "      <td>0.995651</td>\n",
       "      <td>0.216815</td>\n",
       "      <td>0.263785</td>\n",
       "      <td>0.261446</td>\n",
       "      <td>0.983038</td>\n",
       "    </tr>\n",
       "    <tr>\n",
       "      <th>published_Dayofyear</th>\n",
       "      <td>0.009338</td>\n",
       "      <td>0.003653</td>\n",
       "      <td>-0.040691</td>\n",
       "      <td>-0.013612</td>\n",
       "      <td>-0.023426</td>\n",
       "      <td>-0.017279</td>\n",
       "      <td>-0.087330</td>\n",
       "      <td>1.000000</td>\n",
       "      <td>0.003653</td>\n",
       "      <td>0.086261</td>\n",
       "      <td>0.082444</td>\n",
       "      <td>0.082605</td>\n",
       "      <td>0.009338</td>\n",
       "    </tr>\n",
       "    <tr>\n",
       "      <th>published_Elapsed</th>\n",
       "      <td>0.987641</td>\n",
       "      <td>1.000000</td>\n",
       "      <td>-0.133926</td>\n",
       "      <td>-0.008367</td>\n",
       "      <td>-0.160553</td>\n",
       "      <td>-0.276608</td>\n",
       "      <td>0.995651</td>\n",
       "      <td>0.003653</td>\n",
       "      <td>1.000000</td>\n",
       "      <td>0.224564</td>\n",
       "      <td>0.271183</td>\n",
       "      <td>0.268861</td>\n",
       "      <td>0.987641</td>\n",
       "    </tr>\n",
       "    <tr>\n",
       "      <th>film_Month</th>\n",
       "      <td>0.231479</td>\n",
       "      <td>0.224564</td>\n",
       "      <td>-0.105681</td>\n",
       "      <td>-0.006213</td>\n",
       "      <td>-0.116747</td>\n",
       "      <td>-0.121692</td>\n",
       "      <td>0.216815</td>\n",
       "      <td>0.086261</td>\n",
       "      <td>0.224564</td>\n",
       "      <td>1.000000</td>\n",
       "      <td>0.985141</td>\n",
       "      <td>0.988475</td>\n",
       "      <td>0.231479</td>\n",
       "    </tr>\n",
       "    <tr>\n",
       "      <th>film_Week</th>\n",
       "      <td>0.281099</td>\n",
       "      <td>0.271183</td>\n",
       "      <td>-0.110341</td>\n",
       "      <td>-0.001086</td>\n",
       "      <td>-0.111071</td>\n",
       "      <td>-0.125069</td>\n",
       "      <td>0.263785</td>\n",
       "      <td>0.082444</td>\n",
       "      <td>0.271183</td>\n",
       "      <td>0.985141</td>\n",
       "      <td>1.000000</td>\n",
       "      <td>0.998220</td>\n",
       "      <td>0.281099</td>\n",
       "    </tr>\n",
       "    <tr>\n",
       "      <th>film_Dayofyear</th>\n",
       "      <td>0.279054</td>\n",
       "      <td>0.268861</td>\n",
       "      <td>-0.108493</td>\n",
       "      <td>-0.000894</td>\n",
       "      <td>-0.112296</td>\n",
       "      <td>-0.124442</td>\n",
       "      <td>0.261446</td>\n",
       "      <td>0.082605</td>\n",
       "      <td>0.268861</td>\n",
       "      <td>0.988475</td>\n",
       "      <td>0.998220</td>\n",
       "      <td>1.000000</td>\n",
       "      <td>0.279054</td>\n",
       "    </tr>\n",
       "    <tr>\n",
       "      <th>film_Elapsed</th>\n",
       "      <td>1.000000</td>\n",
       "      <td>0.987641</td>\n",
       "      <td>-0.132859</td>\n",
       "      <td>0.011487</td>\n",
       "      <td>-0.144416</td>\n",
       "      <td>-0.265212</td>\n",
       "      <td>0.983038</td>\n",
       "      <td>0.009338</td>\n",
       "      <td>0.987641</td>\n",
       "      <td>0.231479</td>\n",
       "      <td>0.281099</td>\n",
       "      <td>0.279054</td>\n",
       "      <td>1.000000</td>\n",
       "    </tr>\n",
       "  </tbody>\n",
       "</table>\n",
       "</div>"
      ],
      "text/plain": [
       "                     film_date  published_date  Funny_ratings  \\\n",
       "film_date             1.000000        0.987641      -0.132859   \n",
       "published_date        0.987641        1.000000      -0.133926   \n",
       "Funny_ratings        -0.132859       -0.133926       1.000000   \n",
       "Informative_ratings   0.011487       -0.008367       0.271243   \n",
       "Fascinating_ratings  -0.144416       -0.160553       0.495843   \n",
       "OK_ratings           -0.265212       -0.276608       0.479794   \n",
       "published_Year        0.983038        0.995651      -0.128183   \n",
       "published_Dayofyear   0.009338        0.003653      -0.040691   \n",
       "published_Elapsed     0.987641        1.000000      -0.133926   \n",
       "film_Month            0.231479        0.224564      -0.105681   \n",
       "film_Week             0.281099        0.271183      -0.110341   \n",
       "film_Dayofyear        0.279054        0.268861      -0.108493   \n",
       "film_Elapsed          1.000000        0.987641      -0.132859   \n",
       "\n",
       "                     Informative_ratings  Fascinating_ratings  OK_ratings  \\\n",
       "film_date                       0.011487            -0.144416   -0.265212   \n",
       "published_date                 -0.008367            -0.160553   -0.276608   \n",
       "Funny_ratings                   0.271243             0.495843    0.479794   \n",
       "Informative_ratings             1.000000             0.617411    0.446531   \n",
       "Fascinating_ratings             0.617411             1.000000    0.457090   \n",
       "OK_ratings                      0.446531             0.457090    1.000000   \n",
       "published_Year                 -0.004373            -0.155453   -0.271299   \n",
       "published_Dayofyear            -0.013612            -0.023426   -0.017279   \n",
       "published_Elapsed              -0.008367            -0.160553   -0.276608   \n",
       "film_Month                     -0.006213            -0.116747   -0.121692   \n",
       "film_Week                      -0.001086            -0.111071   -0.125069   \n",
       "film_Dayofyear                 -0.000894            -0.112296   -0.124442   \n",
       "film_Elapsed                    0.011487            -0.144416   -0.265212   \n",
       "\n",
       "                     published_Year  published_Dayofyear  published_Elapsed  \\\n",
       "film_date                  0.983038             0.009338           0.987641   \n",
       "published_date             0.995651             0.003653           1.000000   \n",
       "Funny_ratings             -0.128183            -0.040691          -0.133926   \n",
       "Informative_ratings       -0.004373            -0.013612          -0.008367   \n",
       "Fascinating_ratings       -0.155453            -0.023426          -0.160553   \n",
       "OK_ratings                -0.271299            -0.017279          -0.276608   \n",
       "published_Year             1.000000            -0.087330           0.995651   \n",
       "published_Dayofyear       -0.087330             1.000000           0.003653   \n",
       "published_Elapsed          0.995651             0.003653           1.000000   \n",
       "film_Month                 0.216815             0.086261           0.224564   \n",
       "film_Week                  0.263785             0.082444           0.271183   \n",
       "film_Dayofyear             0.261446             0.082605           0.268861   \n",
       "film_Elapsed               0.983038             0.009338           0.987641   \n",
       "\n",
       "                     film_Month  film_Week  film_Dayofyear  film_Elapsed  \n",
       "film_date              0.231479   0.281099        0.279054      1.000000  \n",
       "published_date         0.224564   0.271183        0.268861      0.987641  \n",
       "Funny_ratings         -0.105681  -0.110341       -0.108493     -0.132859  \n",
       "Informative_ratings   -0.006213  -0.001086       -0.000894      0.011487  \n",
       "Fascinating_ratings   -0.116747  -0.111071       -0.112296     -0.144416  \n",
       "OK_ratings            -0.121692  -0.125069       -0.124442     -0.265212  \n",
       "published_Year         0.216815   0.263785        0.261446      0.983038  \n",
       "published_Dayofyear    0.086261   0.082444        0.082605      0.009338  \n",
       "published_Elapsed      0.224564   0.271183        0.268861      0.987641  \n",
       "film_Month             1.000000   0.985141        0.988475      0.231479  \n",
       "film_Week              0.985141   1.000000        0.998220      0.281099  \n",
       "film_Dayofyear         0.988475   0.998220        1.000000      0.279054  \n",
       "film_Elapsed           0.231479   0.281099        0.279054      1.000000  "
      ]
     },
     "execution_count": 36,
     "metadata": {},
     "output_type": "execute_result"
    }
   ],
   "source": [
    "reduced_X.corr(method = 'spearman')"
   ]
  },
  {
   "cell_type": "code",
   "execution_count": 37,
   "metadata": {},
   "outputs": [],
   "source": [
    "import numpy as np\n",
    "import scipy.cluster.hierarchy as hc\n",
    "corr = reduced_X.corr(method = 'spearman')\n",
    "corr_condensed = hc.distance.squareform(1 - np.abs(corr))\n",
    "z = hc.linkage(corr_condensed, method = 'average')\n",
    "\n",
    "import matplotlib.pyplot as plt\n",
    "fig = plt.figure(figsize=(16,10))\n",
    "dendrogram = hc.dendrogram(z, labels = reduced_X.columns, orientation = 'left', leaf_font_size=16)"
   ]
  },
  {
   "cell_type": "code",
   "execution_count": 38,
   "metadata": {},
   "outputs": [
    {
     "data": {
      "text/plain": [
       "0.862093212714803"
      ]
     },
     "execution_count": 38,
     "metadata": {},
     "output_type": "execute_result"
    }
   ],
   "source": [
    "wrapped_selectors[-13, 0].score(with_dates_scaled_X_test, with_dates_scaled_y_test)"
   ]
  },
  {
   "cell_type": "code",
   "execution_count": 39,
   "metadata": {},
   "outputs": [
    {
     "data": {
      "text/plain": [
       "array([[4.7227110e+07, 4.5530000e+03, 1.1640000e+03, ..., 0.0000000e+00,\n",
       "        0.0000000e+00, 1.1408076e+09],\n",
       "       [3.2005200e+06, 2.6500000e+02, 9.7700000e+02, ..., 0.0000000e+00,\n",
       "        0.0000000e+00, 1.1408076e+09],\n",
       "       [1.6362920e+06, 1.2400000e+02, 1.2860000e+03, ..., 0.0000000e+00,\n",
       "        0.0000000e+00, 1.1407212e+09],\n",
       "       ...,\n",
       "       [3.7564700e+05, 1.0000000e+01, 6.5100000e+02, ..., 0.0000000e+00,\n",
       "        0.0000000e+00, 1.4929776e+09],\n",
       "       [4.1930900e+05, 3.2000000e+01, 1.1000000e+03, ..., 0.0000000e+00,\n",
       "        0.0000000e+00, 1.4994576e+09],\n",
       "       [3.9172100e+05, 8.0000000e+00, 5.1900000e+02, ..., 0.0000000e+00,\n",
       "        0.0000000e+00, 1.4929776e+09]])"
      ]
     },
     "execution_count": 39,
     "metadata": {},
     "output_type": "execute_result"
    }
   ],
   "source": [
    "scaler.inverse_transform(scaled_data_with_dates)"
   ]
  },
  {
   "cell_type": "code",
   "execution_count": 40,
   "metadata": {},
   "outputs": [],
   "source": [
    "model = LinearRegression(n_jobs = -1)"
   ]
  },
  {
   "cell_type": "code",
   "execution_count": 41,
   "metadata": {},
   "outputs": [
    {
     "data": {
      "text/plain": [
       "LinearRegression(copy_X=True, fit_intercept=True, n_jobs=-1, normalize=False)"
      ]
     },
     "execution_count": 41,
     "metadata": {},
     "output_type": "execute_result"
    }
   ],
   "source": [
    "model.fit(with_dates_X_train[feature_names[support]],with_dates_y_train)"
   ]
  },
  {
   "cell_type": "code",
   "execution_count": 42,
   "metadata": {},
   "outputs": [
    {
     "data": {
      "text/plain": [
       "0.8620932127151012"
      ]
     },
     "execution_count": 42,
     "metadata": {},
     "output_type": "execute_result"
    }
   ],
   "source": [
    "model.score(with_dates_X_test[feature_names[support]], with_dates_y_test)"
   ]
  },
  {
   "cell_type": "code",
   "execution_count": 43,
   "metadata": {},
   "outputs": [
    {
     "data": {
      "text/plain": [
       "203893531037.33368"
      ]
     },
     "execution_count": 43,
     "metadata": {},
     "output_type": "execute_result"
    }
   ],
   "source": [
    "model.intercept_"
   ]
  },
  {
   "cell_type": "code",
   "execution_count": 44,
   "metadata": {},
   "outputs": [
    {
     "data": {
      "text/plain": [
       "array([ 9.50820513e+00,  1.44900856e+01,  8.59519045e+02,  9.42865702e+02,\n",
       "        1.35179989e+03,  7.62814717e+03, -1.03501710e+08, -2.83787067e+05,\n",
       "       -1.12066660e+01, -1.98751704e+05,  9.58468747e+04, -7.47121735e+03,\n",
       "       -9.50813690e+00])"
      ]
     },
     "execution_count": 44,
     "metadata": {},
     "output_type": "execute_result"
    }
   ],
   "source": [
    "model.coef_"
   ]
  },
  {
   "cell_type": "code",
   "execution_count": 45,
   "metadata": {},
   "outputs": [
    {
     "data": {
      "image/png": "[encoded data removed]",
      "text/plain": [
       "<Figure size 432x288 with 169 Axes>"
      ]
     },
     "metadata": {
      "needs_background": "light"
     },
     "output_type": "display_data"
    }
   ],
   "source": [
    "pd.plotting.scatter_matrix(reduced_X.rank());"
   ]
  },
  {
   "cell_type": "markdown",
   "metadata": {},
   "source": [
    "# Ted Talk Data without Date-Time Parts\n",
    "After seeing that the models which included Date-Time parts for film_date and published_date did not yield a great model (it had too many features, and variability), I decided to try and find the best model if I excluded the Date-Time parts from the Ted Talk data."
   ]
  },
  {
   "cell_type": "code",
   "execution_count": 46,
   "metadata": {},
   "outputs": [],
   "source": [
    "ted_data_no_dates = pd.read_feather('ted_data_no_dates')"
   ]
  },
  {
   "cell_type": "code",
   "execution_count": 47,
   "metadata": {},
   "outputs": [
    {
     "data": {
      "text/html": [
       "<div>\n",
       "<style scoped>\n",
       "    .dataframe tbody tr th:only-of-type {\n",
       "        vertical-align: middle;\n",
       "    }\n",
       "\n",
       "    .dataframe tbody tr th {\n",
       "        vertical-align: top;\n",
       "    }\n",
       "\n",
       "    .dataframe thead th {\n",
       "        text-align: right;\n",
       "    }\n",
       "</style>\n",
       "<table border=\"1\" class=\"dataframe\">\n",
       "  <thead>\n",
       "    <tr style=\"text-align: right;\">\n",
       "      <th></th>\n",
       "      <th>views</th>\n",
       "      <th>comments</th>\n",
       "      <th>duration</th>\n",
       "      <th>film_date</th>\n",
       "      <th>languages</th>\n",
       "      <th>num_speaker</th>\n",
       "      <th>published_date</th>\n",
       "      <th>Funny_ratings</th>\n",
       "      <th>Beautiful_ratings</th>\n",
       "      <th>Ingenious_ratings</th>\n",
       "      <th>...</th>\n",
       "      <th>is_design_tags</th>\n",
       "      <th>is_ society_tags</th>\n",
       "      <th>is_global issues_tags</th>\n",
       "      <th>is_health_tags</th>\n",
       "      <th>is_TEDx_tags</th>\n",
       "      <th>is_ TEDx_tags</th>\n",
       "      <th>is_innovation_tags</th>\n",
       "      <th>is_technology_tags</th>\n",
       "      <th>title_length</th>\n",
       "      <th>days_between_published_date_and_film_date</th>\n",
       "    </tr>\n",
       "  </thead>\n",
       "  <tbody>\n",
       "    <tr>\n",
       "      <th>0</th>\n",
       "      <td>47227110</td>\n",
       "      <td>4553</td>\n",
       "      <td>1164</td>\n",
       "      <td>1140825600</td>\n",
       "      <td>60</td>\n",
       "      <td>1</td>\n",
       "      <td>1151367060</td>\n",
       "      <td>19645.0</td>\n",
       "      <td>4573.0</td>\n",
       "      <td>6073.0</td>\n",
       "      <td>...</td>\n",
       "      <td>0.0</td>\n",
       "      <td>0.0</td>\n",
       "      <td>0.0</td>\n",
       "      <td>0.0</td>\n",
       "      <td>0.0</td>\n",
       "      <td>0.0</td>\n",
       "      <td>0.0</td>\n",
       "      <td>0.0</td>\n",
       "      <td>27</td>\n",
       "      <td>123</td>\n",
       "    </tr>\n",
       "    <tr>\n",
       "      <th>1</th>\n",
       "      <td>3200520</td>\n",
       "      <td>265</td>\n",
       "      <td>977</td>\n",
       "      <td>1140825600</td>\n",
       "      <td>43</td>\n",
       "      <td>1</td>\n",
       "      <td>1151367060</td>\n",
       "      <td>544.0</td>\n",
       "      <td>58.0</td>\n",
       "      <td>56.0</td>\n",
       "      <td>...</td>\n",
       "      <td>0.0</td>\n",
       "      <td>0.0</td>\n",
       "      <td>0.0</td>\n",
       "      <td>0.0</td>\n",
       "      <td>0.0</td>\n",
       "      <td>0.0</td>\n",
       "      <td>0.0</td>\n",
       "      <td>0.0</td>\n",
       "      <td>27</td>\n",
       "      <td>123</td>\n",
       "    </tr>\n",
       "    <tr>\n",
       "      <th>2</th>\n",
       "      <td>1636292</td>\n",
       "      <td>124</td>\n",
       "      <td>1286</td>\n",
       "      <td>1140739200</td>\n",
       "      <td>26</td>\n",
       "      <td>1</td>\n",
       "      <td>1151367060</td>\n",
       "      <td>964.0</td>\n",
       "      <td>60.0</td>\n",
       "      <td>183.0</td>\n",
       "      <td>...</td>\n",
       "      <td>0.0</td>\n",
       "      <td>0.0</td>\n",
       "      <td>0.0</td>\n",
       "      <td>0.0</td>\n",
       "      <td>0.0</td>\n",
       "      <td>0.0</td>\n",
       "      <td>0.0</td>\n",
       "      <td>0.0</td>\n",
       "      <td>16</td>\n",
       "      <td>124</td>\n",
       "    </tr>\n",
       "    <tr>\n",
       "      <th>3</th>\n",
       "      <td>1697550</td>\n",
       "      <td>200</td>\n",
       "      <td>1116</td>\n",
       "      <td>1140912000</td>\n",
       "      <td>35</td>\n",
       "      <td>1</td>\n",
       "      <td>1151367060</td>\n",
       "      <td>59.0</td>\n",
       "      <td>291.0</td>\n",
       "      <td>105.0</td>\n",
       "      <td>...</td>\n",
       "      <td>0.0</td>\n",
       "      <td>0.0</td>\n",
       "      <td>0.0</td>\n",
       "      <td>0.0</td>\n",
       "      <td>0.0</td>\n",
       "      <td>0.0</td>\n",
       "      <td>0.0</td>\n",
       "      <td>0.0</td>\n",
       "      <td>19</td>\n",
       "      <td>122</td>\n",
       "    </tr>\n",
       "    <tr>\n",
       "      <th>4</th>\n",
       "      <td>12005869</td>\n",
       "      <td>593</td>\n",
       "      <td>1190</td>\n",
       "      <td>1140566400</td>\n",
       "      <td>48</td>\n",
       "      <td>1</td>\n",
       "      <td>1151440680</td>\n",
       "      <td>1390.0</td>\n",
       "      <td>942.0</td>\n",
       "      <td>3202.0</td>\n",
       "      <td>...</td>\n",
       "      <td>0.0</td>\n",
       "      <td>0.0</td>\n",
       "      <td>0.0</td>\n",
       "      <td>0.0</td>\n",
       "      <td>0.0</td>\n",
       "      <td>0.0</td>\n",
       "      <td>0.0</td>\n",
       "      <td>0.0</td>\n",
       "      <td>31</td>\n",
       "      <td>126</td>\n",
       "    </tr>\n",
       "  </tbody>\n",
       "</table>\n",
       "<p>5 rows × 46 columns</p>\n",
       "</div>"
      ],
      "text/plain": [
       "      views  comments  duration   film_date  languages  num_speaker  \\\n",
       "0  47227110      4553      1164  1140825600         60            1   \n",
       "1   3200520       265       977  1140825600         43            1   \n",
       "2   1636292       124      1286  1140739200         26            1   \n",
       "3   1697550       200      1116  1140912000         35            1   \n",
       "4  12005869       593      1190  1140566400         48            1   \n",
       "\n",
       "   published_date  Funny_ratings  Beautiful_ratings  Ingenious_ratings  ...  \\\n",
       "0      1151367060        19645.0             4573.0             6073.0  ...   \n",
       "1      1151367060          544.0               58.0               56.0  ...   \n",
       "2      1151367060          964.0               60.0              183.0  ...   \n",
       "3      1151367060           59.0              291.0              105.0  ...   \n",
       "4      1151440680         1390.0              942.0             3202.0  ...   \n",
       "\n",
       "   is_design_tags  is_ society_tags  is_global issues_tags  is_health_tags  \\\n",
       "0             0.0               0.0                    0.0             0.0   \n",
       "1             0.0               0.0                    0.0             0.0   \n",
       "2             0.0               0.0                    0.0             0.0   \n",
       "3             0.0               0.0                    0.0             0.0   \n",
       "4             0.0               0.0                    0.0             0.0   \n",
       "\n",
       "   is_TEDx_tags  is_ TEDx_tags  is_innovation_tags  is_technology_tags  \\\n",
       "0           0.0            0.0                 0.0                 0.0   \n",
       "1           0.0            0.0                 0.0                 0.0   \n",
       "2           0.0            0.0                 0.0                 0.0   \n",
       "3           0.0            0.0                 0.0                 0.0   \n",
       "4           0.0            0.0                 0.0                 0.0   \n",
       "\n",
       "   title_length  days_between_published_date_and_film_date  \n",
       "0            27                                        123  \n",
       "1            27                                        123  \n",
       "2            16                                        124  \n",
       "3            19                                        122  \n",
       "4            31                                        126  \n",
       "\n",
       "[5 rows x 46 columns]"
      ]
     },
     "execution_count": 47,
     "metadata": {},
     "output_type": "execute_result"
    }
   ],
   "source": [
    "ted_data_no_dates.head()"
   ]
  },
  {
   "cell_type": "code",
   "execution_count": 48,
   "metadata": {},
   "outputs": [
    {
     "data": {
      "text/plain": [
       "False"
      ]
     },
     "execution_count": 48,
     "metadata": {},
     "output_type": "execute_result"
    }
   ],
   "source": [
    "ted_data_no_dates.isnull().values.any()"
   ]
  },
  {
   "cell_type": "code",
   "execution_count": 49,
   "metadata": {},
   "outputs": [],
   "source": [
    "no_dates_y = ted_data_no_dates.views\n",
    "no_dates_X = ted_data_no_dates.drop(columns=['views'])"
   ]
  },
  {
   "cell_type": "code",
   "execution_count": 50,
   "metadata": {},
   "outputs": [],
   "source": [
    "from sklearn.linear_model import LinearRegression\n",
    "from sklearn.model_selection import train_test_split"
   ]
  },
  {
   "cell_type": "code",
   "execution_count": 51,
   "metadata": {},
   "outputs": [],
   "source": [
    "no_dates_X_train, no_dates_X_test, no_dates_y_train, no_dates_y_test = train_test_split(no_dates_X, no_dates_y, test_size=0.3, random_state=35)"
   ]
  },
  {
   "cell_type": "code",
   "execution_count": 52,
   "metadata": {},
   "outputs": [],
   "source": [
    "from sklearn.feature_selection import RFECV\n",
    "model = LinearRegression(n_jobs = -1)\n",
    "rfecv = RFECV(model, cv = 5)\n",
    "with_dates_X_train_rfecv = rfecv.fit(no_dates_X_train,no_dates_y_train)"
   ]
  },
  {
   "cell_type": "code",
   "execution_count": 53,
   "metadata": {},
   "outputs": [],
   "source": [
    "grid_scores = with_dates_X_train_rfecv.grid_scores_\n",
    "x_value_range = list(range(0, len(grid_scores)))[::-1]"
   ]
  },
  {
   "cell_type": "code",
   "execution_count": 54,
   "metadata": {},
   "outputs": [
    {
     "data": {
      "application/vnd.plotly.v1+json": {
       "config": {
        "linkText": "Export to plot.ly",
        "plotlyServerURL": "https://plot.ly",
        "showLink": false
       },
       "data": [
        {
         "mode": "markers",
         "name": "data",
         "text": [],
         "type": "scatter",
         "uid": "ab9e7c65-9167-41a7-a385-d9d54cfbb89a",
         "x": [
          44,
          43,
          42,
          41,
          40,
          39,
          38,
          37,
          36,
          35,
          34,
          33,
          32,
          31,
          30,
          29,
          28,
          27,
          26,
          25,
          24,
          23,
          22,
          21,
          20,
          19,
          18,
          17,
          16,
          15,
          14,
          13,
          12,
          11,
          10,
          9,
          8,
          7,
          6,
          5,
          4,
          3,
          2,
          1,
          0
         ],
         "y": [
          -0.0013472618899604606,
          0.0002633484070493124,
          0.007581993726823844,
          0.0072731049647482005,
          0.012209699881474268,
          0.020728240999886415,
          0.0224236408249431,
          0.025407336923630442,
          0.0267619833082831,
          0.03324984999280289,
          0.03486965768859118,
          0.03419581977986175,
          0.034399657034172026,
          0.03482851764960919,
          0.03459295827427171,
          0.03441248914215973,
          0.06604063216132391,
          0.12124954462986455,
          0.14547932819445752,
          0.17605801737493676,
          0.2278971259097478,
          0.22889456967676952,
          0.270665016679729,
          0.38852955615290474,
          0.38944033540069495,
          0.3951973110538902,
          0.4390765954891413,
          0.43783567849127225,
          0.45516280200373327,
          0.456395443771035,
          0.5333172621666324,
          0.5794940774483851,
          0.6108230202642542,
          0.640234542681609,
          0.6518435228474866,
          0.6606050778388486,
          0.6604428164073303,
          0.6605549586061056,
          0.6556999743612723,
          0.6529584193708499,
          0.6539446907845161,
          0.6544493666490186,
          0.6557846152709425,
          0.6705173953782708,
          0.6705299269472315
         ]
        }
       ],
       "layout": {}
      },
      "text/html": [
       "<div id=\"f1eea08b-ada6-40a5-9c21-d779027c5b5c\" style=\"height: 525px; width: 100%;\" class=\"plotly-graph-div\"></div><script type=\"text/javascript\">require([\"plotly\"], function(Plotly) { window.PLOTLYENV=window.PLOTLYENV || {};window.PLOTLYENV.BASE_URL=\"https://plot.ly\";\n",
       "if (document.getElementById(\"f1eea08b-ada6-40a5-9c21-d779027c5b5c\")) {\n",
       "    Plotly.newPlot(\"f1eea08b-ada6-40a5-9c21-d779027c5b5c\", [{\"mode\": \"markers\", \"name\": \"data\", \"text\": [], \"x\": [44, 43, 42, 41, 40, 39, 38, 37, 36, 35, 34, 33, 32, 31, 30, 29, 28, 27, 26, 25, 24, 23, 22, 21, 20, 19, 18, 17, 16, 15, 14, 13, 12, 11, 10, 9, 8, 7, 6, 5, 4, 3, 2, 1, 0], \"y\": [-0.0013472618899604606, 0.0002633484070493124, 0.007581993726823844, 0.0072731049647482005, 0.012209699881474268, 0.020728240999886415, 0.0224236408249431, 0.025407336923630442, 0.0267619833082831, 0.03324984999280289, 0.03486965768859118, 0.03419581977986175, 0.034399657034172026, 0.03482851764960919, 0.03459295827427171, 0.03441248914215973, 0.06604063216132391, 0.12124954462986455, 0.14547932819445752, 0.17605801737493676, 0.2278971259097478, 0.22889456967676952, 0.270665016679729, 0.38852955615290474, 0.38944033540069495, 0.3951973110538902, 0.4390765954891413, 0.43783567849127225, 0.45516280200373327, 0.456395443771035, 0.5333172621666324, 0.5794940774483851, 0.6108230202642542, 0.640234542681609, 0.6518435228474866, 0.6606050778388486, 0.6604428164073303, 0.6605549586061056, 0.6556999743612723, 0.6529584193708499, 0.6539446907845161, 0.6544493666490186, 0.6557846152709425, 0.6705173953782708, 0.6705299269472315], \"type\": \"scatter\", \"uid\": \"c45a9c02-e9e7-492c-be67-ca4ac59b5149\"}], {}, {\"showLink\": false, \"linkText\": \"Export to plot.ly\", \"plotlyServerURL\": \"https://plot.ly\"}); \n",
       "}\n",
       "});</script><script type=\"text/javascript\">window.addEventListener(\"resize\", function(){if (document.getElementById(\"f1eea08b-ada6-40a5-9c21-d779027c5b5c\")) {window._Plotly.Plots.resize(document.getElementById(\"f1eea08b-ada6-40a5-9c21-d779027c5b5c\"));};})</script>"
      ],
      "text/vnd.plotly.v1+html": [
       "<div id=\"f1eea08b-ada6-40a5-9c21-d779027c5b5c\" style=\"height: 525px; width: 100%;\" class=\"plotly-graph-div\"></div><script type=\"text/javascript\">require([\"plotly\"], function(Plotly) { window.PLOTLYENV=window.PLOTLYENV || {};window.PLOTLYENV.BASE_URL=\"https://plot.ly\";\n",
       "if (document.getElementById(\"f1eea08b-ada6-40a5-9c21-d779027c5b5c\")) {\n",
       "    Plotly.newPlot(\"f1eea08b-ada6-40a5-9c21-d779027c5b5c\", [{\"mode\": \"markers\", \"name\": \"data\", \"text\": [], \"x\": [44, 43, 42, 41, 40, 39, 38, 37, 36, 35, 34, 33, 32, 31, 30, 29, 28, 27, 26, 25, 24, 23, 22, 21, 20, 19, 18, 17, 16, 15, 14, 13, 12, 11, 10, 9, 8, 7, 6, 5, 4, 3, 2, 1, 0], \"y\": [-0.0013472618899604606, 0.0002633484070493124, 0.007581993726823844, 0.0072731049647482005, 0.012209699881474268, 0.020728240999886415, 0.0224236408249431, 0.025407336923630442, 0.0267619833082831, 0.03324984999280289, 0.03486965768859118, 0.03419581977986175, 0.034399657034172026, 0.03482851764960919, 0.03459295827427171, 0.03441248914215973, 0.06604063216132391, 0.12124954462986455, 0.14547932819445752, 0.17605801737493676, 0.2278971259097478, 0.22889456967676952, 0.270665016679729, 0.38852955615290474, 0.38944033540069495, 0.3951973110538902, 0.4390765954891413, 0.43783567849127225, 0.45516280200373327, 0.456395443771035, 0.5333172621666324, 0.5794940774483851, 0.6108230202642542, 0.640234542681609, 0.6518435228474866, 0.6606050778388486, 0.6604428164073303, 0.6605549586061056, 0.6556999743612723, 0.6529584193708499, 0.6539446907845161, 0.6544493666490186, 0.6557846152709425, 0.6705173953782708, 0.6705299269472315], \"type\": \"scatter\", \"uid\": \"c45a9c02-e9e7-492c-be67-ca4ac59b5149\"}], {}, {\"showLink\": false, \"linkText\": \"Export to plot.ly\", \"plotlyServerURL\": \"https://plot.ly\"}); \n",
       "}\n",
       "});</script><script type=\"text/javascript\">window.addEventListener(\"resize\", function(){if (document.getElementById(\"f1eea08b-ada6-40a5-9c21-d779027c5b5c\")) {window._Plotly.Plots.resize(document.getElementById(\"f1eea08b-ada6-40a5-9c21-d779027c5b5c\"));};})</script>"
      ]
     },
     "metadata": {},
     "output_type": "display_data"
    }
   ],
   "source": [
    "from graph import trace_values, plot\n",
    "score_trace = trace_values(x_value_range, grid_scores)\n",
    "plot([score_trace])"
   ]
  },
  {
   "cell_type": "code",
   "execution_count": 55,
   "metadata": {},
   "outputs": [
    {
     "data": {
      "text/plain": [
       "array([-1.34726189e-03,  2.63348407e-04,  7.58199373e-03,  7.27310496e-03,\n",
       "        1.22096999e-02,  2.07282410e-02,  2.24236408e-02,  2.54073369e-02,\n",
       "        2.67619833e-02,  3.32498500e-02,  3.48696577e-02,  3.41958198e-02,\n",
       "        3.43996570e-02,  3.48285176e-02,  3.45929583e-02,  3.44124891e-02,\n",
       "        6.60406322e-02,  1.21249545e-01,  1.45479328e-01,  1.76058017e-01,\n",
       "        2.27897126e-01,  2.28894570e-01,  2.70665017e-01,  3.88529556e-01,\n",
       "        3.89440335e-01,  3.95197311e-01,  4.39076595e-01,  4.37835678e-01,\n",
       "        4.55162802e-01,  4.56395444e-01,  5.33317262e-01,  5.79494077e-01,\n",
       "        6.10823020e-01,  6.40234543e-01,  6.51843523e-01,  6.60605078e-01,\n",
       "        6.60442816e-01,  6.60554959e-01,  6.55699974e-01,  6.52958419e-01,\n",
       "        6.53944691e-01,  6.54449367e-01,  6.55784615e-01,  6.70517395e-01,\n",
       "        6.70529927e-01])"
      ]
     },
     "execution_count": 55,
     "metadata": {},
     "output_type": "execute_result"
    }
   ],
   "source": [
    "grid_scores"
   ]
  },
  {
   "cell_type": "code",
   "execution_count": 56,
   "metadata": {},
   "outputs": [],
   "source": [
    "no_dates_X_train, no_dates_X_validate, no_dates_y_train, no_dates_y_validate = train_test_split(no_dates_X_train, no_dates_y_train, test_size=0.3, random_state=35)"
   ]
  },
  {
   "cell_type": "code",
   "execution_count": 57,
   "metadata": {},
   "outputs": [],
   "source": [
    "from sklearn.feature_selection import RFE\n",
    "from sklearn.linear_model import LinearRegression\n",
    "import numpy as np\n",
    "\n",
    "selectors = []\n",
    "\n",
    "for idx in list(range(1, 45, 1))[::-1]:\n",
    "    # 1. create an estimator\n",
    "    estimator = LinearRegression(n_jobs=-1)\n",
    "    # 2. perform rfe with the idx number of features\n",
    "    rfe = RFE(estimator, idx, step=1)\n",
    "    # 3. reduce the dataset to the number of features\n",
    "    no_dates_X_train_rfe = rfe.fit_transform(no_dates_X_train,with_dates_y_train)\n",
    "    no_dates_X_validate_rfe = rfe.transform(no_dates_X_validate)\n",
    "    # 4. compute the accuracy score and append to the list\n",
    "    estimator.fit(no_dates_X_train_rfe,no_dates_y_train)\n",
    "    score = estimator.score(no_dates_X_validate_rfe,no_dates_y_validate)\n",
    "    selectors.append(np.array([rfe, score, idx]))"
   ]
  },
  {
   "cell_type": "code",
   "execution_count": 58,
   "metadata": {},
   "outputs": [],
   "source": [
    "wrapped_selectors = np.array(selectors)"
   ]
  },
  {
   "cell_type": "code",
   "execution_count": 59,
   "metadata": {},
   "outputs": [],
   "source": [
    "y_values = wrapped_selectors[:, 1]\n",
    "x_values = wrapped_selectors[:, -1]"
   ]
  },
  {
   "cell_type": "code",
   "execution_count": 60,
   "metadata": {},
   "outputs": [
    {
     "data": {
      "application/vnd.plotly.v1+json": {
       "config": {
        "linkText": "Export to plot.ly",
        "plotlyServerURL": "https://plot.ly",
        "showLink": false
       },
       "data": [
        {
         "mode": "markers",
         "name": "data",
         "text": [],
         "type": "scatter",
         "uid": "4e08305a-47da-48e5-beb7-80454f9b3226",
         "x": [
          44,
          43,
          42,
          41,
          40,
          39,
          38,
          37,
          36,
          35,
          34,
          33,
          32,
          31,
          30,
          29,
          28,
          27,
          26,
          25,
          24,
          23,
          22,
          21,
          20,
          19,
          18,
          17,
          16,
          15,
          14,
          13,
          12,
          11,
          10,
          9,
          8,
          7,
          6,
          5,
          4,
          3,
          2,
          1
         ],
         "y": [
          0.7291661122418926,
          0.7228232422276972,
          0.7228529900619955,
          0.7226392626571745,
          0.7244575752034921,
          0.7234590177516573,
          0.7200869456914853,
          0.7130880843455303,
          0.7057337471886161,
          0.713211061519905,
          0.7129981010498769,
          0.6662830274143277,
          0.6208655724721333,
          0.5886377984094058,
          0.5888406808792443,
          0.5871926343084531,
          0.5869642926571739,
          0.37102698668197165,
          0.36872615555677213,
          0.1537907195256747,
          0.15342492395308727,
          0.0070849694719371525,
          0.006821217193733742,
          0.00752034816003655,
          0.007583081394604395,
          0.008883873278330512,
          0.0091441412772576,
          0.00914870484536956,
          0.010132857549385088,
          0.01503549444193042,
          0.011969365524232445,
          0.009716167531822473,
          0.01181765659963585,
          0.016990645306479535,
          0.016086369932114764,
          0.019146120622157148,
          0.01744785979372354,
          0.016981537594252583,
          0.010954687624734394,
          0.016171944100677127,
          0.01591863897397361,
          -0.0012392633561695288,
          1.1410453853222258e-05,
          -1.749286795416083e-07
         ]
        }
       ],
       "layout": {}
      },
      "text/html": [
       "<div id=\"5d071687-96fd-4539-81c3-bd401c2f2326\" style=\"height: 525px; width: 100%;\" class=\"plotly-graph-div\"></div><script type=\"text/javascript\">require([\"plotly\"], function(Plotly) { window.PLOTLYENV=window.PLOTLYENV || {};window.PLOTLYENV.BASE_URL=\"https://plot.ly\";\n",
       "if (document.getElementById(\"5d071687-96fd-4539-81c3-bd401c2f2326\")) {\n",
       "    Plotly.newPlot(\"5d071687-96fd-4539-81c3-bd401c2f2326\", [{\"mode\": \"markers\", \"name\": \"data\", \"text\": [], \"x\": [44, 43, 42, 41, 40, 39, 38, 37, 36, 35, 34, 33, 32, 31, 30, 29, 28, 27, 26, 25, 24, 23, 22, 21, 20, 19, 18, 17, 16, 15, 14, 13, 12, 11, 10, 9, 8, 7, 6, 5, 4, 3, 2, 1], \"y\": [0.7291661122418926, 0.7228232422276972, 0.7228529900619955, 0.7226392626571745, 0.7244575752034921, 0.7234590177516573, 0.7200869456914853, 0.7130880843455303, 0.7057337471886161, 0.713211061519905, 0.7129981010498769, 0.6662830274143277, 0.6208655724721333, 0.5886377984094058, 0.5888406808792443, 0.5871926343084531, 0.5869642926571739, 0.37102698668197165, 0.36872615555677213, 0.1537907195256747, 0.15342492395308727, 0.0070849694719371525, 0.006821217193733742, 0.00752034816003655, 0.007583081394604395, 0.008883873278330512, 0.0091441412772576, 0.00914870484536956, 0.010132857549385088, 0.01503549444193042, 0.011969365524232445, 0.009716167531822473, 0.01181765659963585, 0.016990645306479535, 0.016086369932114764, 0.019146120622157148, 0.01744785979372354, 0.016981537594252583, 0.010954687624734394, 0.016171944100677127, 0.01591863897397361, -0.0012392633561695288, 1.1410453853222258e-05, -1.749286795416083e-07], \"type\": \"scatter\", \"uid\": \"754c4190-43a2-4e5e-bc83-786383036dc2\"}], {}, {\"showLink\": false, \"linkText\": \"Export to plot.ly\", \"plotlyServerURL\": \"https://plot.ly\"}); \n",
       "}\n",
       "});</script><script type=\"text/javascript\">window.addEventListener(\"resize\", function(){if (document.getElementById(\"5d071687-96fd-4539-81c3-bd401c2f2326\")) {window._Plotly.Plots.resize(document.getElementById(\"5d071687-96fd-4539-81c3-bd401c2f2326\"));};})</script>"
      ],
      "text/vnd.plotly.v1+html": [
       "<div id=\"5d071687-96fd-4539-81c3-bd401c2f2326\" style=\"height: 525px; width: 100%;\" class=\"plotly-graph-div\"></div><script type=\"text/javascript\">require([\"plotly\"], function(Plotly) { window.PLOTLYENV=window.PLOTLYENV || {};window.PLOTLYENV.BASE_URL=\"https://plot.ly\";\n",
       "if (document.getElementById(\"5d071687-96fd-4539-81c3-bd401c2f2326\")) {\n",
       "    Plotly.newPlot(\"5d071687-96fd-4539-81c3-bd401c2f2326\", [{\"mode\": \"markers\", \"name\": \"data\", \"text\": [], \"x\": [44, 43, 42, 41, 40, 39, 38, 37, 36, 35, 34, 33, 32, 31, 30, 29, 28, 27, 26, 25, 24, 23, 22, 21, 20, 19, 18, 17, 16, 15, 14, 13, 12, 11, 10, 9, 8, 7, 6, 5, 4, 3, 2, 1], \"y\": [0.7291661122418926, 0.7228232422276972, 0.7228529900619955, 0.7226392626571745, 0.7244575752034921, 0.7234590177516573, 0.7200869456914853, 0.7130880843455303, 0.7057337471886161, 0.713211061519905, 0.7129981010498769, 0.6662830274143277, 0.6208655724721333, 0.5886377984094058, 0.5888406808792443, 0.5871926343084531, 0.5869642926571739, 0.37102698668197165, 0.36872615555677213, 0.1537907195256747, 0.15342492395308727, 0.0070849694719371525, 0.006821217193733742, 0.00752034816003655, 0.007583081394604395, 0.008883873278330512, 0.0091441412772576, 0.00914870484536956, 0.010132857549385088, 0.01503549444193042, 0.011969365524232445, 0.009716167531822473, 0.01181765659963585, 0.016990645306479535, 0.016086369932114764, 0.019146120622157148, 0.01744785979372354, 0.016981537594252583, 0.010954687624734394, 0.016171944100677127, 0.01591863897397361, -0.0012392633561695288, 1.1410453853222258e-05, -1.749286795416083e-07], \"type\": \"scatter\", \"uid\": \"754c4190-43a2-4e5e-bc83-786383036dc2\"}], {}, {\"showLink\": false, \"linkText\": \"Export to plot.ly\", \"plotlyServerURL\": \"https://plot.ly\"}); \n",
       "}\n",
       "});</script><script type=\"text/javascript\">window.addEventListener(\"resize\", function(){if (document.getElementById(\"5d071687-96fd-4539-81c3-bd401c2f2326\")) {window._Plotly.Plots.resize(document.getElementById(\"5d071687-96fd-4539-81c3-bd401c2f2326\"));};})</script>"
      ]
     },
     "metadata": {},
     "output_type": "display_data"
    }
   ],
   "source": [
    "from graph import trace_values, plot\n",
    "trace = trace_values(x_values, y_values)\n",
    "plot([trace])"
   ]
  },
  {
   "cell_type": "code",
   "execution_count": 61,
   "metadata": {},
   "outputs": [
    {
     "name": "stderr",
     "output_type": "stream",
     "text": [
      "/anaconda3/lib/python3.7/site-packages/sklearn/preprocessing/data.py:625: DataConversionWarning:\n",
      "\n",
      "Data with input dtype int64, float64 were all converted to float64 by StandardScaler.\n",
      "\n"
     ]
    },
    {
     "data": {
      "text/plain": [
       "StandardScaler(copy=True, with_mean=True, with_std=True)"
      ]
     },
     "execution_count": 61,
     "metadata": {},
     "output_type": "execute_result"
    }
   ],
   "source": [
    "from sklearn.preprocessing import StandardScaler\n",
    "scaler = StandardScaler()\n",
    "scaler.fit(ted_data_no_dates)"
   ]
  },
  {
   "cell_type": "code",
   "execution_count": 62,
   "metadata": {},
   "outputs": [
    {
     "name": "stderr",
     "output_type": "stream",
     "text": [
      "/anaconda3/lib/python3.7/site-packages/sklearn/preprocessing/data.py:625: DataConversionWarning:\n",
      "\n",
      "Data with input dtype int64, float64 were all converted to float64 by StandardScaler.\n",
      "\n",
      "/anaconda3/lib/python3.7/site-packages/sklearn/base.py:462: DataConversionWarning:\n",
      "\n",
      "Data with input dtype int64, float64 were all converted to float64 by StandardScaler.\n",
      "\n"
     ]
    }
   ],
   "source": [
    "scaled_data_no_dates = scaler.fit_transform(ted_data_no_dates)"
   ]
  },
  {
   "cell_type": "code",
   "execution_count": 63,
   "metadata": {},
   "outputs": [],
   "source": [
    "scaled_X_no_dates = scaled_data_no_dates[:, 1:]\n",
    "scaled_y_no_dates = scaled_data_no_dates[:, 0]"
   ]
  },
  {
   "cell_type": "code",
   "execution_count": 64,
   "metadata": {},
   "outputs": [],
   "source": [
    "no_dates_scaled_X_train, no_dates_scaled_X_test, no_dates_scaled_y_train, no_dates_scaled_y_test = train_test_split(scaled_X_no_dates, scaled_y_no_dates, test_size=0.3, random_state=35)"
   ]
  },
  {
   "cell_type": "code",
   "execution_count": 65,
   "metadata": {},
   "outputs": [],
   "source": [
    "no_dates_scaled_X_train, no_dates_scaled_X_validate, no_dates_scaled_y_train, no_dates_scaled_y_validate = train_test_split(no_dates_scaled_X_train, no_dates_scaled_y_train, test_size=0.3, random_state=35)"
   ]
  },
  {
   "cell_type": "code",
   "execution_count": 66,
   "metadata": {},
   "outputs": [],
   "source": [
    "from sklearn.linear_model import LinearRegression\n",
    "from sklearn.feature_selection import RFECV\n",
    "model = LinearRegression(n_jobs = -1)\n",
    "rfecv = RFECV(model, cv = 5)\n",
    "X_train_rfecv = rfecv.fit(no_dates_scaled_X_train,no_dates_scaled_y_train)"
   ]
  },
  {
   "cell_type": "code",
   "execution_count": 67,
   "metadata": {},
   "outputs": [],
   "source": [
    "grid_scores = X_train_rfecv.grid_scores_"
   ]
  },
  {
   "cell_type": "code",
   "execution_count": 68,
   "metadata": {},
   "outputs": [
    {
     "data": {
      "text/plain": [
       "array([0.45196491, 0.50991524, 0.53086581, 0.57823974, 0.63677793,\n",
       "       0.65773845, 0.6436627 , 0.65078205, 0.65684618, 0.66321696,\n",
       "       0.66086934, 0.65813756, 0.66167106, 0.65763973, 0.65703108,\n",
       "       0.66055652, 0.66273836, 0.66499071, 0.66579458, 0.66487369,\n",
       "       0.66626894, 0.66664159, 0.66531086, 0.66397672, 0.66317806,\n",
       "       0.66270874, 0.66194684, 0.66123713, 0.66064946, 0.65989394,\n",
       "       0.6594088 , 0.65875858, 0.65838214, 0.65814978, 0.65807478,\n",
       "       0.65851854, 0.65858009, 0.6589757 , 0.65887212, 0.65895163,\n",
       "       0.6591498 , 0.65911617, 0.65924903, 0.65921678, 0.65924089])"
      ]
     },
     "execution_count": 68,
     "metadata": {},
     "output_type": "execute_result"
    }
   ],
   "source": [
    "grid_scores"
   ]
  },
  {
   "cell_type": "code",
   "execution_count": 69,
   "metadata": {},
   "outputs": [],
   "source": [
    "x_value_range = list(range(0, len(grid_scores)))[::-1]"
   ]
  },
  {
   "cell_type": "code",
   "execution_count": 70,
   "metadata": {},
   "outputs": [
    {
     "data": {
      "application/vnd.plotly.v1+json": {
       "config": {
        "linkText": "Export to plot.ly",
        "plotlyServerURL": "https://plot.ly",
        "showLink": false
       },
       "data": [
        {
         "mode": "markers",
         "name": "data",
         "text": [],
         "type": "scatter",
         "uid": "83038d57-21e3-411c-9111-5731e86aea47",
         "x": [
          44,
          43,
          42,
          41,
          40,
          39,
          38,
          37,
          36,
          35,
          34,
          33,
          32,
          31,
          30,
          29,
          28,
          27,
          26,
          25,
          24,
          23,
          22,
          21,
          20,
          19,
          18,
          17,
          16,
          15,
          14,
          13,
          12,
          11,
          10,
          9,
          8,
          7,
          6,
          5,
          4,
          3,
          2,
          1,
          0
         ],
         "y": [
          0.4519649076819957,
          0.5099152425490878,
          0.5308658098937155,
          0.5782397414748092,
          0.6367779278878638,
          0.6577384536758043,
          0.6436626994364116,
          0.6507820522637064,
          0.6568461831412344,
          0.6632169625181867,
          0.6608693382761619,
          0.6581375582068456,
          0.6616710577758834,
          0.657639725838296,
          0.6570310842736404,
          0.6605565201079311,
          0.6627383586938838,
          0.6649907056252262,
          0.665794582683351,
          0.6648736944844396,
          0.666268938154398,
          0.6666415920758241,
          0.6653108610582512,
          0.6639767187549718,
          0.6631780576085106,
          0.6627087409482894,
          0.661946840079346,
          0.6612371256826423,
          0.6606494582735722,
          0.6598939370445651,
          0.659408801254413,
          0.6587585751972314,
          0.6583821381076173,
          0.6581497815994329,
          0.6580747808244416,
          0.6585185427992433,
          0.6585800874344692,
          0.6589756956304307,
          0.6588721156741099,
          0.658951626202359,
          0.6591497973948062,
          0.659116174516981,
          0.65924902779864,
          0.6592167792012009,
          0.6592408913456282
         ]
        }
       ],
       "layout": {}
      },
      "text/html": [
       "<div id=\"b697a18d-3de3-49fa-a7a5-f073306f07c6\" style=\"height: 525px; width: 100%;\" class=\"plotly-graph-div\"></div><script type=\"text/javascript\">require([\"plotly\"], function(Plotly) { window.PLOTLYENV=window.PLOTLYENV || {};window.PLOTLYENV.BASE_URL=\"https://plot.ly\";\n",
       "if (document.getElementById(\"b697a18d-3de3-49fa-a7a5-f073306f07c6\")) {\n",
       "    Plotly.newPlot(\"b697a18d-3de3-49fa-a7a5-f073306f07c6\", [{\"mode\": \"markers\", \"name\": \"data\", \"text\": [], \"x\": [44, 43, 42, 41, 40, 39, 38, 37, 36, 35, 34, 33, 32, 31, 30, 29, 28, 27, 26, 25, 24, 23, 22, 21, 20, 19, 18, 17, 16, 15, 14, 13, 12, 11, 10, 9, 8, 7, 6, 5, 4, 3, 2, 1, 0], \"y\": [0.4519649076819957, 0.5099152425490878, 0.5308658098937155, 0.5782397414748092, 0.6367779278878638, 0.6577384536758043, 0.6436626994364116, 0.6507820522637064, 0.6568461831412344, 0.6632169625181867, 0.6608693382761619, 0.6581375582068456, 0.6616710577758834, 0.657639725838296, 0.6570310842736404, 0.6605565201079311, 0.6627383586938838, 0.6649907056252262, 0.665794582683351, 0.6648736944844396, 0.666268938154398, 0.6666415920758241, 0.6653108610582512, 0.6639767187549718, 0.6631780576085106, 0.6627087409482894, 0.661946840079346, 0.6612371256826423, 0.6606494582735722, 0.6598939370445651, 0.659408801254413, 0.6587585751972314, 0.6583821381076173, 0.6581497815994329, 0.6580747808244416, 0.6585185427992433, 0.6585800874344692, 0.6589756956304307, 0.6588721156741099, 0.658951626202359, 0.6591497973948062, 0.659116174516981, 0.65924902779864, 0.6592167792012009, 0.6592408913456282], \"type\": \"scatter\", \"uid\": \"c39bffc5-bf08-4bbd-ab1e-a4ee70cafa62\"}], {}, {\"showLink\": false, \"linkText\": \"Export to plot.ly\", \"plotlyServerURL\": \"https://plot.ly\"}); \n",
       "}\n",
       "});</script><script type=\"text/javascript\">window.addEventListener(\"resize\", function(){if (document.getElementById(\"b697a18d-3de3-49fa-a7a5-f073306f07c6\")) {window._Plotly.Plots.resize(document.getElementById(\"b697a18d-3de3-49fa-a7a5-f073306f07c6\"));};})</script>"
      ],
      "text/vnd.plotly.v1+html": [
       "<div id=\"b697a18d-3de3-49fa-a7a5-f073306f07c6\" style=\"height: 525px; width: 100%;\" class=\"plotly-graph-div\"></div><script type=\"text/javascript\">require([\"plotly\"], function(Plotly) { window.PLOTLYENV=window.PLOTLYENV || {};window.PLOTLYENV.BASE_URL=\"https://plot.ly\";\n",
       "if (document.getElementById(\"b697a18d-3de3-49fa-a7a5-f073306f07c6\")) {\n",
       "    Plotly.newPlot(\"b697a18d-3de3-49fa-a7a5-f073306f07c6\", [{\"mode\": \"markers\", \"name\": \"data\", \"text\": [], \"x\": [44, 43, 42, 41, 40, 39, 38, 37, 36, 35, 34, 33, 32, 31, 30, 29, 28, 27, 26, 25, 24, 23, 22, 21, 20, 19, 18, 17, 16, 15, 14, 13, 12, 11, 10, 9, 8, 7, 6, 5, 4, 3, 2, 1, 0], \"y\": [0.4519649076819957, 0.5099152425490878, 0.5308658098937155, 0.5782397414748092, 0.6367779278878638, 0.6577384536758043, 0.6436626994364116, 0.6507820522637064, 0.6568461831412344, 0.6632169625181867, 0.6608693382761619, 0.6581375582068456, 0.6616710577758834, 0.657639725838296, 0.6570310842736404, 0.6605565201079311, 0.6627383586938838, 0.6649907056252262, 0.665794582683351, 0.6648736944844396, 0.666268938154398, 0.6666415920758241, 0.6653108610582512, 0.6639767187549718, 0.6631780576085106, 0.6627087409482894, 0.661946840079346, 0.6612371256826423, 0.6606494582735722, 0.6598939370445651, 0.659408801254413, 0.6587585751972314, 0.6583821381076173, 0.6581497815994329, 0.6580747808244416, 0.6585185427992433, 0.6585800874344692, 0.6589756956304307, 0.6588721156741099, 0.658951626202359, 0.6591497973948062, 0.659116174516981, 0.65924902779864, 0.6592167792012009, 0.6592408913456282], \"type\": \"scatter\", \"uid\": \"c39bffc5-bf08-4bbd-ab1e-a4ee70cafa62\"}], {}, {\"showLink\": false, \"linkText\": \"Export to plot.ly\", \"plotlyServerURL\": \"https://plot.ly\"}); \n",
       "}\n",
       "});</script><script type=\"text/javascript\">window.addEventListener(\"resize\", function(){if (document.getElementById(\"b697a18d-3de3-49fa-a7a5-f073306f07c6\")) {window._Plotly.Plots.resize(document.getElementById(\"b697a18d-3de3-49fa-a7a5-f073306f07c6\"));};})</script>"
      ]
     },
     "metadata": {},
     "output_type": "display_data"
    }
   ],
   "source": [
    "from graph import trace_values, plot\n",
    "score_trace = trace_values(x_value_range[-50:], grid_scores[-50:])\n",
    "plot([score_trace])"
   ]
  },
  {
   "cell_type": "code",
   "execution_count": 71,
   "metadata": {},
   "outputs": [],
   "source": [
    "from sklearn.feature_selection import RFE\n",
    "from sklearn.linear_model import LinearRegression\n",
    "import numpy as np\n",
    "\n",
    "selectors = []\n",
    "\n",
    "for idx in list(range(1, 45, 1))[::-1]:\n",
    "    # 1. create an estimator\n",
    "    estimator = LinearRegression(n_jobs=-1)\n",
    "    # 2. perform rfe with the idx number of features\n",
    "    rfe = RFE(estimator, idx, step=1)\n",
    "    # 3. reduce the dataset to the number of features\n",
    "    scaled_X_train_rfe = rfe.fit_transform(no_dates_scaled_X_train,no_dates_scaled_y_train)\n",
    "    scaled_X_validate_rfe = rfe.transform(no_dates_scaled_X_validate)\n",
    "    # 4. compute the accuracy score and append to the list\n",
    "    estimator.fit(scaled_X_train_rfe,no_dates_scaled_y_train)\n",
    "    score = estimator.score(scaled_X_validate_rfe,no_dates_scaled_y_validate)\n",
    "    selectors.append(np.array([rfe, score, idx]))"
   ]
  },
  {
   "cell_type": "code",
   "execution_count": 72,
   "metadata": {},
   "outputs": [],
   "source": [
    "wrapped_selectors = np.array(selectors)"
   ]
  },
  {
   "cell_type": "code",
   "execution_count": 73,
   "metadata": {},
   "outputs": [],
   "source": [
    "y_values = wrapped_selectors[:, 1]\n",
    "x_values = wrapped_selectors[:, -1]"
   ]
  },
  {
   "cell_type": "code",
   "execution_count": 74,
   "metadata": {},
   "outputs": [
    {
     "data": {
      "application/vnd.plotly.v1+json": {
       "config": {
        "linkText": "Export to plot.ly",
        "plotlyServerURL": "https://plot.ly",
        "showLink": false
       },
       "data": [
        {
         "mode": "markers",
         "name": "data",
         "text": [],
         "type": "scatter",
         "uid": "7d2a6877-db72-4cfd-b83e-162ef05f8e3b",
         "x": [
          44,
          43,
          42,
          41,
          40,
          39,
          38,
          37,
          36,
          35,
          34,
          33,
          32,
          31,
          30,
          29,
          28,
          27,
          26,
          25,
          24,
          23,
          22,
          21,
          20,
          19,
          18,
          17,
          16,
          15,
          14,
          13,
          12,
          11,
          10,
          9,
          8,
          7,
          6,
          5,
          4,
          3,
          2,
          1
         ],
         "y": [
          0.7291222700715808,
          0.7292200943296634,
          0.729357889090378,
          0.7291938704772766,
          0.7291299324967551,
          0.7291759697135411,
          0.7293253587489158,
          0.7292445587098225,
          0.7295242270716322,
          0.7296947673568606,
          0.7298297487753924,
          0.7303256121602183,
          0.7298516414806092,
          0.730045324382884,
          0.7304467779284841,
          0.7307477281422208,
          0.7308417488573311,
          0.7309055918956959,
          0.7303921910519122,
          0.7313195909462495,
          0.7316362514709353,
          0.7303523882291074,
          0.7265489605917055,
          0.7207974977484669,
          0.7186411084824452,
          0.7185735054311527,
          0.717002560702009,
          0.7182910977404857,
          0.7214249291704792,
          0.7186307065255728,
          0.7186471501284393,
          0.7204130790142855,
          0.7128879996863022,
          0.7104082211454634,
          0.7053019869008252,
          0.6980997544899281,
          0.6884278335983882,
          0.6878579919775298,
          0.7002551555487911,
          0.6940189539723922,
          0.665539511185197,
          0.6118934714119394,
          0.563939196763129,
          0.4390847043049977
         ]
        }
       ],
       "layout": {}
      },
      "text/html": [
       "<div id=\"54965989-8210-40cf-ae34-b0ba96ebf214\" style=\"height: 525px; width: 100%;\" class=\"plotly-graph-div\"></div><script type=\"text/javascript\">require([\"plotly\"], function(Plotly) { window.PLOTLYENV=window.PLOTLYENV || {};window.PLOTLYENV.BASE_URL=\"https://plot.ly\";\n",
       "if (document.getElementById(\"54965989-8210-40cf-ae34-b0ba96ebf214\")) {\n",
       "    Plotly.newPlot(\"54965989-8210-40cf-ae34-b0ba96ebf214\", [{\"mode\": \"markers\", \"name\": \"data\", \"text\": [], \"x\": [44, 43, 42, 41, 40, 39, 38, 37, 36, 35, 34, 33, 32, 31, 30, 29, 28, 27, 26, 25, 24, 23, 22, 21, 20, 19, 18, 17, 16, 15, 14, 13, 12, 11, 10, 9, 8, 7, 6, 5, 4, 3, 2, 1], \"y\": [0.7291222700715808, 0.7292200943296634, 0.729357889090378, 0.7291938704772766, 0.7291299324967551, 0.7291759697135411, 0.7293253587489158, 0.7292445587098225, 0.7295242270716322, 0.7296947673568606, 0.7298297487753924, 0.7303256121602183, 0.7298516414806092, 0.730045324382884, 0.7304467779284841, 0.7307477281422208, 0.7308417488573311, 0.7309055918956959, 0.7303921910519122, 0.7313195909462495, 0.7316362514709353, 0.7303523882291074, 0.7265489605917055, 0.7207974977484669, 0.7186411084824452, 0.7185735054311527, 0.717002560702009, 0.7182910977404857, 0.7214249291704792, 0.7186307065255728, 0.7186471501284393, 0.7204130790142855, 0.7128879996863022, 0.7104082211454634, 0.7053019869008252, 0.6980997544899281, 0.6884278335983882, 0.6878579919775298, 0.7002551555487911, 0.6940189539723922, 0.665539511185197, 0.6118934714119394, 0.563939196763129, 0.4390847043049977], \"type\": \"scatter\", \"uid\": \"14ef48d0-06dc-492b-b76d-4a5c157d804f\"}], {}, {\"showLink\": false, \"linkText\": \"Export to plot.ly\", \"plotlyServerURL\": \"https://plot.ly\"}); \n",
       "}\n",
       "});</script><script type=\"text/javascript\">window.addEventListener(\"resize\", function(){if (document.getElementById(\"54965989-8210-40cf-ae34-b0ba96ebf214\")) {window._Plotly.Plots.resize(document.getElementById(\"54965989-8210-40cf-ae34-b0ba96ebf214\"));};})</script>"
      ],
      "text/vnd.plotly.v1+html": [
       "<div id=\"54965989-8210-40cf-ae34-b0ba96ebf214\" style=\"height: 525px; width: 100%;\" class=\"plotly-graph-div\"></div><script type=\"text/javascript\">require([\"plotly\"], function(Plotly) { window.PLOTLYENV=window.PLOTLYENV || {};window.PLOTLYENV.BASE_URL=\"https://plot.ly\";\n",
       "if (document.getElementById(\"54965989-8210-40cf-ae34-b0ba96ebf214\")) {\n",
       "    Plotly.newPlot(\"54965989-8210-40cf-ae34-b0ba96ebf214\", [{\"mode\": \"markers\", \"name\": \"data\", \"text\": [], \"x\": [44, 43, 42, 41, 40, 39, 38, 37, 36, 35, 34, 33, 32, 31, 30, 29, 28, 27, 26, 25, 24, 23, 22, 21, 20, 19, 18, 17, 16, 15, 14, 13, 12, 11, 10, 9, 8, 7, 6, 5, 4, 3, 2, 1], \"y\": [0.7291222700715808, 0.7292200943296634, 0.729357889090378, 0.7291938704772766, 0.7291299324967551, 0.7291759697135411, 0.7293253587489158, 0.7292445587098225, 0.7295242270716322, 0.7296947673568606, 0.7298297487753924, 0.7303256121602183, 0.7298516414806092, 0.730045324382884, 0.7304467779284841, 0.7307477281422208, 0.7308417488573311, 0.7309055918956959, 0.7303921910519122, 0.7313195909462495, 0.7316362514709353, 0.7303523882291074, 0.7265489605917055, 0.7207974977484669, 0.7186411084824452, 0.7185735054311527, 0.717002560702009, 0.7182910977404857, 0.7214249291704792, 0.7186307065255728, 0.7186471501284393, 0.7204130790142855, 0.7128879996863022, 0.7104082211454634, 0.7053019869008252, 0.6980997544899281, 0.6884278335983882, 0.6878579919775298, 0.7002551555487911, 0.6940189539723922, 0.665539511185197, 0.6118934714119394, 0.563939196763129, 0.4390847043049977], \"type\": \"scatter\", \"uid\": \"14ef48d0-06dc-492b-b76d-4a5c157d804f\"}], {}, {\"showLink\": false, \"linkText\": \"Export to plot.ly\", \"plotlyServerURL\": \"https://plot.ly\"}); \n",
       "}\n",
       "});</script><script type=\"text/javascript\">window.addEventListener(\"resize\", function(){if (document.getElementById(\"54965989-8210-40cf-ae34-b0ba96ebf214\")) {window._Plotly.Plots.resize(document.getElementById(\"54965989-8210-40cf-ae34-b0ba96ebf214\"));};})</script>"
      ]
     },
     "metadata": {},
     "output_type": "display_data"
    }
   ],
   "source": [
    "from graph import trace_values, plot\n",
    "trace = trace_values(x_values, y_values)\n",
    "plot([trace])"
   ]
  },
  {
   "cell_type": "code",
   "execution_count": 75,
   "metadata": {},
   "outputs": [
    {
     "data": {
      "text/plain": [
       "array([0.19534479, 0.17259478, 0.20255852, 0.2937685 , 0.21643091])"
      ]
     },
     "execution_count": 75,
     "metadata": {},
     "output_type": "execute_result"
    }
   ],
   "source": [
    "wrapped_selectors[-5, 0].estimator_.coef_"
   ]
  },
  {
   "cell_type": "code",
   "execution_count": 76,
   "metadata": {},
   "outputs": [],
   "source": [
    "support = wrapped_selectors[-5, 0].get_support()"
   ]
  },
  {
   "cell_type": "code",
   "execution_count": 77,
   "metadata": {},
   "outputs": [
    {
     "data": {
      "text/plain": [
       "array(['Funny_ratings', 'Courageous_ratings', 'Informative_ratings',\n",
       "       'Fascinating_ratings', 'OK_ratings'], dtype=object)"
      ]
     },
     "execution_count": 77,
     "metadata": {},
     "output_type": "execute_result"
    }
   ],
   "source": [
    "import numpy as np\n",
    "feature_names = np.array(no_dates_X.columns) # transformed list to array\n",
    "names = feature_names[support]\n",
    "names"
   ]
  },
  {
   "cell_type": "code",
   "execution_count": 78,
   "metadata": {},
   "outputs": [],
   "source": [
    "names = feature_names[support]\n",
    "reduced_X = no_dates_X[names]"
   ]
  },
  {
   "cell_type": "code",
   "execution_count": 79,
   "metadata": {},
   "outputs": [
    {
     "data": {
      "text/html": [
       "<div>\n",
       "<style scoped>\n",
       "    .dataframe tbody tr th:only-of-type {\n",
       "        vertical-align: middle;\n",
       "    }\n",
       "\n",
       "    .dataframe tbody tr th {\n",
       "        vertical-align: top;\n",
       "    }\n",
       "\n",
       "    .dataframe thead th {\n",
       "        text-align: right;\n",
       "    }\n",
       "</style>\n",
       "<table border=\"1\" class=\"dataframe\">\n",
       "  <thead>\n",
       "    <tr style=\"text-align: right;\">\n",
       "      <th></th>\n",
       "      <th>Funny_ratings</th>\n",
       "      <th>Courageous_ratings</th>\n",
       "      <th>Informative_ratings</th>\n",
       "      <th>Fascinating_ratings</th>\n",
       "      <th>OK_ratings</th>\n",
       "    </tr>\n",
       "  </thead>\n",
       "  <tbody>\n",
       "    <tr>\n",
       "      <th>Funny_ratings</th>\n",
       "      <td>1.000000</td>\n",
       "      <td>0.163596</td>\n",
       "      <td>0.271243</td>\n",
       "      <td>0.495843</td>\n",
       "      <td>0.479794</td>\n",
       "    </tr>\n",
       "    <tr>\n",
       "      <th>Courageous_ratings</th>\n",
       "      <td>0.163596</td>\n",
       "      <td>1.000000</td>\n",
       "      <td>0.219534</td>\n",
       "      <td>0.153367</td>\n",
       "      <td>0.129478</td>\n",
       "    </tr>\n",
       "    <tr>\n",
       "      <th>Informative_ratings</th>\n",
       "      <td>0.271243</td>\n",
       "      <td>0.219534</td>\n",
       "      <td>1.000000</td>\n",
       "      <td>0.617411</td>\n",
       "      <td>0.446531</td>\n",
       "    </tr>\n",
       "    <tr>\n",
       "      <th>Fascinating_ratings</th>\n",
       "      <td>0.495843</td>\n",
       "      <td>0.153367</td>\n",
       "      <td>0.617411</td>\n",
       "      <td>1.000000</td>\n",
       "      <td>0.457090</td>\n",
       "    </tr>\n",
       "    <tr>\n",
       "      <th>OK_ratings</th>\n",
       "      <td>0.479794</td>\n",
       "      <td>0.129478</td>\n",
       "      <td>0.446531</td>\n",
       "      <td>0.457090</td>\n",
       "      <td>1.000000</td>\n",
       "    </tr>\n",
       "  </tbody>\n",
       "</table>\n",
       "</div>"
      ],
      "text/plain": [
       "                     Funny_ratings  Courageous_ratings  Informative_ratings  \\\n",
       "Funny_ratings             1.000000            0.163596             0.271243   \n",
       "Courageous_ratings        0.163596            1.000000             0.219534   \n",
       "Informative_ratings       0.271243            0.219534             1.000000   \n",
       "Fascinating_ratings       0.495843            0.153367             0.617411   \n",
       "OK_ratings                0.479794            0.129478             0.446531   \n",
       "\n",
       "                     Fascinating_ratings  OK_ratings  \n",
       "Funny_ratings                   0.495843    0.479794  \n",
       "Courageous_ratings              0.153367    0.129478  \n",
       "Informative_ratings             0.617411    0.446531  \n",
       "Fascinating_ratings             1.000000    0.457090  \n",
       "OK_ratings                      0.457090    1.000000  "
      ]
     },
     "execution_count": 79,
     "metadata": {},
     "output_type": "execute_result"
    }
   ],
   "source": [
    "reduced_X.corr(method = 'spearman')"
   ]
  },
  {
   "cell_type": "code",
   "execution_count": 80,
   "metadata": {},
   "outputs": [
    {
     "data": {
      "image/png": "[encoded data removed]",
      "text/plain": [
       "<Figure size 1152x720 with 1 Axes>"
      ]
     },
     "metadata": {
      "needs_background": "light"
     },
     "output_type": "display_data"
    }
   ],
   "source": [
    "import numpy as np\n",
    "import scipy.cluster.hierarchy as hc\n",
    "corr = reduced_X.corr(method = 'spearman')\n",
    "corr_condensed = hc.distance.squareform(1 - np.abs(corr))\n",
    "z = hc.linkage(corr_condensed, method = 'average')\n",
    "\n",
    "import matplotlib.pyplot as plt\n",
    "fig = plt.figure(figsize=(16,10))\n",
    "dendrogram = hc.dendrogram(z, labels = reduced_X.columns, orientation = 'left', leaf_font_size=16)"
   ]
  },
  {
   "cell_type": "markdown",
   "metadata": {},
   "source": [
    "As the Fascinating_ratings and Informative Ratings are highly correlated, as seen in the spearman correlation matrix, with a correlation of ~0.62, I decided to remove the Fascinating_Ratings column to see if the R squared improved."
   ]
  },
  {
   "cell_type": "code",
   "execution_count": 81,
   "metadata": {},
   "outputs": [],
   "source": [
    "removed_fascinating_X = np.array(reduced_X)[:,[0,1,2,4]]\n",
    "\n",
    "X_train_removed_f, X_test_removed_f, y_train_removed_f, y_test_removed_f = train_test_split(removed_fascinating_X , no_dates_y, test_size=0.30, random_state=35)\n",
    "X_train_removed_f, X_validate_removed_f, y_train_removed_f, y_validate_removed_f = train_test_split(X_train_removed_f , y_train_removed_f, test_size=0.30, random_state=35)"
   ]
  },
  {
   "cell_type": "code",
   "execution_count": 82,
   "metadata": {},
   "outputs": [
    {
     "data": {
      "text/plain": [
       "0.7084453649937703"
      ]
     },
     "execution_count": 82,
     "metadata": {},
     "output_type": "execute_result"
    }
   ],
   "source": [
    "from sklearn.linear_model import LinearRegression\n",
    "model = LinearRegression()\n",
    "model.fit(X_train_removed_f, y_train_removed_f)\n",
    "model.score(X_validate_removed_f, y_validate_removed_f)"
   ]
  },
  {
   "cell_type": "markdown",
   "metadata": {},
   "source": [
    "This R squared is higher than the R squared that I got above for a model with 4 features, so I decided to test this as my model in addition to the model with 5 features."
   ]
  },
  {
   "cell_type": "code",
   "execution_count": 83,
   "metadata": {},
   "outputs": [
    {
     "data": {
      "text/plain": [
       "array([[4.72271100e+07, 4.55300000e+03, 1.16400000e+03, ...,\n",
       "        5.42101086e-20, 2.70000000e+01, 1.23000000e+02],\n",
       "       [3.20052000e+06, 2.65000000e+02, 9.77000000e+02, ...,\n",
       "        5.42101086e-20, 2.70000000e+01, 1.23000000e+02],\n",
       "       [1.63629200e+06, 1.24000000e+02, 1.28600000e+03, ...,\n",
       "        5.42101086e-20, 1.60000000e+01, 1.24000000e+02],\n",
       "       ...,\n",
       "       [3.75647000e+05, 1.00000000e+01, 6.51000000e+02, ...,\n",
       "        5.42101086e-20, 5.70000000e+01, 1.51000000e+02],\n",
       "       [4.19309000e+05, 3.20000000e+01, 1.10000000e+03, ...,\n",
       "        5.42101086e-20, 4.40000000e+01, 7.60000000e+01],\n",
       "       [3.91721000e+05, 8.00000000e+00, 5.19000000e+02, ...,\n",
       "        5.42101086e-20, 5.00000000e+01, 1.52000000e+02]])"
      ]
     },
     "execution_count": 83,
     "metadata": {},
     "output_type": "execute_result"
    }
   ],
   "source": [
    "scaler.inverse_transform(scaled_data_no_dates)"
   ]
  },
  {
   "cell_type": "code",
   "execution_count": 84,
   "metadata": {},
   "outputs": [],
   "source": [
    "model = LinearRegression(n_jobs = -1)"
   ]
  },
  {
   "cell_type": "code",
   "execution_count": 85,
   "metadata": {},
   "outputs": [
    {
     "data": {
      "text/plain": [
       "LinearRegression(copy_X=True, fit_intercept=True, n_jobs=-1, normalize=False)"
      ]
     },
     "execution_count": 85,
     "metadata": {},
     "output_type": "execute_result"
    }
   ],
   "source": [
    "model.fit(no_dates_X_train[feature_names[support]],no_dates_y_train)"
   ]
  },
  {
   "cell_type": "code",
   "execution_count": 86,
   "metadata": {},
   "outputs": [
    {
     "data": {
      "text/plain": [
       "0.863591080901925"
      ]
     },
     "execution_count": 86,
     "metadata": {},
     "output_type": "execute_result"
    }
   ],
   "source": [
    "model.score(no_dates_X_test[feature_names[support]], no_dates_y_test)"
   ]
  },
  {
   "cell_type": "code",
   "execution_count": 87,
   "metadata": {},
   "outputs": [],
   "source": [
    "model_no_f = LinearRegression(n_jobs = -1)"
   ]
  },
  {
   "cell_type": "code",
   "execution_count": 88,
   "metadata": {},
   "outputs": [
    {
     "data": {
      "text/plain": [
       "LinearRegression(copy_X=True, fit_intercept=True, n_jobs=-1, normalize=False)"
      ]
     },
     "execution_count": 88,
     "metadata": {},
     "output_type": "execute_result"
    }
   ],
   "source": [
    "model_no_f.fit(X_train_removed_f,y_train_removed_f)"
   ]
  },
  {
   "cell_type": "code",
   "execution_count": 89,
   "metadata": {},
   "outputs": [
    {
     "data": {
      "text/plain": [
       "0.8173711527311136"
      ]
     },
     "execution_count": 89,
     "metadata": {},
     "output_type": "execute_result"
    }
   ],
   "source": [
    "model_no_f.score(X_test_removed_f,y_test_removed_f)"
   ]
  },
  {
   "cell_type": "markdown",
   "metadata": {},
   "source": [
    "After testing both models, the one with 5 features, and the one where I removed the Fascinating_ratings feature because of its high correlation with the Informative_ratings feature, I decided to use the model with 5 features, as the R squared on the test dataset was 5% greater than the R squared of the model without the Fascinating_ratings feature"
   ]
  },
  {
   "cell_type": "code",
   "execution_count": 90,
   "metadata": {},
   "outputs": [
    {
     "data": {
      "text/plain": [
       "189431.56141358498"
      ]
     },
     "execution_count": 90,
     "metadata": {},
     "output_type": "execute_result"
    }
   ],
   "source": [
    "model.intercept_"
   ]
  },
  {
   "cell_type": "code",
   "execution_count": 91,
   "metadata": {},
   "outputs": [
    {
     "data": {
      "text/plain": [
       "(array([ 828.43944974,  994.05044724,  936.80849527, 1175.23212579,\n",
       "        5986.94530718]),\n",
       " array(['Funny_ratings', 'Courageous_ratings', 'Informative_ratings',\n",
       "        'Fascinating_ratings', 'OK_ratings'], dtype=object))"
      ]
     },
     "execution_count": 91,
     "metadata": {},
     "output_type": "execute_result"
    }
   ],
   "source": [
    "model.coef_, feature_names[support]"
   ]
  },
  {
   "cell_type": "markdown",
   "metadata": {},
   "source": [
    "# Meaning of the Model\n",
    "The model that we determined to be the best had 5 feautures. <bR>\n",
    "Those 5 features are the number of Funny ratings, Courageous ratings, Informative ratings, Fascinating ratings, and OK ratings. <br>\n",
    "We can use these 5 features to predict how many views a video will get. <br>\n",
    "The exact formula is:\n",
    "    Views = 828.43944974 * Funny_ratings + 994.05044724 * Courageous_ratings + 936.80849527 * Informative_ratings + 1175.23212579 * Fascinating_ratings + 5986.94530718 * OK_ratings + 189431.56141358498 <br>\n",
    "This means that if you are planning to deliver a TED talk and want the talk to have a lot of views, you should focus on making the talk Funny, Courageous, Informative, Fascinating, and OK. <br>\n",
    "In terms of feature importance, the scaled model (based on z-scores) indicates that Fascinating Ratings is the most important feature, as it has the highest coefficient when all variables are scaled the same way. <br>\n",
    "This scaled model has an R squared of 0.69 on the validation set, meaning that 69% of the variability in the data can be explained by these features. <br>\n",
    "When the model is tested on the test data, the model performs even better with an R squared of 0.86. <br>\n",
    "\n",
    "So, to give the best TED talk, you should focus on making it fascinating, funny, informative, courageous, and just OK.\n"
   ]
  }
 ],
 "metadata": {
  "kernelspec": {
   "display_name": "Python 3",
   "language": "python",
   "name": "python3"
  },
  "language_info": {
   "codemirror_mode": {
    "name": "ipython",
    "version": 3
   },
   "file_extension": ".py",
   "mimetype": "text/x-python",
   "name": "python",
   "nbconvert_exporter": "python",
   "pygments_lexer": "ipython3",
   "version": "3.7.1"
  }
 },
 "nbformat": 4,
 "nbformat_minor": 2
}
