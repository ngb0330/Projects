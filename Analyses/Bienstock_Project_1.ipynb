{
 "cells": [
  {
   "attachments": {},
   "cell_type": "markdown",
   "metadata": {},
   "source": [
    "<h1> Telco Customer Churn Data Prep and KPIs </h1>\n",
    "\n",
    "The dataset I have chosen focuses on telephone company (Telco) customer data and comes from [Kaggle](https://www.kaggle.com/blastchar/telco-customer-churn/data). <br>\n",
    "The below steps include some of the data preparation steps necessary to analyze customer churn data, as well as three KPIs (Key Performance Indicators) for determining the success of the company sales team."
   ]
  },
  {
   "cell_type": "code",
   "execution_count": 1,
   "metadata": {},
   "outputs": [],
   "source": [
    "import pandas as pd, seaborn as sns, matplotlib.pyplot as plt, numpy as np"
   ]
  },
  {
   "cell_type": "markdown",
   "metadata": {},
   "source": [
    "<h3> Data Prep </h3>\n",
    "\n",
    "Step 1: Load Data <br>\n",
    "Read the csv file into a pandas DataFrame object using the read_csv method. <br>\n",
    "Check the first five rows to ensure that data looks like it loaded properly."
   ]
  },
  {
   "cell_type": "code",
   "execution_count": 2,
   "metadata": {},
   "outputs": [
    {
     "data": {
      "text/html": [
       "<div>\n",
       "<style scoped>\n",
       "    .dataframe tbody tr th:only-of-type {\n",
       "        vertical-align: middle;\n",
       "    }\n",
       "\n",
       "    .dataframe tbody tr th {\n",
       "        vertical-align: top;\n",
       "    }\n",
       "\n",
       "    .dataframe thead th {\n",
       "        text-align: right;\n",
       "    }\n",
       "</style>\n",
       "<table border=\"1\" class=\"dataframe\">\n",
       "  <thead>\n",
       "    <tr style=\"text-align: right;\">\n",
       "      <th></th>\n",
       "      <th>customerID</th>\n",
       "      <th>gender</th>\n",
       "      <th>SeniorCitizen</th>\n",
       "      <th>Partner</th>\n",
       "      <th>Dependents</th>\n",
       "      <th>tenure</th>\n",
       "      <th>PhoneService</th>\n",
       "      <th>MultipleLines</th>\n",
       "      <th>InternetService</th>\n",
       "      <th>OnlineSecurity</th>\n",
       "      <th>...</th>\n",
       "      <th>DeviceProtection</th>\n",
       "      <th>TechSupport</th>\n",
       "      <th>StreamingTV</th>\n",
       "      <th>StreamingMovies</th>\n",
       "      <th>Contract</th>\n",
       "      <th>PaperlessBilling</th>\n",
       "      <th>PaymentMethod</th>\n",
       "      <th>MonthlyCharges</th>\n",
       "      <th>TotalCharges</th>\n",
       "      <th>Churn</th>\n",
       "    </tr>\n",
       "  </thead>\n",
       "  <tbody>\n",
       "    <tr>\n",
       "      <td>0</td>\n",
       "      <td>7590-VHVEG</td>\n",
       "      <td>Female</td>\n",
       "      <td>0</td>\n",
       "      <td>Yes</td>\n",
       "      <td>No</td>\n",
       "      <td>1</td>\n",
       "      <td>No</td>\n",
       "      <td>No phone service</td>\n",
       "      <td>DSL</td>\n",
       "      <td>No</td>\n",
       "      <td>...</td>\n",
       "      <td>No</td>\n",
       "      <td>No</td>\n",
       "      <td>No</td>\n",
       "      <td>No</td>\n",
       "      <td>Month-to-month</td>\n",
       "      <td>Yes</td>\n",
       "      <td>Electronic check</td>\n",
       "      <td>29.85</td>\n",
       "      <td>29.85</td>\n",
       "      <td>No</td>\n",
       "    </tr>\n",
       "    <tr>\n",
       "      <td>1</td>\n",
       "      <td>5575-GNVDE</td>\n",
       "      <td>Male</td>\n",
       "      <td>0</td>\n",
       "      <td>No</td>\n",
       "      <td>No</td>\n",
       "      <td>34</td>\n",
       "      <td>Yes</td>\n",
       "      <td>No</td>\n",
       "      <td>DSL</td>\n",
       "      <td>Yes</td>\n",
       "      <td>...</td>\n",
       "      <td>Yes</td>\n",
       "      <td>No</td>\n",
       "      <td>No</td>\n",
       "      <td>No</td>\n",
       "      <td>One year</td>\n",
       "      <td>No</td>\n",
       "      <td>Mailed check</td>\n",
       "      <td>56.95</td>\n",
       "      <td>1889.5</td>\n",
       "      <td>No</td>\n",
       "    </tr>\n",
       "    <tr>\n",
       "      <td>2</td>\n",
       "      <td>3668-QPYBK</td>\n",
       "      <td>Male</td>\n",
       "      <td>0</td>\n",
       "      <td>No</td>\n",
       "      <td>No</td>\n",
       "      <td>2</td>\n",
       "      <td>Yes</td>\n",
       "      <td>No</td>\n",
       "      <td>DSL</td>\n",
       "      <td>Yes</td>\n",
       "      <td>...</td>\n",
       "      <td>No</td>\n",
       "      <td>No</td>\n",
       "      <td>No</td>\n",
       "      <td>No</td>\n",
       "      <td>Month-to-month</td>\n",
       "      <td>Yes</td>\n",
       "      <td>Mailed check</td>\n",
       "      <td>53.85</td>\n",
       "      <td>108.15</td>\n",
       "      <td>Yes</td>\n",
       "    </tr>\n",
       "    <tr>\n",
       "      <td>3</td>\n",
       "      <td>7795-CFOCW</td>\n",
       "      <td>Male</td>\n",
       "      <td>0</td>\n",
       "      <td>No</td>\n",
       "      <td>No</td>\n",
       "      <td>45</td>\n",
       "      <td>No</td>\n",
       "      <td>No phone service</td>\n",
       "      <td>DSL</td>\n",
       "      <td>Yes</td>\n",
       "      <td>...</td>\n",
       "      <td>Yes</td>\n",
       "      <td>Yes</td>\n",
       "      <td>No</td>\n",
       "      <td>No</td>\n",
       "      <td>One year</td>\n",
       "      <td>No</td>\n",
       "      <td>Bank transfer (automatic)</td>\n",
       "      <td>42.30</td>\n",
       "      <td>1840.75</td>\n",
       "      <td>No</td>\n",
       "    </tr>\n",
       "    <tr>\n",
       "      <td>4</td>\n",
       "      <td>9237-HQITU</td>\n",
       "      <td>Female</td>\n",
       "      <td>0</td>\n",
       "      <td>No</td>\n",
       "      <td>No</td>\n",
       "      <td>2</td>\n",
       "      <td>Yes</td>\n",
       "      <td>No</td>\n",
       "      <td>Fiber optic</td>\n",
       "      <td>No</td>\n",
       "      <td>...</td>\n",
       "      <td>No</td>\n",
       "      <td>No</td>\n",
       "      <td>No</td>\n",
       "      <td>No</td>\n",
       "      <td>Month-to-month</td>\n",
       "      <td>Yes</td>\n",
       "      <td>Electronic check</td>\n",
       "      <td>70.70</td>\n",
       "      <td>151.65</td>\n",
       "      <td>Yes</td>\n",
       "    </tr>\n",
       "  </tbody>\n",
       "</table>\n",
       "<p>5 rows × 21 columns</p>\n",
       "</div>"
      ],
      "text/plain": [
       "   customerID  gender  SeniorCitizen Partner Dependents  tenure PhoneService  \\\n",
       "0  7590-VHVEG  Female              0     Yes         No       1           No   \n",
       "1  5575-GNVDE    Male              0      No         No      34          Yes   \n",
       "2  3668-QPYBK    Male              0      No         No       2          Yes   \n",
       "3  7795-CFOCW    Male              0      No         No      45           No   \n",
       "4  9237-HQITU  Female              0      No         No       2          Yes   \n",
       "\n",
       "      MultipleLines InternetService OnlineSecurity  ... DeviceProtection  \\\n",
       "0  No phone service             DSL             No  ...               No   \n",
       "1                No             DSL            Yes  ...              Yes   \n",
       "2                No             DSL            Yes  ...               No   \n",
       "3  No phone service             DSL            Yes  ...              Yes   \n",
       "4                No     Fiber optic             No  ...               No   \n",
       "\n",
       "  TechSupport StreamingTV StreamingMovies        Contract PaperlessBilling  \\\n",
       "0          No          No              No  Month-to-month              Yes   \n",
       "1          No          No              No        One year               No   \n",
       "2          No          No              No  Month-to-month              Yes   \n",
       "3         Yes          No              No        One year               No   \n",
       "4          No          No              No  Month-to-month              Yes   \n",
       "\n",
       "               PaymentMethod MonthlyCharges  TotalCharges Churn  \n",
       "0           Electronic check          29.85         29.85    No  \n",
       "1               Mailed check          56.95        1889.5    No  \n",
       "2               Mailed check          53.85        108.15   Yes  \n",
       "3  Bank transfer (automatic)          42.30       1840.75    No  \n",
       "4           Electronic check          70.70        151.65   Yes  \n",
       "\n",
       "[5 rows x 21 columns]"
      ]
     },
     "execution_count": 2,
     "metadata": {},
     "output_type": "execute_result"
    }
   ],
   "source": [
    "# Read the churn data into a dataframe object. Store in variable customers\n",
    "customers = pd.read_csv(\"/Users/natanbienstock/Documents/Grad School/Spring 2020/DAV 6050/Assignments/Week 4/WA_Fn-UseC_-Telco-Customer-Churn.csv\",\n",
    "                       header = 0)\n",
    "# Return first 5 rows of data\n",
    "customers.head()"
   ]
  },
  {
   "cell_type": "markdown",
   "metadata": {},
   "source": [
    "Step 2: Check for Empty Rows<br>\n",
    "Call the shape attribute of the customers dataframe to return the number of rows and columns in the dataframe. <br>\n",
    "There are 7043 rows in the dataframe and 21 columns. <br>\n",
    "Then call the dropna method on the customers dataframe with parameters how = all and inplace = True to delete all rows that are empty and store them in the current dataframe. <br>\n",
    "Call the shape attribute of the dataframe again to see how many rows were empty and deleted. <br>\n",
    "There were no empty rows in the dataframe, as the number of rows is still 7043."
   ]
  },
  {
   "cell_type": "code",
   "execution_count": 3,
   "metadata": {},
   "outputs": [
    {
     "data": {
      "text/plain": [
       "(7043, 21)"
      ]
     },
     "execution_count": 3,
     "metadata": {},
     "output_type": "execute_result"
    }
   ],
   "source": [
    "# Return the number of rows and columns in the dataframe\n",
    "customers.shape"
   ]
  },
  {
   "cell_type": "code",
   "execution_count": 4,
   "metadata": {},
   "outputs": [
    {
     "data": {
      "text/plain": [
       "(7043, 21)"
      ]
     },
     "execution_count": 4,
     "metadata": {},
     "output_type": "execute_result"
    }
   ],
   "source": [
    "# Drop all empty rows from the dataframe\n",
    "customers.dropna(how = 'all', inplace = True)\n",
    "# Return the number of rows and columns in the dataframe\n",
    "customers.shape"
   ]
  },
  {
   "cell_type": "markdown",
   "metadata": {},
   "source": [
    "Step 3: Check for Duplicates <br>\n",
    "Call the duplicated method to return a Series of True and False values for every row in the dataframe that is True if the row is a duplicate and false otherwise. <br>\n",
    "Call the sum method on that return to get the number of True values (True = 1, False = 0), or duplicate rows. <br>\n",
    "The return value is 0 which means there are no duplicate rows in the dataset."
   ]
  },
  {
   "cell_type": "code",
   "execution_count": 5,
   "metadata": {},
   "outputs": [
    {
     "data": {
      "text/plain": [
       "0"
      ]
     },
     "execution_count": 5,
     "metadata": {},
     "output_type": "execute_result"
    }
   ],
   "source": [
    "# Return the total number of duplicate rows in the dataframe\n",
    "customers.duplicated().sum()"
   ]
  },
  {
   "cell_type": "markdown",
   "metadata": {},
   "source": [
    "Step 4: Rename Columns <br>\n",
    "Return a list of column names using the columns attribute of the customers dataframe.<br>\n",
    "Use the rename method to rename all column names that begin with a lowercase letter to begin with an uppercase letter."
   ]
  },
  {
   "cell_type": "code",
   "execution_count": 6,
   "metadata": {},
   "outputs": [
    {
     "data": {
      "text/plain": [
       "Index(['customerID', 'gender', 'SeniorCitizen', 'Partner', 'Dependents',\n",
       "       'tenure', 'PhoneService', 'MultipleLines', 'InternetService',\n",
       "       'OnlineSecurity', 'OnlineBackup', 'DeviceProtection', 'TechSupport',\n",
       "       'StreamingTV', 'StreamingMovies', 'Contract', 'PaperlessBilling',\n",
       "       'PaymentMethod', 'MonthlyCharges', 'TotalCharges', 'Churn'],\n",
       "      dtype='object')"
      ]
     },
     "execution_count": 6,
     "metadata": {},
     "output_type": "execute_result"
    }
   ],
   "source": [
    "# Return the names of the column in the dataframe\n",
    "customers.columns"
   ]
  },
  {
   "cell_type": "code",
   "execution_count": 7,
   "metadata": {},
   "outputs": [],
   "source": [
    "# Rename the column names that start with lower case letters\n",
    "customers.rename(columns = {'customerID':'CustomerID', 'gender':'Gender', 'tenure':'Tenure'}, inplace = True)"
   ]
  },
  {
   "cell_type": "markdown",
   "metadata": {},
   "source": [
    "Step 5: Check for Errors in Categorical Columns <br>\n",
    "Call the value_counts method on each categorical variable in the dataframe to check whether there were any bad data in the colum. <br>\n",
    "The value_counts method returns the number of occurrences of each value in a column. <br>\n",
    "This can help you easily see whether there is bad data in the column if you see an unexpected value returned. <br>\n",
    "After calling the value_counts method on all categorical columns, there were no unexpected values, meaning there is no obviously bad data in those columns. "
   ]
  },
  {
   "cell_type": "code",
   "execution_count": 8,
   "metadata": {},
   "outputs": [
    {
     "data": {
      "text/plain": [
       "Male      3555\n",
       "Female    3488\n",
       "Name: Gender, dtype: int64"
      ]
     },
     "execution_count": 8,
     "metadata": {},
     "output_type": "execute_result"
    }
   ],
   "source": [
    "# Return the occurences of each value in Gender column\n",
    "customers.Gender.value_counts()"
   ]
  },
  {
   "cell_type": "code",
   "execution_count": 9,
   "metadata": {},
   "outputs": [
    {
     "data": {
      "text/plain": [
       "0    5901\n",
       "1    1142\n",
       "Name: SeniorCitizen, dtype: int64"
      ]
     },
     "execution_count": 9,
     "metadata": {},
     "output_type": "execute_result"
    }
   ],
   "source": [
    "# Return the occurences of each value in SeniorCitizen column\n",
    "\n",
    "customers.SeniorCitizen.value_counts()"
   ]
  },
  {
   "cell_type": "code",
   "execution_count": 10,
   "metadata": {},
   "outputs": [
    {
     "data": {
      "text/plain": [
       "No     3641\n",
       "Yes    3402\n",
       "Name: Partner, dtype: int64"
      ]
     },
     "execution_count": 10,
     "metadata": {},
     "output_type": "execute_result"
    }
   ],
   "source": [
    "# Return the occurences of each value in Partner column\n",
    "\n",
    "customers.Partner.value_counts()"
   ]
  },
  {
   "cell_type": "code",
   "execution_count": 11,
   "metadata": {},
   "outputs": [
    {
     "data": {
      "text/plain": [
       "No     4933\n",
       "Yes    2110\n",
       "Name: Dependents, dtype: int64"
      ]
     },
     "execution_count": 11,
     "metadata": {},
     "output_type": "execute_result"
    }
   ],
   "source": [
    "# Return the occurences of each value in Dependents column\n",
    "\n",
    "customers.Dependents.value_counts()"
   ]
  },
  {
   "cell_type": "code",
   "execution_count": 12,
   "metadata": {},
   "outputs": [
    {
     "data": {
      "text/plain": [
       "Yes    6361\n",
       "No      682\n",
       "Name: PhoneService, dtype: int64"
      ]
     },
     "execution_count": 12,
     "metadata": {},
     "output_type": "execute_result"
    }
   ],
   "source": [
    "# Return the occurences of each value in PhoneService column\n",
    "\n",
    "customers.PhoneService.value_counts()"
   ]
  },
  {
   "cell_type": "code",
   "execution_count": 13,
   "metadata": {},
   "outputs": [
    {
     "data": {
      "text/plain": [
       "No                  3390\n",
       "Yes                 2971\n",
       "No phone service     682\n",
       "Name: MultipleLines, dtype: int64"
      ]
     },
     "execution_count": 13,
     "metadata": {},
     "output_type": "execute_result"
    }
   ],
   "source": [
    "# Return the occurences of each value in MultipleLines column\n",
    "\n",
    "customers.MultipleLines.value_counts()"
   ]
  },
  {
   "cell_type": "code",
   "execution_count": 14,
   "metadata": {},
   "outputs": [
    {
     "data": {
      "text/plain": [
       "Fiber optic    3096\n",
       "DSL            2421\n",
       "No             1526\n",
       "Name: InternetService, dtype: int64"
      ]
     },
     "execution_count": 14,
     "metadata": {},
     "output_type": "execute_result"
    }
   ],
   "source": [
    "# Return the occurences of each value in InternetService column\n",
    "\n",
    "customers.InternetService.value_counts()"
   ]
  },
  {
   "cell_type": "code",
   "execution_count": 15,
   "metadata": {},
   "outputs": [
    {
     "data": {
      "text/plain": [
       "No                     3498\n",
       "Yes                    2019\n",
       "No internet service    1526\n",
       "Name: OnlineSecurity, dtype: int64"
      ]
     },
     "execution_count": 15,
     "metadata": {},
     "output_type": "execute_result"
    }
   ],
   "source": [
    "# Return the occurences of each value in OnlineSecurity column\n",
    "\n",
    "customers.OnlineSecurity.value_counts()"
   ]
  },
  {
   "cell_type": "code",
   "execution_count": 16,
   "metadata": {},
   "outputs": [
    {
     "data": {
      "text/plain": [
       "No                     3088\n",
       "Yes                    2429\n",
       "No internet service    1526\n",
       "Name: OnlineBackup, dtype: int64"
      ]
     },
     "execution_count": 16,
     "metadata": {},
     "output_type": "execute_result"
    }
   ],
   "source": [
    "# Return the occurences of each value in OnlineBackup column\n",
    "\n",
    "customers.OnlineBackup.value_counts()"
   ]
  },
  {
   "cell_type": "code",
   "execution_count": 17,
   "metadata": {},
   "outputs": [
    {
     "data": {
      "text/plain": [
       "No                     3095\n",
       "Yes                    2422\n",
       "No internet service    1526\n",
       "Name: DeviceProtection, dtype: int64"
      ]
     },
     "execution_count": 17,
     "metadata": {},
     "output_type": "execute_result"
    }
   ],
   "source": [
    "# Return the occurences of each value in DeviceProtection column\n",
    "\n",
    "customers.DeviceProtection.value_counts()"
   ]
  },
  {
   "cell_type": "code",
   "execution_count": 18,
   "metadata": {},
   "outputs": [
    {
     "data": {
      "text/plain": [
       "No                     3473\n",
       "Yes                    2044\n",
       "No internet service    1526\n",
       "Name: TechSupport, dtype: int64"
      ]
     },
     "execution_count": 18,
     "metadata": {},
     "output_type": "execute_result"
    }
   ],
   "source": [
    "# Return the occurences of each value in TechSupport column\n",
    "\n",
    "customers.TechSupport.value_counts()"
   ]
  },
  {
   "cell_type": "code",
   "execution_count": 19,
   "metadata": {},
   "outputs": [
    {
     "data": {
      "text/plain": [
       "No                     2810\n",
       "Yes                    2707\n",
       "No internet service    1526\n",
       "Name: StreamingTV, dtype: int64"
      ]
     },
     "execution_count": 19,
     "metadata": {},
     "output_type": "execute_result"
    }
   ],
   "source": [
    "# Return the occurences of each value in StreamingTV column\n",
    "\n",
    "customers.StreamingTV.value_counts()"
   ]
  },
  {
   "cell_type": "code",
   "execution_count": 20,
   "metadata": {},
   "outputs": [
    {
     "data": {
      "text/plain": [
       "No                     2785\n",
       "Yes                    2732\n",
       "No internet service    1526\n",
       "Name: StreamingMovies, dtype: int64"
      ]
     },
     "execution_count": 20,
     "metadata": {},
     "output_type": "execute_result"
    }
   ],
   "source": [
    "# Return the occurences of each value in StreamingMovies column\n",
    "\n",
    "customers.StreamingMovies.value_counts()"
   ]
  },
  {
   "cell_type": "code",
   "execution_count": 21,
   "metadata": {},
   "outputs": [
    {
     "data": {
      "text/plain": [
       "Month-to-month    3875\n",
       "Two year          1695\n",
       "One year          1473\n",
       "Name: Contract, dtype: int64"
      ]
     },
     "execution_count": 21,
     "metadata": {},
     "output_type": "execute_result"
    }
   ],
   "source": [
    "# Return the occurences of each value in Contract column\n",
    "\n",
    "customers.Contract.value_counts()"
   ]
  },
  {
   "cell_type": "code",
   "execution_count": 22,
   "metadata": {},
   "outputs": [
    {
     "data": {
      "text/plain": [
       "Yes    4171\n",
       "No     2872\n",
       "Name: PaperlessBilling, dtype: int64"
      ]
     },
     "execution_count": 22,
     "metadata": {},
     "output_type": "execute_result"
    }
   ],
   "source": [
    "# Return the occurences of each value in PaperlessBilling column\n",
    "\n",
    "customers.PaperlessBilling.value_counts()"
   ]
  },
  {
   "cell_type": "code",
   "execution_count": 23,
   "metadata": {},
   "outputs": [
    {
     "data": {
      "text/plain": [
       "Electronic check             2365\n",
       "Mailed check                 1612\n",
       "Bank transfer (automatic)    1544\n",
       "Credit card (automatic)      1522\n",
       "Name: PaymentMethod, dtype: int64"
      ]
     },
     "execution_count": 23,
     "metadata": {},
     "output_type": "execute_result"
    }
   ],
   "source": [
    "# Return the occurences of each value in PaymentMethod column\n",
    "\n",
    "customers.PaymentMethod.value_counts()"
   ]
  },
  {
   "cell_type": "code",
   "execution_count": 24,
   "metadata": {},
   "outputs": [
    {
     "data": {
      "text/plain": [
       "No     5174\n",
       "Yes    1869\n",
       "Name: Churn, dtype: int64"
      ]
     },
     "execution_count": 24,
     "metadata": {},
     "output_type": "execute_result"
    }
   ],
   "source": [
    "# Return the occurences of each value in Churn column\n",
    "\n",
    "customers.Churn.value_counts()"
   ]
  },
  {
   "attachments": {},
   "cell_type": "markdown",
   "metadata": {},
   "source": [
    "Step 6: Check for Outliers in Numeric Columns <br>\n",
    "Call the skew method on the numeric columns to determine whether there are any outliers in the data. <br>\n",
    "Ideally, skew should be between -1 and 1 so a skew greater than 1 indicates that there are extreme high values, and less than -1 indicates that there are extreme low values. <br>\n",
    "The three numeric columns in the dataset all have skew between -1 and 1 indicating that there are no outliers. <br> <br>\n",
    "In order to complete the above check on the TotalCharges column, I needed to convert the column to a numeric column. <br>\n",
    "This is because there are 11 blank values in the column, which occurs when the customer has not yet been with the company for a month (so they have not yet been charged). <br>\n",
    "I chose to change those blank values to the monthly charge rate, and treat those customers as if they had already been charged. <br>\n",
    "I used numpy's where method to set the value of the TotalCharges column to be the value of the MonthlyCharges column where the TotalCharges column was blank, and to be the current TotalCharges value otherwise.<br>\n",
    "This allowed me to then convert the datatype of the column to a numeric type using the astype method with parameter float, and proceed to find the skew of the column. <br><br>\n",
    "Additionally, I used seaborn's lmplot method to create a scatter plot (with a trend line) for the Tenure and Total Charges columns. <br>\n",
    "I wanted to see whether, as expected, there was a positive correlation with no real outliers between the length of time that a customer has been with the company and how much they have been charged. <br>\n",
    "There did not appear to be any outliers in the plot, so I concluded that there are no obvious numeric outliers in the dataset."
   ]
  },
  {
   "cell_type": "code",
   "execution_count": 25,
   "metadata": {},
   "outputs": [
    {
     "data": {
      "text/plain": [
       "0.2395397495619829"
      ]
     },
     "execution_count": 25,
     "metadata": {},
     "output_type": "execute_result"
    }
   ],
   "source": [
    "# Return the skew of the Tenure column\n",
    "\n",
    "customers.Tenure.skew()"
   ]
  },
  {
   "cell_type": "code",
   "execution_count": 26,
   "metadata": {},
   "outputs": [
    {
     "data": {
      "text/plain": [
       "-0.22052443394398033"
      ]
     },
     "execution_count": 26,
     "metadata": {},
     "output_type": "execute_result"
    }
   ],
   "source": [
    "# Return the skew of the MonthlyCharges column\n",
    "\n",
    "customers.MonthlyCharges.skew()"
   ]
  },
  {
   "cell_type": "code",
   "execution_count": 27,
   "metadata": {},
   "outputs": [],
   "source": [
    "# Set the TotalCharges to be the MonthlyCharges where the TotalCharges is blank (\" \")\n",
    "# and retain the current TotalCharges value otherwise\n",
    "\n",
    "customers['TotalCharges'] = np.where(customers.TotalCharges == \" \", customers.MonthlyCharges, customers.TotalCharges)"
   ]
  },
  {
   "cell_type": "code",
   "execution_count": 28,
   "metadata": {},
   "outputs": [],
   "source": [
    "# Convert the TotalCharges column to be of type float\n",
    "\n",
    "customers.TotalCharges = customers.TotalCharges.astype(float)"
   ]
  },
  {
   "cell_type": "code",
   "execution_count": 29,
   "metadata": {},
   "outputs": [
    {
     "data": {
      "text/plain": [
       "0.9633155974592842"
      ]
     },
     "execution_count": 29,
     "metadata": {},
     "output_type": "execute_result"
    }
   ],
   "source": [
    "# Return the skew of the TotalCharges column\n",
    "\n",
    "customers.TotalCharges.skew()"
   ]
  },
  {
   "cell_type": "code",
   "execution_count": 30,
   "metadata": {},
   "outputs": [
    {
     "data": {
      "text/plain": [
       "<seaborn.axisgrid.FacetGrid at 0x1a220cedd0>"
      ]
     },
     "execution_count": 30,
     "metadata": {},
     "output_type": "execute_result"
    },
    {
     "data": {
      "image/png": "[encoded data removed]",
      "text/plain": [
       "<Figure size 360x360 with 1 Axes>"
      ]
     },
     "metadata": {
      "needs_background": "light"
     },
     "output_type": "display_data"
    }
   ],
   "source": [
    "# Create a scatter plot with a trend line of Tenure vs. TotalCharges\n",
    "\n",
    "sns.lmplot(x = \"Tenure\", y = \"TotalCharges\", data = customers)"
   ]
  },
  {
   "cell_type": "markdown",
   "metadata": {},
   "source": [
    "Step 7: Create AverageCharge Column<br>\n",
    "I used numpy's where method to create a new column called AverageCharge in the dataset. <br>\n",
    "The AverageCharge is defined as the TotalCharges divided by the Tenure for each customer. <br>\n",
    "When tenure is zero, the AverageCharge is defined as the TotalCharges for the customer. <br>"
   ]
  },
  {
   "cell_type": "code",
   "execution_count": 31,
   "metadata": {},
   "outputs": [],
   "source": [
    "# Set AverageCharge to be the TotalCharges where the Tenure is 0\n",
    "# and the TotalCharges divided by the Tenure otherwise.\n",
    "\n",
    "customers['AverageCharge'] = np.where(customers.Tenure == 0, customers.TotalCharges, customers.TotalCharges/customers.Tenure)"
   ]
  },
  {
   "cell_type": "markdown",
   "metadata": {},
   "source": [
    "Step 8: Create Bins for Numeric Columns (Add Categorical Columns for Numeric Columns) <br>\n",
    "I used the cut method in pandas to create categorical bins for each of the numeric columns in the dataframe. <br>\n",
    "I decided to bin the columns into 4 bins, which is the parameter besides for the column name in the cut method. <br>\n",
    "I created 4 new columns for these categorical values: TenureBins (for Tenure), MonthlyChargeBins (for MonthlyCharge), TotalChargeBins (for TotalCharge), and AverageChargeBins (for AverageCharge). "
   ]
  },
  {
   "cell_type": "code",
   "execution_count": 32,
   "metadata": {},
   "outputs": [],
   "source": [
    "# Divide Tenure into 4 bins and set the TenureBins column to be the bin for each customer's Tenure. \n",
    "\n",
    "customers['TenureBins'] = pd.cut(customers.Tenure, 4)"
   ]
  },
  {
   "cell_type": "code",
   "execution_count": 33,
   "metadata": {},
   "outputs": [],
   "source": [
    "# Divide MonthlyCharges into 4 bins and set the MonthlyChargeBins column to be the bin \n",
    "# for each customer's MonthlyCharges\n",
    "\n",
    "customers['MonthlyChargeBins'] = pd.cut(customers.MonthlyCharges,4)"
   ]
  },
  {
   "cell_type": "code",
   "execution_count": 34,
   "metadata": {},
   "outputs": [],
   "source": [
    "# Divide TotalCharges into 4 bins and set the TotalChargeBins column to be the bin \n",
    "# for each customer's TotalCharges\n",
    "\n",
    "customers['TotalChargeBins'] = pd.cut(customers.TotalCharges,4)"
   ]
  },
  {
   "cell_type": "code",
   "execution_count": 35,
   "metadata": {},
   "outputs": [],
   "source": [
    "# Divide AverageCharge into 4 bins and set the AverageChargeBins column to be the bin \n",
    "# for each customer's AverageCharge\n",
    "\n",
    "customers['AverageChargeBins'] = pd.cut(customers.AverageCharge,4)"
   ]
  },
  {
   "cell_type": "markdown",
   "metadata": {},
   "source": [
    "<h3> KPIs </h3>"
   ]
  },
  {
   "cell_type": "markdown",
   "metadata": {},
   "source": [
    "**KPI 1: Acquire 1500 New Customers by June 2020** <br>\n",
    "An important metric for the company's success is how many new customers we are able to acquire. <br>\n",
    "Acquiring more customers ensures that the company continues to grow which is how more money is made. <br>\n",
    "A new customer is defined as any customer that has been with the company for three months or fewer. <br>\n",
    "A value of 1 is added to the NewCustomer column if the value in the Tenure column is less than or equal to 3, and a value of 0 is added to the NewCustomer column if the value in the Tenure column is greater than 3. <br>\n",
    "So each row either has a value of 1 or 0 in the NewCustomer column. <br>\n",
    "There were 1062 new customers in the previous 3 months, and we would like to have 1500 new customers next quarter (by June 2020)."
   ]
  },
  {
   "cell_type": "code",
   "execution_count": 36,
   "metadata": {},
   "outputs": [],
   "source": [
    "# Set NewCustomer column value to be 1 where Tenure is less than or equal to 3\n",
    "customers.loc[customers['Tenure'] <=3, 'NewCustomer'] = 1\n",
    "\n",
    "# Set NewCustomer column value to be 0 where Tenure is greater than 3\n",
    "customers.loc[customers['Tenure'] >3, 'NewCustomer'] = 0"
   ]
  },
  {
   "cell_type": "code",
   "execution_count": 37,
   "metadata": {},
   "outputs": [
    {
     "data": {
      "text/plain": [
       "1062.0"
      ]
     },
     "execution_count": 37,
     "metadata": {},
     "output_type": "execute_result"
    }
   ],
   "source": [
    "# Return the sum of the NewCustomer column (the number of new customers)\n",
    "customers.NewCustomer.sum()"
   ]
  },
  {
   "cell_type": "markdown",
   "metadata": {},
   "source": [
    "**KPI 2: Have 5250 High-Paying Customers by June 2020** <br>\n",
    "Not only does the company need to acquire more customers, but for the company to succeed, those customers also need to be paying the company a lot for service. <br>\n",
    "A high-paying customer is defined as a customer who is paying more than 60 to the company per month, with a very high paying customer paying more than 70. <br>\n",
    "The more high-paying and very high-paying customers that there are, the more money the company makes. <br>\n",
    "A value of 1 is added to the MonthlyChargKPI column if the MonthlyCharges column has a value greater than or equal to 70, a value of 0 is added to the MonthlyChargKPI column if the MonthlyCharges column has a value greater than or equal to 60, and a value of -1 is added to the MonthlyChargKPI column if the MonthlyCharges column has a value less than 60. <br>\n",
    "Each row either has a value of -1, 0, or 1 in the MonthlyChargeKPI column, as that is what it contributes to the KPI. <br>\n",
    "There are currently 4136 high-paying customers, and we would like to have 5250 high-paying customers by June 2020.  "
   ]
  },
  {
   "cell_type": "code",
   "execution_count": 38,
   "metadata": {},
   "outputs": [],
   "source": [
    "# Set MonthlyChargeKPI column value to be -1 where MonthlyCharges is less than 60\n",
    "customers.loc[customers['MonthlyCharges'] <60, 'MonthlyChargeKPI'] = -1\n",
    "# Set MonthlyChargeKPI column value to be 0 where MonthlyCharges is greater than or equal to 60\n",
    "customers.loc[customers['MonthlyCharges'] >=60, 'MonthlyChargeKPI'] = 0\n",
    "# Set MonthlyChargeKPI column value to be 1 where MonthlyCharges is greater than or equal to 70\n",
    "customers.loc[customers['MonthlyCharges'] >=70, 'MonthlyChargeKPI'] = 1"
   ]
  },
  {
   "cell_type": "code",
   "execution_count": 39,
   "metadata": {},
   "outputs": [
    {
     "data": {
      "text/plain": [
       " 1.0    3591\n",
       "-1.0    2907\n",
       " 0.0     545\n",
       "Name: MonthlyChargeKPI, dtype: int64"
      ]
     },
     "execution_count": 39,
     "metadata": {},
     "output_type": "execute_result"
    }
   ],
   "source": [
    "# Return the value counts for each value in the MonthlyChargeKPI column\n",
    "customers.MonthlyChargeKPI.value_counts()"
   ]
  },
  {
   "cell_type": "markdown",
   "metadata": {},
   "source": [
    "**KPI 3: Have 6300 Customers with Long-Term Contracts** <br>\n",
    "The final important KPI is to have 6300 customers with long-term contracts by June 2020. <br>\n",
    "It is important for our business to not only have more customers and have more high-paying customers, but to have more customers who are committed to having our service for at least 1 year. <br>\n",
    "A customer with a long-term contract is defined as a customer who has at least a one year contract, with a customer with a two year contract being even better. <br>\n",
    "A value of 1 is added to the LongTermContract column if the Contract column has a value of Two year, a value of 0 is added to the LongTermContract column if the Contract column has a value of One year, and a value of -1 is added to the LongTermContract column if the Contract column has a value of Month-to-month. <br>\n",
    "Month to month customers are bad for our company as it is easier for them to switch providers as their contract ends more frequently.<bR>\n",
    "Each row either has a value of -1, 0, or 1 in the LongTermContract column, as that is what it contributes to the KPI. <br>\n",
    "There are currently 5348 customers on long term contracts, and we would like to have 6300 customers with long-term contracts by June 2020."
   ]
  },
  {
   "cell_type": "code",
   "execution_count": 40,
   "metadata": {},
   "outputs": [],
   "source": [
    "# Set LongTermContract value to be -1 where Contract value is Month-to-month\n",
    "customers.loc[customers['Contract'] =='Month-to-month', 'LongTermContract'] = -1\n",
    "# Set LongTermContract value to be 0 where Contract value is One year\n",
    "customers.loc[customers['Contract'] =='One year', 'LongTermContract'] = 0\n",
    "# Set LongTermContract value to be 1 where Contract value is Two year\n",
    "customers.loc[customers['Contract'] =='Two year', 'LongTermContract'] = 1"
   ]
  },
  {
   "cell_type": "code",
   "execution_count": 41,
   "metadata": {},
   "outputs": [
    {
     "data": {
      "text/plain": [
       "-1.0    3875\n",
       " 1.0    1695\n",
       " 0.0    1473\n",
       "Name: LongTermContract, dtype: int64"
      ]
     },
     "execution_count": 41,
     "metadata": {},
     "output_type": "execute_result"
    }
   ],
   "source": [
    "# Return the value counts for each value in the LongTermContract column\n",
    "customers.LongTermContract.value_counts()"
   ]
  }
 ],
 "metadata": {
  "kernelspec": {
   "display_name": "Python 3",
   "language": "python",
   "name": "python3"
  },
  "language_info": {
   "codemirror_mode": {
    "name": "ipython",
    "version": 3
   },
   "file_extension": ".py",
   "mimetype": "text/x-python",
   "name": "python",
   "nbconvert_exporter": "python",
   "pygments_lexer": "ipython3",
   "version": "3.7.4"
  }
 },
 "nbformat": 4,
 "nbformat_minor": 2
}
